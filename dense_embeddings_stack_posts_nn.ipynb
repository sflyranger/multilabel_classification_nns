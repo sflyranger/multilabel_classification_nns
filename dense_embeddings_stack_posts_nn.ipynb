{
  "nbformat": 4,
  "nbformat_minor": 0,
  "metadata": {
    "colab": {
      "provenance": [],
      "gpuType": "T4",
      "authorship_tag": "ABX9TyNmsVQTHcQSlCispihMZyJZ",
      "include_colab_link": true
    },
    "kernelspec": {
      "name": "python3",
      "display_name": "Python 3"
    },
    "language_info": {
      "name": "python"
    },
    "accelerator": "GPU"
  },
  "cells": [
    {
      "cell_type": "markdown",
      "metadata": {
        "id": "view-in-github",
        "colab_type": "text"
      },
      "source": [
        "<a href=\"https://colab.research.google.com/github/sflyranger/multilabel_classification_nns/blob/main/dense_embeddings_stack_posts_nn.ipynb\" target=\"_parent\"><img src=\"https://colab.research.google.com/assets/colab-badge.svg\" alt=\"Open In Colab\"/></a>"
      ]
    },
    {
      "cell_type": "markdown",
      "source": [
        "# <font color = 'orange'>**Multi-label Classification: Dense Embeddings**\n",
        "\n",
        "#### <font color = 'orange'>*Using a multi layered perceptron for training*"
      ],
      "metadata": {
        "id": "ShYe6O-695Rx"
      }
    },
    {
      "cell_type": "markdown",
      "source": [
        "## <font color = 'orange'>**Setting up the environment**"
      ],
      "metadata": {
        "id": "rKRKx-RECo7F"
      }
    },
    {
      "cell_type": "code",
      "source": [
        "    import sys\n",
        "    if 'google.colab' in str(get_ipython()):  # If the code is running in Colab\n",
        "        # mount google drive\n",
        "        from google.colab import drive\n",
        "        drive.mount('/content/drive')\n",
        "        # set the base path to a Google Drive folder\n",
        "        base_path = '/content/drive/MyDrive/Colab Notebooks'\n",
        "        # Installing the latest torchinfo library\n",
        "        !pip install torchinfo -qq\n",
        "        !pip install torchmetrics -qq\n",
        "\n",
        "        sys.path.append('/content/drive/MyDrive/Colab Notebooks/custom-functions')# enabling custom function usage"
      ],
      "metadata": {
        "colab": {
          "base_uri": "https://localhost:8080/"
        },
        "id": "cv13d6wt-_Hd",
        "outputId": "15b7ef3a-7299-468a-9468-0215a88588cb"
      },
      "execution_count": null,
      "outputs": [
        {
          "output_type": "stream",
          "name": "stdout",
          "text": [
            "Mounted at /content/drive\n",
            "\u001b[2K   \u001b[90m━━━━━━━━━━━━━━━━━━━━━━━━━━━━━━━━━━━━━━━━\u001b[0m \u001b[32m869.2/869.2 kB\u001b[0m \u001b[31m19.1 MB/s\u001b[0m eta \u001b[36m0:00:00\u001b[0m\n",
            "\u001b[?25h"
          ]
        }
      ]
    },
    {
      "cell_type": "code",
      "source": [
        "# libraries for efficient serialization of python objects and for element tallying\n",
        "from collections import Counter\n",
        "import joblib\n",
        "\n",
        "# filesystem libraries, generating and displaying confusion matrices, binarization for one-hot labels, data splitting, and date-time manipulations\n",
        "from sklearn.metrics import confusion_matrix\n",
        "from datetime import datetime\n",
        "from pathlib import Path\n",
        "from sklearn.preprocessing import MultiLabelBinarizer\n",
        "from sklearn.model_selection import train_test_split\n",
        "\n",
        "# custom dataset making from torch\n",
        "from torch.utils.data import Dataset\n",
        "# utility for gradient clipping\n",
        "from torch.nn.utils import clip_grad_value_\n",
        "\n",
        "\n",
        "# library to compute class weights\n",
        "from sklearn.utils.class_weight import compute_class_weight\n",
        "\n",
        "# general purpose libraries\n",
        "import pandas as pd\n",
        "import numpy as np\n",
        "import random\n",
        "\n",
        "# for working with textual data vocabularies and for displaying model summaries\n",
        "from torchinfo import summary\n",
        "\n",
        "# library for tensor computations and neural network modules\n",
        "import torch\n",
        "import torch.nn as nn\n",
        "\n",
        "# libraries for plotting and visualization\n",
        "import matplotlib.pyplot as plt\n",
        "import seaborn as sns\n",
        "\n",
        "# printing library for formatted output of text\n",
        "from pprint import pprint\n",
        "\n",
        "# library for conversion of strings\n",
        "import ast\n",
        "\n",
        "# HammingDistance is useful for evaluating multi-label classification problems.\n",
        "from torchmetrics import HammingDistance\n",
        "\n",
        "# library for iterations within rows\n",
        "from itertools import combinations\n",
        "\n",
        "# importing functools for partial function usage in freezing\n",
        "from functools import partial\n",
        "\n",
        "\n"
      ],
      "metadata": {
        "id": "gSY8W-E5_TqO"
      },
      "execution_count": null,
      "outputs": []
    },
    {
      "cell_type": "code",
      "execution_count": null,
      "metadata": {
        "id": "S5Cz4FfD9bwr"
      },
      "outputs": [],
      "source": [
        "%load_ext autoreload\n",
        "%autoreload 2"
      ]
    },
    {
      "cell_type": "code",
      "source": [
        "# Appending the data set path\n",
        "base_folder = Path(base_path)\n",
        "data_folder = base_folder/'datasets/stack_posts_ds'\n",
        "model_folder = base_folder/'models/nlp_fall_2024/stack'"
      ],
      "metadata": {
        "id": "S16c0Ifd_o62"
      },
      "execution_count": null,
      "outputs": []
    },
    {
      "cell_type": "code",
      "source": [
        "# ensuring the model_folder is created in my drive\n",
        "model_folder.mkdir(parents = True, exist_ok =True)"
      ],
      "metadata": {
        "id": "Ar1v6j_nEr8-"
      },
      "execution_count": null,
      "outputs": []
    },
    {
      "cell_type": "markdown",
      "source": [
        "## <font color = 'orange'>**Loading the dataset**</font>\n",
        "\n",
        "- This data set is a kaggle competition data set where the goal of the competition was to classify different questions from StackExchange users for different tech domains.\n",
        "- Each post could mention multiple tech domains, hence why this model will be a multi-label classification task.\n",
        "- The goal here will be to use a dense embedding layer within my NN to classify and understand the difference between dense and sparse embeddings for classification and their benefits.\n",
        "- Overall, the layers within the entire model will consist of the following within a Simple Multi Layer Perceptron:\n",
        "  - **Embedding Bag layer**\n",
        "  - **Linear Layer 1**\n",
        "  - **Hidden layer 1**\n",
        "  - **ReLu**\n",
        "  - **Dropout layer 1**\n",
        "  - **BatchNorm layer 1**\n",
        "  - **Linear Layer 2**\n",
        "  - **Hidden Layer 2**\n",
        "  - **ReLu**\n",
        "  - **Dropout Layer 2**\n",
        "  - **BatchNorm Layer 2**\n",
        "  - **Output layer**\n",
        "\n",
        "- The hyperparameters that will be used to fine-tune the model are as follows:\n",
        "  - **Neurons for the first hidden layer**: 200\n",
        "  - **Neurons for the second hidden layer**: 100\n",
        "  - **Embedding Dimension**: 300\n",
        "  - **EPOCHS**: 5\n",
        "  - **BATCH_SIZE**: 128\n",
        "  - **LEARNING_RATE**: 0.001\n",
        "  - **WEIGHT_DECAY**: 0.000\n",
        "  - **CLIP_TYPE**: 'value'\n",
        "  - **PATIENCE**: 5\n",
        "  - **Optimizer**: AdamW\n",
        "\n",
        "- I will also be doing some gradient clipping and using the **Hamming Loss** as a metric, which I defined in other notebooks.\n",
        "\n"
      ],
      "metadata": {
        "id": "fZsbJkZsD85I"
      }
    },
    {
      "cell_type": "code",
      "source": [
        "# location of our slack data set\n",
        "stack_file = data_folder/'stack_posts_ds.joblib'\n",
        "\n",
        "# loading the data in via the stack file\n",
        "stack_df = joblib.load(stack_file)\n",
        "\n",
        "print(stack_df.head())\n",
        "print(stack_df.dtypes)\n",
        "print('Data shape:', stack_df.shape)"
      ],
      "metadata": {
        "colab": {
          "base_uri": "https://localhost:8080/"
        },
        "id": "HAp1467QL3n4",
        "outputId": "891db89e-34a3-486e-a6c1-83365c63b4e9"
      },
      "execution_count": null,
      "outputs": [
        {
          "output_type": "stream",
          "name": "stdout",
          "text": [
            "                                        cleaned_text               Tags  \\\n",
            "0  asp query stre dropdown webpage follow control...         c# asp.net   \n",
            "1  run javascript code server java code want run ...    java javascript   \n",
            "2  linq sql throw exception row find change hi li...         c# asp.net   \n",
            "3  run python script php server run nginx web ser...         php python   \n",
            "4  advice write function m try write function res...  javascript jquery   \n",
            "\n",
            "  Tag_Number  \n",
            "0     [0, 9]  \n",
            "1     [1, 3]  \n",
            "2     [0, 9]  \n",
            "3     [2, 7]  \n",
            "4     [3, 5]  \n",
            "cleaned_text    object\n",
            "Tags            object\n",
            "Tag_Number      object\n",
            "dtype: object\n",
            "Data shape: (47427, 3)\n"
          ]
        }
      ]
    },
    {
      "cell_type": "markdown",
      "source": [
        "## <font color = 'orange'>**Data Observations**</font>\n",
        "- We have three columns in the file:\n",
        "  - **cleaned_text**: contains the preprocessed posts in object format.\n",
        "  - **Tags**: contains the label name of the actual tags.\n",
        "  - **Tag Number**: contains our target classification labels for the given posts.\n",
        "  - The coordinating tags for each of the given tech domains are as follows:\n",
        "    - **0**: c#\n",
        "    - **1**: java\n",
        "    - **2**: php\n",
        "    - **3**: javascript\n",
        "    - **4**: android\n",
        "    - **5**: jquery\n",
        "    - **6**: c++\n",
        "    - **7**: python\n",
        "    - **8**: iphone\n",
        "    - **9**: asp.net\n",
        "\n",
        "- A problem I am noticing is that the tag_number element list is in object format, we need to convert it to integers.\n",
        "\n",
        "\n",
        "\n"
      ],
      "metadata": {
        "id": "-6DBhCAjM5tU"
      }
    },
    {
      "cell_type": "code",
      "source": [
        "# Function to convert list elements to integers, skipping None or empty lists\n",
        "def convert_list_to_int(tag_list):\n",
        "    if tag_list is None or len(tag_list) == 0:\n",
        "        return []  # Return an empty list if None or empty\n",
        "    return [int(x) for x in tag_list if x is not None]  # Skip None values\n",
        "\n",
        "# Apply the function to each row in the 'Tag_Number' column\n",
        "stack_df['Tag_Number'] = stack_df['Tag_Number'].apply(lambda x: convert_list_to_int(x if isinstance(x, list) else ast.literal_eval(str(x))))\n"
      ],
      "metadata": {
        "id": "0qdWsMCCPPQ9"
      },
      "execution_count": null,
      "outputs": []
    },
    {
      "cell_type": "code",
      "source": [
        "stack_df['Tag_Number'].head()"
      ],
      "metadata": {
        "colab": {
          "base_uri": "https://localhost:8080/",
          "height": 241
        },
        "id": "RZoRCT0QXVXv",
        "outputId": "aae1d279-df12-41b6-e92e-e0d57e208b67"
      },
      "execution_count": null,
      "outputs": [
        {
          "output_type": "execute_result",
          "data": {
            "text/plain": [
              "0    [0, 9]\n",
              "1    [1, 3]\n",
              "2    [0, 9]\n",
              "3    [2, 7]\n",
              "4    [3, 5]\n",
              "Name: Tag_Number, dtype: object"
            ],
            "text/html": [
              "<div>\n",
              "<style scoped>\n",
              "    .dataframe tbody tr th:only-of-type {\n",
              "        vertical-align: middle;\n",
              "    }\n",
              "\n",
              "    .dataframe tbody tr th {\n",
              "        vertical-align: top;\n",
              "    }\n",
              "\n",
              "    .dataframe thead th {\n",
              "        text-align: right;\n",
              "    }\n",
              "</style>\n",
              "<table border=\"1\" class=\"dataframe\">\n",
              "  <thead>\n",
              "    <tr style=\"text-align: right;\">\n",
              "      <th></th>\n",
              "      <th>Tag_Number</th>\n",
              "    </tr>\n",
              "  </thead>\n",
              "  <tbody>\n",
              "    <tr>\n",
              "      <th>0</th>\n",
              "      <td>[0, 9]</td>\n",
              "    </tr>\n",
              "    <tr>\n",
              "      <th>1</th>\n",
              "      <td>[1, 3]</td>\n",
              "    </tr>\n",
              "    <tr>\n",
              "      <th>2</th>\n",
              "      <td>[0, 9]</td>\n",
              "    </tr>\n",
              "    <tr>\n",
              "      <th>3</th>\n",
              "      <td>[2, 7]</td>\n",
              "    </tr>\n",
              "    <tr>\n",
              "      <th>4</th>\n",
              "      <td>[3, 5]</td>\n",
              "    </tr>\n",
              "  </tbody>\n",
              "</table>\n",
              "</div><br><label><b>dtype:</b> object</label>"
            ]
          },
          "metadata": {},
          "execution_count": 9
        }
      ]
    },
    {
      "cell_type": "code",
      "source": [
        "# Flatten the lists for counting\n",
        "all_tags = [tag for sublist in stack_df['Tag_Number'] for tag in sublist]\n",
        "\n",
        "# Count the occurrences of each tag\n",
        "tag_counts = Counter(all_tags)\n",
        "\n",
        "# Plotting the visual representation\n",
        "plt.figure(figsize=(10,6))\n",
        "plt.bar(tag_counts.keys(), tag_counts.values(), color='orange')\n",
        "plt.title('Distribution of Total Labels of Classes')\n",
        "plt.xlabel('Tag Label')\n",
        "plt.ylabel('Frequency')\n",
        "\n",
        "# Rotate x-tick labels for better readability if needed\n",
        "plt.xticks(rotation=90)\n",
        "\n",
        "plt.show()"
      ],
      "metadata": {
        "colab": {
          "base_uri": "https://localhost:8080/",
          "height": 559
        },
        "id": "OPbyK_aaSgnc",
        "outputId": "9a629570-97a1-4e42-de0c-a79c749bc8e0"
      },
      "execution_count": null,
      "outputs": [
        {
          "output_type": "display_data",
          "data": {
            "text/plain": [
              "<Figure size 1000x600 with 1 Axes>"
            ],
            "image/png": "[encoded data removed]"
          },
          "metadata": {}
        }
      ]
    },
    {
      "cell_type": "markdown",
      "source": [
        "<span style=\"color: orange;\">**The above plot shows the label distributions. It is important to note that this is not grouped by posts, as each post can have more than one label. Instead, it represents the distribution of labels in total. It seems like we have some class imbalance within our labels.**</span>\n"
      ],
      "metadata": {
        "id": "fsGJzZPWQAr0"
      }
    },
    {
      "cell_type": "markdown",
      "source": [
        "### <font color='orange'>**One Hot Encoding the Tags**</font>\n",
        "\n",
        "- Below, we will use the `MultiLabelBinarizer` from `sklearn` to one-hot encode our tags.\n"
      ],
      "metadata": {
        "id": "LPTHBYO6ZcIC"
      }
    },
    {
      "cell_type": "code",
      "source": [
        "# Setting the binarizer\n",
        "mlb = MultiLabelBinarizer()\n",
        "\n",
        "# transforming the tag numbers\n",
        "one_hot_encoded_tags = mlb.fit_transform(stack_df['Tag_Number'])\n",
        "\n",
        "# making a df and labeling based on the mlb stored classes\n",
        "\n",
        "ohe_tags_df = pd.DataFrame(one_hot_encoded_tags, columns = mlb.classes)\n",
        "\n",
        "# concatenating the dataframe to the original stack_df\n",
        "stack_df = pd.concat([stack_df, ohe_tags_df], axis = 1)\n",
        "\n",
        "#check to ensure the encoding is done\n",
        "stack_df.columns\n"
      ],
      "metadata": {
        "colab": {
          "base_uri": "https://localhost:8080/"
        },
        "id": "FrDqQOYZZbYr",
        "outputId": "6bb7be2a-8f35-42f2-b565-5fecd33a30e7"
      },
      "execution_count": null,
      "outputs": [
        {
          "output_type": "execute_result",
          "data": {
            "text/plain": [
              "Index(['cleaned_text', 'Tags', 'Tag_Number', 0, 1, 2, 3, 4, 5, 6, 7, 8, 9], dtype='object')"
            ]
          },
          "metadata": {},
          "execution_count": 11
        }
      ]
    },
    {
      "cell_type": "markdown",
      "source": [
        "### <font color = 'orange'>**Data Split**\n",
        "\n",
        "- split here will be done with 60% training, 20% for test, and the remaining 20% for validation.\n"
      ],
      "metadata": {
        "id": "7fAKW-tFfug3"
      }
    },
    {
      "cell_type": "code",
      "source": [
        "# Defining filepath for training data set\n",
        "train_clean_file = data_folder/'train_clean.pkl'\n",
        "\n",
        "# filepath for cleaned validation data\n",
        "valid_clean_file = data_folder/'valid_clean.pkl'\n",
        "\n",
        "# filepath for the testin data set\n",
        "test_clean_file = data_folder/'test_clean.pkl'\n"
      ],
      "metadata": {
        "id": "11KKzX6WNxlu"
      },
      "execution_count": null,
      "outputs": []
    },
    {
      "cell_type": "code",
      "source": [
        "# Creating feature text as X\n",
        "X = stack_df['cleaned_text']\n",
        "\n",
        "# Setting the target columns, (only the encoded columns)\n",
        "y = stack_df.drop(columns = ['cleaned_text','Tag_Number', 'Tags'])\n",
        "\n",
        "# Splitting into train_val and test\n",
        "X_train_val, X_test, y_train_val, y_test = train_test_split(X, y, test_size =0.2, random_state = 42)\n",
        "\n",
        "# Splitting train_val into val and train\n",
        "X_train, X_val, y_train, y_val = train_test_split(X_train_val, y_train_val, test_size = 0.2, random_state = 42)\n",
        "\n",
        "# Dumping the files to drive for later use if necessary\n",
        "joblib.dump((X_train, y_train), train_clean_file)\n",
        "\n",
        "joblib.dump((X_val, y_val), valid_clean_file)\n",
        "\n",
        "joblib.dump((X_test, y_test), test_clean_file)"
      ],
      "metadata": {
        "id": "yAaB_U8FEEBT"
      },
      "execution_count": null,
      "outputs": []
    },
    {
      "cell_type": "code",
      "source": [
        "print(len(X))\n",
        "print(len(y))"
      ],
      "metadata": {
        "colab": {
          "base_uri": "https://localhost:8080/"
        },
        "id": "Wpyr7JRauP70",
        "outputId": "b4801ae9-490e-440a-aa9b-05ec135495e6"
      },
      "execution_count": null,
      "outputs": [
        {
          "output_type": "stream",
          "name": "stdout",
          "text": [
            "47427\n",
            "47427\n"
          ]
        }
      ]
    },
    {
      "cell_type": "code",
      "source": [
        "print(f\"X_train size: {len(X_train)}, y_train size: {len(y_train)}\")\n",
        "print(f\"X_val size: {len(X_val)}, y_val size: {len(y_val)}\")\n",
        "print(f\"X_test size: {len(X_test)}, y_test size: {len(y_test)}\")\n"
      ],
      "metadata": {
        "colab": {
          "base_uri": "https://localhost:8080/"
        },
        "id": "XWS7MhNzugNH",
        "outputId": "30355f45-765b-4904-c9c4-e7d91bf5740e"
      },
      "execution_count": null,
      "outputs": [
        {
          "output_type": "stream",
          "name": "stdout",
          "text": [
            "X_train size: 30352, y_train size: 30352\n",
            "X_val size: 7589, y_val size: 7589\n",
            "X_test size: 9486, y_test size: 9486\n"
          ]
        }
      ]
    },
    {
      "cell_type": "code",
      "source": [
        "# Reloading the different splits\n",
        "X_train, y_train = joblib.load(train_clean_file)\n",
        "\n",
        "X_val, y_val = joblib.load(valid_clean_file)\n",
        "\n",
        "X_test, y_test = joblib.load(test_clean_file)"
      ],
      "metadata": {
        "id": "TSOQH8YSiVx6"
      },
      "execution_count": null,
      "outputs": []
    },
    {
      "cell_type": "code",
      "source": [
        "X_test.head()"
      ],
      "metadata": {
        "colab": {
          "base_uri": "https://localhost:8080/",
          "height": 241
        },
        "collapsed": true,
        "id": "ezA-fkcolrFl",
        "outputId": "88c9ef41-e556-4d4b-9680-338cdd22bd05"
      },
      "execution_count": null,
      "outputs": [
        {
          "output_type": "execute_result",
          "data": {
            "text/plain": [
              "39124    fadein fadeout div checkbox select unselect tr...\n",
              "29807    php output mvc good day   work mvc webpage c m...\n",
              "6340     compare part byte determine byte cursor adapte...\n",
              "24876    well way structure new keyword time ago come f...\n",
              "18035    loop json object array element try create loop...\n",
              "Name: cleaned_text, dtype: object"
            ],
            "text/html": [
              "<div>\n",
              "<style scoped>\n",
              "    .dataframe tbody tr th:only-of-type {\n",
              "        vertical-align: middle;\n",
              "    }\n",
              "\n",
              "    .dataframe tbody tr th {\n",
              "        vertical-align: top;\n",
              "    }\n",
              "\n",
              "    .dataframe thead th {\n",
              "        text-align: right;\n",
              "    }\n",
              "</style>\n",
              "<table border=\"1\" class=\"dataframe\">\n",
              "  <thead>\n",
              "    <tr style=\"text-align: right;\">\n",
              "      <th></th>\n",
              "      <th>cleaned_text</th>\n",
              "    </tr>\n",
              "  </thead>\n",
              "  <tbody>\n",
              "    <tr>\n",
              "      <th>39124</th>\n",
              "      <td>fadein fadeout div checkbox select unselect tr...</td>\n",
              "    </tr>\n",
              "    <tr>\n",
              "      <th>29807</th>\n",
              "      <td>php output mvc good day   work mvc webpage c m...</td>\n",
              "    </tr>\n",
              "    <tr>\n",
              "      <th>6340</th>\n",
              "      <td>compare part byte determine byte cursor adapte...</td>\n",
              "    </tr>\n",
              "    <tr>\n",
              "      <th>24876</th>\n",
              "      <td>well way structure new keyword time ago come f...</td>\n",
              "    </tr>\n",
              "    <tr>\n",
              "      <th>18035</th>\n",
              "      <td>loop json object array element try create loop...</td>\n",
              "    </tr>\n",
              "  </tbody>\n",
              "</table>\n",
              "</div><br><label><b>dtype:</b> object</label>"
            ]
          },
          "metadata": {},
          "execution_count": 24
        }
      ]
    },
    {
      "cell_type": "code",
      "source": [
        "X_val.head()"
      ],
      "metadata": {
        "colab": {
          "base_uri": "https://localhost:8080/",
          "height": 241
        },
        "collapsed": true,
        "id": "jjSNAEIWltnt",
        "outputId": "38bcde3f-b9a2-4c1a-c5d0-02847c2b75d6"
      },
      "execution_count": null,
      "outputs": [
        {
          "output_type": "execute_result",
          "data": {
            "text/plain": [
              "32515    click checkbox click surround td table column ...\n",
              "11737    dynamically change text base input field dynam...\n",
              "47176    div float try chat option user want chat certa...\n",
              "44434    will jquery form resubmit time work reason for...\n",
              "41899    instal application list icon list android try ...\n",
              "Name: cleaned_text, dtype: object"
            ],
            "text/html": [
              "<div>\n",
              "<style scoped>\n",
              "    .dataframe tbody tr th:only-of-type {\n",
              "        vertical-align: middle;\n",
              "    }\n",
              "\n",
              "    .dataframe tbody tr th {\n",
              "        vertical-align: top;\n",
              "    }\n",
              "\n",
              "    .dataframe thead th {\n",
              "        text-align: right;\n",
              "    }\n",
              "</style>\n",
              "<table border=\"1\" class=\"dataframe\">\n",
              "  <thead>\n",
              "    <tr style=\"text-align: right;\">\n",
              "      <th></th>\n",
              "      <th>cleaned_text</th>\n",
              "    </tr>\n",
              "  </thead>\n",
              "  <tbody>\n",
              "    <tr>\n",
              "      <th>32515</th>\n",
              "      <td>click checkbox click surround td table column ...</td>\n",
              "    </tr>\n",
              "    <tr>\n",
              "      <th>11737</th>\n",
              "      <td>dynamically change text base input field dynam...</td>\n",
              "    </tr>\n",
              "    <tr>\n",
              "      <th>47176</th>\n",
              "      <td>div float try chat option user want chat certa...</td>\n",
              "    </tr>\n",
              "    <tr>\n",
              "      <th>44434</th>\n",
              "      <td>will jquery form resubmit time work reason for...</td>\n",
              "    </tr>\n",
              "    <tr>\n",
              "      <th>41899</th>\n",
              "      <td>instal application list icon list android try ...</td>\n",
              "    </tr>\n",
              "  </tbody>\n",
              "</table>\n",
              "</div><br><label><b>dtype:</b> object</label>"
            ]
          },
          "metadata": {},
          "execution_count": 20
        }
      ]
    },
    {
      "cell_type": "code",
      "source": [
        "y_test.head()"
      ],
      "metadata": {
        "colab": {
          "base_uri": "https://localhost:8080/",
          "height": 206
        },
        "collapsed": true,
        "id": "m7ZUfNPSlvQQ",
        "outputId": "1e06601a-4be6-4ab7-db12-8ff52d73c970"
      },
      "execution_count": null,
      "outputs": [
        {
          "output_type": "execute_result",
          "data": {
            "text/plain": [
              "       0  1  2  3  4  5  6  7  8  9\n",
              "39124  0  0  0  1  0  1  0  0  0  0\n",
              "29807  0  0  1  0  0  0  0  0  0  1\n",
              "6340   0  1  0  0  1  0  0  0  0  0\n",
              "24876  0  1  0  0  0  0  1  0  0  0\n",
              "18035  0  0  0  1  0  1  0  0  0  0"
            ],
            "text/html": [
              "\n",
              "  <div id=\"df-82e398fe-4528-4602-a6f5-e40fab093ab0\" class=\"colab-df-container\">\n",
              "    <div>\n",
              "<style scoped>\n",
              "    .dataframe tbody tr th:only-of-type {\n",
              "        vertical-align: middle;\n",
              "    }\n",
              "\n",
              "    .dataframe tbody tr th {\n",
              "        vertical-align: top;\n",
              "    }\n",
              "\n",
              "    .dataframe thead th {\n",
              "        text-align: right;\n",
              "    }\n",
              "</style>\n",
              "<table border=\"1\" class=\"dataframe\">\n",
              "  <thead>\n",
              "    <tr style=\"text-align: right;\">\n",
              "      <th></th>\n",
              "      <th>0</th>\n",
              "      <th>1</th>\n",
              "      <th>2</th>\n",
              "      <th>3</th>\n",
              "      <th>4</th>\n",
              "      <th>5</th>\n",
              "      <th>6</th>\n",
              "      <th>7</th>\n",
              "      <th>8</th>\n",
              "      <th>9</th>\n",
              "    </tr>\n",
              "  </thead>\n",
              "  <tbody>\n",
              "    <tr>\n",
              "      <th>39124</th>\n",
              "      <td>0</td>\n",
              "      <td>0</td>\n",
              "      <td>0</td>\n",
              "      <td>1</td>\n",
              "      <td>0</td>\n",
              "      <td>1</td>\n",
              "      <td>0</td>\n",
              "      <td>0</td>\n",
              "      <td>0</td>\n",
              "      <td>0</td>\n",
              "    </tr>\n",
              "    <tr>\n",
              "      <th>29807</th>\n",
              "      <td>0</td>\n",
              "      <td>0</td>\n",
              "      <td>1</td>\n",
              "      <td>0</td>\n",
              "      <td>0</td>\n",
              "      <td>0</td>\n",
              "      <td>0</td>\n",
              "      <td>0</td>\n",
              "      <td>0</td>\n",
              "      <td>1</td>\n",
              "    </tr>\n",
              "    <tr>\n",
              "      <th>6340</th>\n",
              "      <td>0</td>\n",
              "      <td>1</td>\n",
              "      <td>0</td>\n",
              "      <td>0</td>\n",
              "      <td>1</td>\n",
              "      <td>0</td>\n",
              "      <td>0</td>\n",
              "      <td>0</td>\n",
              "      <td>0</td>\n",
              "      <td>0</td>\n",
              "    </tr>\n",
              "    <tr>\n",
              "      <th>24876</th>\n",
              "      <td>0</td>\n",
              "      <td>1</td>\n",
              "      <td>0</td>\n",
              "      <td>0</td>\n",
              "      <td>0</td>\n",
              "      <td>0</td>\n",
              "      <td>1</td>\n",
              "      <td>0</td>\n",
              "      <td>0</td>\n",
              "      <td>0</td>\n",
              "    </tr>\n",
              "    <tr>\n",
              "      <th>18035</th>\n",
              "      <td>0</td>\n",
              "      <td>0</td>\n",
              "      <td>0</td>\n",
              "      <td>1</td>\n",
              "      <td>0</td>\n",
              "      <td>1</td>\n",
              "      <td>0</td>\n",
              "      <td>0</td>\n",
              "      <td>0</td>\n",
              "      <td>0</td>\n",
              "    </tr>\n",
              "  </tbody>\n",
              "</table>\n",
              "</div>\n",
              "    <div class=\"colab-df-buttons\">\n",
              "\n",
              "  <div class=\"colab-df-container\">\n",
              "    <button class=\"colab-df-convert\" onclick=\"convertToInteractive('df-82e398fe-4528-4602-a6f5-e40fab093ab0')\"\n",
              "            title=\"Convert this dataframe to an interactive table.\"\n",
              "            style=\"display:none;\">\n",
              "\n",
              "  <svg xmlns=\"http://www.w3.org/2000/svg\" height=\"24px\" viewBox=\"0 -960 960 960\">\n",
              "    <path d=\"M120-120v-720h720v720H120Zm60-500h600v-160H180v160Zm220 220h160v-160H400v160Zm0 220h160v-160H400v160ZM180-400h160v-160H180v160Zm440 0h160v-160H620v160ZM180-180h160v-160H180v160Zm440 0h160v-160H620v160Z\"/>\n",
              "  </svg>\n",
              "    </button>\n",
              "\n",
              "  <style>\n",
              "    .colab-df-container {\n",
              "      display:flex;\n",
              "      gap: 12px;\n",
              "    }\n",
              "\n",
              "    .colab-df-convert {\n",
              "      background-color: #E8F0FE;\n",
              "      border: none;\n",
              "      border-radius: 50%;\n",
              "      cursor: pointer;\n",
              "      display: none;\n",
              "      fill: #1967D2;\n",
              "      height: 32px;\n",
              "      padding: 0 0 0 0;\n",
              "      width: 32px;\n",
              "    }\n",
              "\n",
              "    .colab-df-convert:hover {\n",
              "      background-color: #E2EBFA;\n",
              "      box-shadow: 0px 1px 2px rgba(60, 64, 67, 0.3), 0px 1px 3px 1px rgba(60, 64, 67, 0.15);\n",
              "      fill: #174EA6;\n",
              "    }\n",
              "\n",
              "    .colab-df-buttons div {\n",
              "      margin-bottom: 4px;\n",
              "    }\n",
              "\n",
              "    [theme=dark] .colab-df-convert {\n",
              "      background-color: #3B4455;\n",
              "      fill: #D2E3FC;\n",
              "    }\n",
              "\n",
              "    [theme=dark] .colab-df-convert:hover {\n",
              "      background-color: #434B5C;\n",
              "      box-shadow: 0px 1px 3px 1px rgba(0, 0, 0, 0.15);\n",
              "      filter: drop-shadow(0px 1px 2px rgba(0, 0, 0, 0.3));\n",
              "      fill: #FFFFFF;\n",
              "    }\n",
              "  </style>\n",
              "\n",
              "    <script>\n",
              "      const buttonEl =\n",
              "        document.querySelector('#df-82e398fe-4528-4602-a6f5-e40fab093ab0 button.colab-df-convert');\n",
              "      buttonEl.style.display =\n",
              "        google.colab.kernel.accessAllowed ? 'block' : 'none';\n",
              "\n",
              "      async function convertToInteractive(key) {\n",
              "        const element = document.querySelector('#df-82e398fe-4528-4602-a6f5-e40fab093ab0');\n",
              "        const dataTable =\n",
              "          await google.colab.kernel.invokeFunction('convertToInteractive',\n",
              "                                                    [key], {});\n",
              "        if (!dataTable) return;\n",
              "\n",
              "        const docLinkHtml = 'Like what you see? Visit the ' +\n",
              "          '<a target=\"_blank\" href=https://colab.research.google.com/notebooks/data_table.ipynb>data table notebook</a>'\n",
              "          + ' to learn more about interactive tables.';\n",
              "        element.innerHTML = '';\n",
              "        dataTable['output_type'] = 'display_data';\n",
              "        await google.colab.output.renderOutput(dataTable, element);\n",
              "        const docLink = document.createElement('div');\n",
              "        docLink.innerHTML = docLinkHtml;\n",
              "        element.appendChild(docLink);\n",
              "      }\n",
              "    </script>\n",
              "  </div>\n",
              "\n",
              "\n",
              "<div id=\"df-91c300e7-fe00-44fd-88c1-aafc7652e282\">\n",
              "  <button class=\"colab-df-quickchart\" onclick=\"quickchart('df-91c300e7-fe00-44fd-88c1-aafc7652e282')\"\n",
              "            title=\"Suggest charts\"\n",
              "            style=\"display:none;\">\n",
              "\n",
              "<svg xmlns=\"http://www.w3.org/2000/svg\" height=\"24px\"viewBox=\"0 0 24 24\"\n",
              "     width=\"24px\">\n",
              "    <g>\n",
              "        <path d=\"M19 3H5c-1.1 0-2 .9-2 2v14c0 1.1.9 2 2 2h14c1.1 0 2-.9 2-2V5c0-1.1-.9-2-2-2zM9 17H7v-7h2v7zm4 0h-2V7h2v10zm4 0h-2v-4h2v4z\"/>\n",
              "    </g>\n",
              "</svg>\n",
              "  </button>\n",
              "\n",
              "<style>\n",
              "  .colab-df-quickchart {\n",
              "      --bg-color: #E8F0FE;\n",
              "      --fill-color: #1967D2;\n",
              "      --hover-bg-color: #E2EBFA;\n",
              "      --hover-fill-color: #174EA6;\n",
              "      --disabled-fill-color: #AAA;\n",
              "      --disabled-bg-color: #DDD;\n",
              "  }\n",
              "\n",
              "  [theme=dark] .colab-df-quickchart {\n",
              "      --bg-color: #3B4455;\n",
              "      --fill-color: #D2E3FC;\n",
              "      --hover-bg-color: #434B5C;\n",
              "      --hover-fill-color: #FFFFFF;\n",
              "      --disabled-bg-color: #3B4455;\n",
              "      --disabled-fill-color: #666;\n",
              "  }\n",
              "\n",
              "  .colab-df-quickchart {\n",
              "    background-color: var(--bg-color);\n",
              "    border: none;\n",
              "    border-radius: 50%;\n",
              "    cursor: pointer;\n",
              "    display: none;\n",
              "    fill: var(--fill-color);\n",
              "    height: 32px;\n",
              "    padding: 0;\n",
              "    width: 32px;\n",
              "  }\n",
              "\n",
              "  .colab-df-quickchart:hover {\n",
              "    background-color: var(--hover-bg-color);\n",
              "    box-shadow: 0 1px 2px rgba(60, 64, 67, 0.3), 0 1px 3px 1px rgba(60, 64, 67, 0.15);\n",
              "    fill: var(--button-hover-fill-color);\n",
              "  }\n",
              "\n",
              "  .colab-df-quickchart-complete:disabled,\n",
              "  .colab-df-quickchart-complete:disabled:hover {\n",
              "    background-color: var(--disabled-bg-color);\n",
              "    fill: var(--disabled-fill-color);\n",
              "    box-shadow: none;\n",
              "  }\n",
              "\n",
              "  .colab-df-spinner {\n",
              "    border: 2px solid var(--fill-color);\n",
              "    border-color: transparent;\n",
              "    border-bottom-color: var(--fill-color);\n",
              "    animation:\n",
              "      spin 1s steps(1) infinite;\n",
              "  }\n",
              "\n",
              "  @keyframes spin {\n",
              "    0% {\n",
              "      border-color: transparent;\n",
              "      border-bottom-color: var(--fill-color);\n",
              "      border-left-color: var(--fill-color);\n",
              "    }\n",
              "    20% {\n",
              "      border-color: transparent;\n",
              "      border-left-color: var(--fill-color);\n",
              "      border-top-color: var(--fill-color);\n",
              "    }\n",
              "    30% {\n",
              "      border-color: transparent;\n",
              "      border-left-color: var(--fill-color);\n",
              "      border-top-color: var(--fill-color);\n",
              "      border-right-color: var(--fill-color);\n",
              "    }\n",
              "    40% {\n",
              "      border-color: transparent;\n",
              "      border-right-color: var(--fill-color);\n",
              "      border-top-color: var(--fill-color);\n",
              "    }\n",
              "    60% {\n",
              "      border-color: transparent;\n",
              "      border-right-color: var(--fill-color);\n",
              "    }\n",
              "    80% {\n",
              "      border-color: transparent;\n",
              "      border-right-color: var(--fill-color);\n",
              "      border-bottom-color: var(--fill-color);\n",
              "    }\n",
              "    90% {\n",
              "      border-color: transparent;\n",
              "      border-bottom-color: var(--fill-color);\n",
              "    }\n",
              "  }\n",
              "</style>\n",
              "\n",
              "  <script>\n",
              "    async function quickchart(key) {\n",
              "      const quickchartButtonEl =\n",
              "        document.querySelector('#' + key + ' button');\n",
              "      quickchartButtonEl.disabled = true;  // To prevent multiple clicks.\n",
              "      quickchartButtonEl.classList.add('colab-df-spinner');\n",
              "      try {\n",
              "        const charts = await google.colab.kernel.invokeFunction(\n",
              "            'suggestCharts', [key], {});\n",
              "      } catch (error) {\n",
              "        console.error('Error during call to suggestCharts:', error);\n",
              "      }\n",
              "      quickchartButtonEl.classList.remove('colab-df-spinner');\n",
              "      quickchartButtonEl.classList.add('colab-df-quickchart-complete');\n",
              "    }\n",
              "    (() => {\n",
              "      let quickchartButtonEl =\n",
              "        document.querySelector('#df-91c300e7-fe00-44fd-88c1-aafc7652e282 button');\n",
              "      quickchartButtonEl.style.display =\n",
              "        google.colab.kernel.accessAllowed ? 'block' : 'none';\n",
              "    })();\n",
              "  </script>\n",
              "</div>\n",
              "\n",
              "    </div>\n",
              "  </div>\n"
            ],
            "application/vnd.google.colaboratory.intrinsic+json": {
              "type": "dataframe",
              "variable_name": "y_test",
              "summary": "{\n  \"name\": \"y_test\",\n  \"rows\": 9486,\n  \"fields\": [\n    {\n      \"column\": 0,\n      \"properties\": {\n        \"dtype\": \"number\",\n        \"std\": 0,\n        \"min\": 0,\n        \"max\": 1,\n        \"num_unique_values\": 2,\n        \"samples\": [\n          1,\n          0\n        ],\n        \"semantic_type\": \"\",\n        \"description\": \"\"\n      }\n    },\n    {\n      \"column\": 1,\n      \"properties\": {\n        \"dtype\": \"number\",\n        \"std\": 0,\n        \"min\": 0,\n        \"max\": 1,\n        \"num_unique_values\": 2,\n        \"samples\": [\n          1,\n          0\n        ],\n        \"semantic_type\": \"\",\n        \"description\": \"\"\n      }\n    },\n    {\n      \"column\": 2,\n      \"properties\": {\n        \"dtype\": \"number\",\n        \"std\": 0,\n        \"min\": 0,\n        \"max\": 1,\n        \"num_unique_values\": 2,\n        \"samples\": [\n          1,\n          0\n        ],\n        \"semantic_type\": \"\",\n        \"description\": \"\"\n      }\n    },\n    {\n      \"column\": 3,\n      \"properties\": {\n        \"dtype\": \"number\",\n        \"std\": 0,\n        \"min\": 0,\n        \"max\": 1,\n        \"num_unique_values\": 2,\n        \"samples\": [\n          0,\n          1\n        ],\n        \"semantic_type\": \"\",\n        \"description\": \"\"\n      }\n    },\n    {\n      \"column\": 4,\n      \"properties\": {\n        \"dtype\": \"number\",\n        \"std\": 0,\n        \"min\": 0,\n        \"max\": 1,\n        \"num_unique_values\": 2,\n        \"samples\": [\n          1,\n          0\n        ],\n        \"semantic_type\": \"\",\n        \"description\": \"\"\n      }\n    },\n    {\n      \"column\": 5,\n      \"properties\": {\n        \"dtype\": \"number\",\n        \"std\": 0,\n        \"min\": 0,\n        \"max\": 1,\n        \"num_unique_values\": 2,\n        \"samples\": [\n          0,\n          1\n        ],\n        \"semantic_type\": \"\",\n        \"description\": \"\"\n      }\n    },\n    {\n      \"column\": 6,\n      \"properties\": {\n        \"dtype\": \"number\",\n        \"std\": 0,\n        \"min\": 0,\n        \"max\": 1,\n        \"num_unique_values\": 2,\n        \"samples\": [\n          1,\n          0\n        ],\n        \"semantic_type\": \"\",\n        \"description\": \"\"\n      }\n    },\n    {\n      \"column\": 7,\n      \"properties\": {\n        \"dtype\": \"number\",\n        \"std\": 0,\n        \"min\": 0,\n        \"max\": 1,\n        \"num_unique_values\": 2,\n        \"samples\": [\n          1,\n          0\n        ],\n        \"semantic_type\": \"\",\n        \"description\": \"\"\n      }\n    },\n    {\n      \"column\": 8,\n      \"properties\": {\n        \"dtype\": \"number\",\n        \"std\": 0,\n        \"min\": 0,\n        \"max\": 1,\n        \"num_unique_values\": 2,\n        \"samples\": [\n          1,\n          0\n        ],\n        \"semantic_type\": \"\",\n        \"description\": \"\"\n      }\n    },\n    {\n      \"column\": 9,\n      \"properties\": {\n        \"dtype\": \"number\",\n        \"std\": 0,\n        \"min\": 0,\n        \"max\": 1,\n        \"num_unique_values\": 2,\n        \"samples\": [\n          1,\n          0\n        ],\n        \"semantic_type\": \"\",\n        \"description\": \"\"\n      }\n    }\n  ]\n}"
            }
          },
          "metadata": {},
          "execution_count": 22
        }
      ]
    },
    {
      "cell_type": "code",
      "source": [
        "y_train.head()"
      ],
      "metadata": {
        "colab": {
          "base_uri": "https://localhost:8080/",
          "height": 206
        },
        "id": "s5fCv_NBlxtb",
        "outputId": "5f6d9b5e-6250-448d-d661-157a5f662641"
      },
      "execution_count": null,
      "outputs": [
        {
          "output_type": "execute_result",
          "data": {
            "text/plain": [
              "       0  1  2  3  4  5  6  7  8  9\n",
              "38601  0  1  0  0  1  0  0  0  0  0\n",
              "47089  0  0  0  1  0  1  0  0  0  0\n",
              "9397   0  0  0  1  0  1  0  0  0  0\n",
              "46311  1  0  0  0  0  0  0  0  0  1\n",
              "22026  1  0  0  0  0  0  0  0  0  1"
            ],
            "text/html": [
              "\n",
              "  <div id=\"df-39212066-cc49-4fcf-83bc-cae3d56ae63d\" class=\"colab-df-container\">\n",
              "    <div>\n",
              "<style scoped>\n",
              "    .dataframe tbody tr th:only-of-type {\n",
              "        vertical-align: middle;\n",
              "    }\n",
              "\n",
              "    .dataframe tbody tr th {\n",
              "        vertical-align: top;\n",
              "    }\n",
              "\n",
              "    .dataframe thead th {\n",
              "        text-align: right;\n",
              "    }\n",
              "</style>\n",
              "<table border=\"1\" class=\"dataframe\">\n",
              "  <thead>\n",
              "    <tr style=\"text-align: right;\">\n",
              "      <th></th>\n",
              "      <th>0</th>\n",
              "      <th>1</th>\n",
              "      <th>2</th>\n",
              "      <th>3</th>\n",
              "      <th>4</th>\n",
              "      <th>5</th>\n",
              "      <th>6</th>\n",
              "      <th>7</th>\n",
              "      <th>8</th>\n",
              "      <th>9</th>\n",
              "    </tr>\n",
              "  </thead>\n",
              "  <tbody>\n",
              "    <tr>\n",
              "      <th>38601</th>\n",
              "      <td>0</td>\n",
              "      <td>1</td>\n",
              "      <td>0</td>\n",
              "      <td>0</td>\n",
              "      <td>1</td>\n",
              "      <td>0</td>\n",
              "      <td>0</td>\n",
              "      <td>0</td>\n",
              "      <td>0</td>\n",
              "      <td>0</td>\n",
              "    </tr>\n",
              "    <tr>\n",
              "      <th>47089</th>\n",
              "      <td>0</td>\n",
              "      <td>0</td>\n",
              "      <td>0</td>\n",
              "      <td>1</td>\n",
              "      <td>0</td>\n",
              "      <td>1</td>\n",
              "      <td>0</td>\n",
              "      <td>0</td>\n",
              "      <td>0</td>\n",
              "      <td>0</td>\n",
              "    </tr>\n",
              "    <tr>\n",
              "      <th>9397</th>\n",
              "      <td>0</td>\n",
              "      <td>0</td>\n",
              "      <td>0</td>\n",
              "      <td>1</td>\n",
              "      <td>0</td>\n",
              "      <td>1</td>\n",
              "      <td>0</td>\n",
              "      <td>0</td>\n",
              "      <td>0</td>\n",
              "      <td>0</td>\n",
              "    </tr>\n",
              "    <tr>\n",
              "      <th>46311</th>\n",
              "      <td>1</td>\n",
              "      <td>0</td>\n",
              "      <td>0</td>\n",
              "      <td>0</td>\n",
              "      <td>0</td>\n",
              "      <td>0</td>\n",
              "      <td>0</td>\n",
              "      <td>0</td>\n",
              "      <td>0</td>\n",
              "      <td>1</td>\n",
              "    </tr>\n",
              "    <tr>\n",
              "      <th>22026</th>\n",
              "      <td>1</td>\n",
              "      <td>0</td>\n",
              "      <td>0</td>\n",
              "      <td>0</td>\n",
              "      <td>0</td>\n",
              "      <td>0</td>\n",
              "      <td>0</td>\n",
              "      <td>0</td>\n",
              "      <td>0</td>\n",
              "      <td>1</td>\n",
              "    </tr>\n",
              "  </tbody>\n",
              "</table>\n",
              "</div>\n",
              "    <div class=\"colab-df-buttons\">\n",
              "\n",
              "  <div class=\"colab-df-container\">\n",
              "    <button class=\"colab-df-convert\" onclick=\"convertToInteractive('df-39212066-cc49-4fcf-83bc-cae3d56ae63d')\"\n",
              "            title=\"Convert this dataframe to an interactive table.\"\n",
              "            style=\"display:none;\">\n",
              "\n",
              "  <svg xmlns=\"http://www.w3.org/2000/svg\" height=\"24px\" viewBox=\"0 -960 960 960\">\n",
              "    <path d=\"M120-120v-720h720v720H120Zm60-500h600v-160H180v160Zm220 220h160v-160H400v160Zm0 220h160v-160H400v160ZM180-400h160v-160H180v160Zm440 0h160v-160H620v160ZM180-180h160v-160H180v160Zm440 0h160v-160H620v160Z\"/>\n",
              "  </svg>\n",
              "    </button>\n",
              "\n",
              "  <style>\n",
              "    .colab-df-container {\n",
              "      display:flex;\n",
              "      gap: 12px;\n",
              "    }\n",
              "\n",
              "    .colab-df-convert {\n",
              "      background-color: #E8F0FE;\n",
              "      border: none;\n",
              "      border-radius: 50%;\n",
              "      cursor: pointer;\n",
              "      display: none;\n",
              "      fill: #1967D2;\n",
              "      height: 32px;\n",
              "      padding: 0 0 0 0;\n",
              "      width: 32px;\n",
              "    }\n",
              "\n",
              "    .colab-df-convert:hover {\n",
              "      background-color: #E2EBFA;\n",
              "      box-shadow: 0px 1px 2px rgba(60, 64, 67, 0.3), 0px 1px 3px 1px rgba(60, 64, 67, 0.15);\n",
              "      fill: #174EA6;\n",
              "    }\n",
              "\n",
              "    .colab-df-buttons div {\n",
              "      margin-bottom: 4px;\n",
              "    }\n",
              "\n",
              "    [theme=dark] .colab-df-convert {\n",
              "      background-color: #3B4455;\n",
              "      fill: #D2E3FC;\n",
              "    }\n",
              "\n",
              "    [theme=dark] .colab-df-convert:hover {\n",
              "      background-color: #434B5C;\n",
              "      box-shadow: 0px 1px 3px 1px rgba(0, 0, 0, 0.15);\n",
              "      filter: drop-shadow(0px 1px 2px rgba(0, 0, 0, 0.3));\n",
              "      fill: #FFFFFF;\n",
              "    }\n",
              "  </style>\n",
              "\n",
              "    <script>\n",
              "      const buttonEl =\n",
              "        document.querySelector('#df-39212066-cc49-4fcf-83bc-cae3d56ae63d button.colab-df-convert');\n",
              "      buttonEl.style.display =\n",
              "        google.colab.kernel.accessAllowed ? 'block' : 'none';\n",
              "\n",
              "      async function convertToInteractive(key) {\n",
              "        const element = document.querySelector('#df-39212066-cc49-4fcf-83bc-cae3d56ae63d');\n",
              "        const dataTable =\n",
              "          await google.colab.kernel.invokeFunction('convertToInteractive',\n",
              "                                                    [key], {});\n",
              "        if (!dataTable) return;\n",
              "\n",
              "        const docLinkHtml = 'Like what you see? Visit the ' +\n",
              "          '<a target=\"_blank\" href=https://colab.research.google.com/notebooks/data_table.ipynb>data table notebook</a>'\n",
              "          + ' to learn more about interactive tables.';\n",
              "        element.innerHTML = '';\n",
              "        dataTable['output_type'] = 'display_data';\n",
              "        await google.colab.output.renderOutput(dataTable, element);\n",
              "        const docLink = document.createElement('div');\n",
              "        docLink.innerHTML = docLinkHtml;\n",
              "        element.appendChild(docLink);\n",
              "      }\n",
              "    </script>\n",
              "  </div>\n",
              "\n",
              "\n",
              "<div id=\"df-a8675ef1-8b7d-4a54-948e-b3e3151049cd\">\n",
              "  <button class=\"colab-df-quickchart\" onclick=\"quickchart('df-a8675ef1-8b7d-4a54-948e-b3e3151049cd')\"\n",
              "            title=\"Suggest charts\"\n",
              "            style=\"display:none;\">\n",
              "\n",
              "<svg xmlns=\"http://www.w3.org/2000/svg\" height=\"24px\"viewBox=\"0 0 24 24\"\n",
              "     width=\"24px\">\n",
              "    <g>\n",
              "        <path d=\"M19 3H5c-1.1 0-2 .9-2 2v14c0 1.1.9 2 2 2h14c1.1 0 2-.9 2-2V5c0-1.1-.9-2-2-2zM9 17H7v-7h2v7zm4 0h-2V7h2v10zm4 0h-2v-4h2v4z\"/>\n",
              "    </g>\n",
              "</svg>\n",
              "  </button>\n",
              "\n",
              "<style>\n",
              "  .colab-df-quickchart {\n",
              "      --bg-color: #E8F0FE;\n",
              "      --fill-color: #1967D2;\n",
              "      --hover-bg-color: #E2EBFA;\n",
              "      --hover-fill-color: #174EA6;\n",
              "      --disabled-fill-color: #AAA;\n",
              "      --disabled-bg-color: #DDD;\n",
              "  }\n",
              "\n",
              "  [theme=dark] .colab-df-quickchart {\n",
              "      --bg-color: #3B4455;\n",
              "      --fill-color: #D2E3FC;\n",
              "      --hover-bg-color: #434B5C;\n",
              "      --hover-fill-color: #FFFFFF;\n",
              "      --disabled-bg-color: #3B4455;\n",
              "      --disabled-fill-color: #666;\n",
              "  }\n",
              "\n",
              "  .colab-df-quickchart {\n",
              "    background-color: var(--bg-color);\n",
              "    border: none;\n",
              "    border-radius: 50%;\n",
              "    cursor: pointer;\n",
              "    display: none;\n",
              "    fill: var(--fill-color);\n",
              "    height: 32px;\n",
              "    padding: 0;\n",
              "    width: 32px;\n",
              "  }\n",
              "\n",
              "  .colab-df-quickchart:hover {\n",
              "    background-color: var(--hover-bg-color);\n",
              "    box-shadow: 0 1px 2px rgba(60, 64, 67, 0.3), 0 1px 3px 1px rgba(60, 64, 67, 0.15);\n",
              "    fill: var(--button-hover-fill-color);\n",
              "  }\n",
              "\n",
              "  .colab-df-quickchart-complete:disabled,\n",
              "  .colab-df-quickchart-complete:disabled:hover {\n",
              "    background-color: var(--disabled-bg-color);\n",
              "    fill: var(--disabled-fill-color);\n",
              "    box-shadow: none;\n",
              "  }\n",
              "\n",
              "  .colab-df-spinner {\n",
              "    border: 2px solid var(--fill-color);\n",
              "    border-color: transparent;\n",
              "    border-bottom-color: var(--fill-color);\n",
              "    animation:\n",
              "      spin 1s steps(1) infinite;\n",
              "  }\n",
              "\n",
              "  @keyframes spin {\n",
              "    0% {\n",
              "      border-color: transparent;\n",
              "      border-bottom-color: var(--fill-color);\n",
              "      border-left-color: var(--fill-color);\n",
              "    }\n",
              "    20% {\n",
              "      border-color: transparent;\n",
              "      border-left-color: var(--fill-color);\n",
              "      border-top-color: var(--fill-color);\n",
              "    }\n",
              "    30% {\n",
              "      border-color: transparent;\n",
              "      border-left-color: var(--fill-color);\n",
              "      border-top-color: var(--fill-color);\n",
              "      border-right-color: var(--fill-color);\n",
              "    }\n",
              "    40% {\n",
              "      border-color: transparent;\n",
              "      border-right-color: var(--fill-color);\n",
              "      border-top-color: var(--fill-color);\n",
              "    }\n",
              "    60% {\n",
              "      border-color: transparent;\n",
              "      border-right-color: var(--fill-color);\n",
              "    }\n",
              "    80% {\n",
              "      border-color: transparent;\n",
              "      border-right-color: var(--fill-color);\n",
              "      border-bottom-color: var(--fill-color);\n",
              "    }\n",
              "    90% {\n",
              "      border-color: transparent;\n",
              "      border-bottom-color: var(--fill-color);\n",
              "    }\n",
              "  }\n",
              "</style>\n",
              "\n",
              "  <script>\n",
              "    async function quickchart(key) {\n",
              "      const quickchartButtonEl =\n",
              "        document.querySelector('#' + key + ' button');\n",
              "      quickchartButtonEl.disabled = true;  // To prevent multiple clicks.\n",
              "      quickchartButtonEl.classList.add('colab-df-spinner');\n",
              "      try {\n",
              "        const charts = await google.colab.kernel.invokeFunction(\n",
              "            'suggestCharts', [key], {});\n",
              "      } catch (error) {\n",
              "        console.error('Error during call to suggestCharts:', error);\n",
              "      }\n",
              "      quickchartButtonEl.classList.remove('colab-df-spinner');\n",
              "      quickchartButtonEl.classList.add('colab-df-quickchart-complete');\n",
              "    }\n",
              "    (() => {\n",
              "      let quickchartButtonEl =\n",
              "        document.querySelector('#df-a8675ef1-8b7d-4a54-948e-b3e3151049cd button');\n",
              "      quickchartButtonEl.style.display =\n",
              "        google.colab.kernel.accessAllowed ? 'block' : 'none';\n",
              "    })();\n",
              "  </script>\n",
              "</div>\n",
              "\n",
              "    </div>\n",
              "  </div>\n"
            ],
            "application/vnd.google.colaboratory.intrinsic+json": {
              "type": "dataframe",
              "variable_name": "y_train",
              "summary": "{\n  \"name\": \"y_train\",\n  \"rows\": 30352,\n  \"fields\": [\n    {\n      \"column\": 0,\n      \"properties\": {\n        \"dtype\": \"number\",\n        \"std\": 0,\n        \"min\": 0,\n        \"max\": 1,\n        \"num_unique_values\": 2,\n        \"samples\": [\n          1,\n          0\n        ],\n        \"semantic_type\": \"\",\n        \"description\": \"\"\n      }\n    },\n    {\n      \"column\": 1,\n      \"properties\": {\n        \"dtype\": \"number\",\n        \"std\": 0,\n        \"min\": 0,\n        \"max\": 1,\n        \"num_unique_values\": 2,\n        \"samples\": [\n          0,\n          1\n        ],\n        \"semantic_type\": \"\",\n        \"description\": \"\"\n      }\n    },\n    {\n      \"column\": 2,\n      \"properties\": {\n        \"dtype\": \"number\",\n        \"std\": 0,\n        \"min\": 0,\n        \"max\": 1,\n        \"num_unique_values\": 2,\n        \"samples\": [\n          1,\n          0\n        ],\n        \"semantic_type\": \"\",\n        \"description\": \"\"\n      }\n    },\n    {\n      \"column\": 3,\n      \"properties\": {\n        \"dtype\": \"number\",\n        \"std\": 0,\n        \"min\": 0,\n        \"max\": 1,\n        \"num_unique_values\": 2,\n        \"samples\": [\n          1,\n          0\n        ],\n        \"semantic_type\": \"\",\n        \"description\": \"\"\n      }\n    },\n    {\n      \"column\": 4,\n      \"properties\": {\n        \"dtype\": \"number\",\n        \"std\": 0,\n        \"min\": 0,\n        \"max\": 1,\n        \"num_unique_values\": 2,\n        \"samples\": [\n          0,\n          1\n        ],\n        \"semantic_type\": \"\",\n        \"description\": \"\"\n      }\n    },\n    {\n      \"column\": 5,\n      \"properties\": {\n        \"dtype\": \"number\",\n        \"std\": 0,\n        \"min\": 0,\n        \"max\": 1,\n        \"num_unique_values\": 2,\n        \"samples\": [\n          1,\n          0\n        ],\n        \"semantic_type\": \"\",\n        \"description\": \"\"\n      }\n    },\n    {\n      \"column\": 6,\n      \"properties\": {\n        \"dtype\": \"number\",\n        \"std\": 0,\n        \"min\": 0,\n        \"max\": 1,\n        \"num_unique_values\": 2,\n        \"samples\": [\n          1,\n          0\n        ],\n        \"semantic_type\": \"\",\n        \"description\": \"\"\n      }\n    },\n    {\n      \"column\": 7,\n      \"properties\": {\n        \"dtype\": \"number\",\n        \"std\": 0,\n        \"min\": 0,\n        \"max\": 1,\n        \"num_unique_values\": 2,\n        \"samples\": [\n          1,\n          0\n        ],\n        \"semantic_type\": \"\",\n        \"description\": \"\"\n      }\n    },\n    {\n      \"column\": 8,\n      \"properties\": {\n        \"dtype\": \"number\",\n        \"std\": 0,\n        \"min\": 0,\n        \"max\": 1,\n        \"num_unique_values\": 2,\n        \"samples\": [\n          1,\n          0\n        ],\n        \"semantic_type\": \"\",\n        \"description\": \"\"\n      }\n    },\n    {\n      \"column\": 9,\n      \"properties\": {\n        \"dtype\": \"number\",\n        \"std\": 0,\n        \"min\": 0,\n        \"max\": 1,\n        \"num_unique_values\": 2,\n        \"samples\": [\n          1,\n          0\n        ],\n        \"semantic_type\": \"\",\n        \"description\": \"\"\n      }\n    }\n  ]\n}"
            }
          },
          "metadata": {},
          "execution_count": 23
        }
      ]
    },
    {
      "cell_type": "code",
      "source": [
        "y_val.head()"
      ],
      "metadata": {
        "colab": {
          "base_uri": "https://localhost:8080/",
          "height": 206
        },
        "collapsed": true,
        "id": "lz2IB-qal-sG",
        "outputId": "7d3a0c0b-ce3b-4a74-a981-5b39d75d1d63"
      },
      "execution_count": null,
      "outputs": [
        {
          "output_type": "execute_result",
          "data": {
            "text/plain": [
              "       0  1  2  3  4  5  6  7  8  9\n",
              "32515  0  0  0  1  0  1  0  0  0  0\n",
              "11737  0  0  1  0  0  1  0  0  0  0\n",
              "47176  0  0  0  1  0  1  0  0  0  0\n",
              "44434  0  0  1  1  0  1  0  0  0  0\n",
              "41899  0  1  0  0  1  0  0  0  0  0"
            ],
            "text/html": [
              "\n",
              "  <div id=\"df-ed73124a-de65-487f-b55d-04e4e7a7a04c\" class=\"colab-df-container\">\n",
              "    <div>\n",
              "<style scoped>\n",
              "    .dataframe tbody tr th:only-of-type {\n",
              "        vertical-align: middle;\n",
              "    }\n",
              "\n",
              "    .dataframe tbody tr th {\n",
              "        vertical-align: top;\n",
              "    }\n",
              "\n",
              "    .dataframe thead th {\n",
              "        text-align: right;\n",
              "    }\n",
              "</style>\n",
              "<table border=\"1\" class=\"dataframe\">\n",
              "  <thead>\n",
              "    <tr style=\"text-align: right;\">\n",
              "      <th></th>\n",
              "      <th>0</th>\n",
              "      <th>1</th>\n",
              "      <th>2</th>\n",
              "      <th>3</th>\n",
              "      <th>4</th>\n",
              "      <th>5</th>\n",
              "      <th>6</th>\n",
              "      <th>7</th>\n",
              "      <th>8</th>\n",
              "      <th>9</th>\n",
              "    </tr>\n",
              "  </thead>\n",
              "  <tbody>\n",
              "    <tr>\n",
              "      <th>32515</th>\n",
              "      <td>0</td>\n",
              "      <td>0</td>\n",
              "      <td>0</td>\n",
              "      <td>1</td>\n",
              "      <td>0</td>\n",
              "      <td>1</td>\n",
              "      <td>0</td>\n",
              "      <td>0</td>\n",
              "      <td>0</td>\n",
              "      <td>0</td>\n",
              "    </tr>\n",
              "    <tr>\n",
              "      <th>11737</th>\n",
              "      <td>0</td>\n",
              "      <td>0</td>\n",
              "      <td>1</td>\n",
              "      <td>0</td>\n",
              "      <td>0</td>\n",
              "      <td>1</td>\n",
              "      <td>0</td>\n",
              "      <td>0</td>\n",
              "      <td>0</td>\n",
              "      <td>0</td>\n",
              "    </tr>\n",
              "    <tr>\n",
              "      <th>47176</th>\n",
              "      <td>0</td>\n",
              "      <td>0</td>\n",
              "      <td>0</td>\n",
              "      <td>1</td>\n",
              "      <td>0</td>\n",
              "      <td>1</td>\n",
              "      <td>0</td>\n",
              "      <td>0</td>\n",
              "      <td>0</td>\n",
              "      <td>0</td>\n",
              "    </tr>\n",
              "    <tr>\n",
              "      <th>44434</th>\n",
              "      <td>0</td>\n",
              "      <td>0</td>\n",
              "      <td>1</td>\n",
              "      <td>1</td>\n",
              "      <td>0</td>\n",
              "      <td>1</td>\n",
              "      <td>0</td>\n",
              "      <td>0</td>\n",
              "      <td>0</td>\n",
              "      <td>0</td>\n",
              "    </tr>\n",
              "    <tr>\n",
              "      <th>41899</th>\n",
              "      <td>0</td>\n",
              "      <td>1</td>\n",
              "      <td>0</td>\n",
              "      <td>0</td>\n",
              "      <td>1</td>\n",
              "      <td>0</td>\n",
              "      <td>0</td>\n",
              "      <td>0</td>\n",
              "      <td>0</td>\n",
              "      <td>0</td>\n",
              "    </tr>\n",
              "  </tbody>\n",
              "</table>\n",
              "</div>\n",
              "    <div class=\"colab-df-buttons\">\n",
              "\n",
              "  <div class=\"colab-df-container\">\n",
              "    <button class=\"colab-df-convert\" onclick=\"convertToInteractive('df-ed73124a-de65-487f-b55d-04e4e7a7a04c')\"\n",
              "            title=\"Convert this dataframe to an interactive table.\"\n",
              "            style=\"display:none;\">\n",
              "\n",
              "  <svg xmlns=\"http://www.w3.org/2000/svg\" height=\"24px\" viewBox=\"0 -960 960 960\">\n",
              "    <path d=\"M120-120v-720h720v720H120Zm60-500h600v-160H180v160Zm220 220h160v-160H400v160Zm0 220h160v-160H400v160ZM180-400h160v-160H180v160Zm440 0h160v-160H620v160ZM180-180h160v-160H180v160Zm440 0h160v-160H620v160Z\"/>\n",
              "  </svg>\n",
              "    </button>\n",
              "\n",
              "  <style>\n",
              "    .colab-df-container {\n",
              "      display:flex;\n",
              "      gap: 12px;\n",
              "    }\n",
              "\n",
              "    .colab-df-convert {\n",
              "      background-color: #E8F0FE;\n",
              "      border: none;\n",
              "      border-radius: 50%;\n",
              "      cursor: pointer;\n",
              "      display: none;\n",
              "      fill: #1967D2;\n",
              "      height: 32px;\n",
              "      padding: 0 0 0 0;\n",
              "      width: 32px;\n",
              "    }\n",
              "\n",
              "    .colab-df-convert:hover {\n",
              "      background-color: #E2EBFA;\n",
              "      box-shadow: 0px 1px 2px rgba(60, 64, 67, 0.3), 0px 1px 3px 1px rgba(60, 64, 67, 0.15);\n",
              "      fill: #174EA6;\n",
              "    }\n",
              "\n",
              "    .colab-df-buttons div {\n",
              "      margin-bottom: 4px;\n",
              "    }\n",
              "\n",
              "    [theme=dark] .colab-df-convert {\n",
              "      background-color: #3B4455;\n",
              "      fill: #D2E3FC;\n",
              "    }\n",
              "\n",
              "    [theme=dark] .colab-df-convert:hover {\n",
              "      background-color: #434B5C;\n",
              "      box-shadow: 0px 1px 3px 1px rgba(0, 0, 0, 0.15);\n",
              "      filter: drop-shadow(0px 1px 2px rgba(0, 0, 0, 0.3));\n",
              "      fill: #FFFFFF;\n",
              "    }\n",
              "  </style>\n",
              "\n",
              "    <script>\n",
              "      const buttonEl =\n",
              "        document.querySelector('#df-ed73124a-de65-487f-b55d-04e4e7a7a04c button.colab-df-convert');\n",
              "      buttonEl.style.display =\n",
              "        google.colab.kernel.accessAllowed ? 'block' : 'none';\n",
              "\n",
              "      async function convertToInteractive(key) {\n",
              "        const element = document.querySelector('#df-ed73124a-de65-487f-b55d-04e4e7a7a04c');\n",
              "        const dataTable =\n",
              "          await google.colab.kernel.invokeFunction('convertToInteractive',\n",
              "                                                    [key], {});\n",
              "        if (!dataTable) return;\n",
              "\n",
              "        const docLinkHtml = 'Like what you see? Visit the ' +\n",
              "          '<a target=\"_blank\" href=https://colab.research.google.com/notebooks/data_table.ipynb>data table notebook</a>'\n",
              "          + ' to learn more about interactive tables.';\n",
              "        element.innerHTML = '';\n",
              "        dataTable['output_type'] = 'display_data';\n",
              "        await google.colab.output.renderOutput(dataTable, element);\n",
              "        const docLink = document.createElement('div');\n",
              "        docLink.innerHTML = docLinkHtml;\n",
              "        element.appendChild(docLink);\n",
              "      }\n",
              "    </script>\n",
              "  </div>\n",
              "\n",
              "\n",
              "<div id=\"df-2549fa79-70d7-4d15-ab8b-9dff3c5c7572\">\n",
              "  <button class=\"colab-df-quickchart\" onclick=\"quickchart('df-2549fa79-70d7-4d15-ab8b-9dff3c5c7572')\"\n",
              "            title=\"Suggest charts\"\n",
              "            style=\"display:none;\">\n",
              "\n",
              "<svg xmlns=\"http://www.w3.org/2000/svg\" height=\"24px\"viewBox=\"0 0 24 24\"\n",
              "     width=\"24px\">\n",
              "    <g>\n",
              "        <path d=\"M19 3H5c-1.1 0-2 .9-2 2v14c0 1.1.9 2 2 2h14c1.1 0 2-.9 2-2V5c0-1.1-.9-2-2-2zM9 17H7v-7h2v7zm4 0h-2V7h2v10zm4 0h-2v-4h2v4z\"/>\n",
              "    </g>\n",
              "</svg>\n",
              "  </button>\n",
              "\n",
              "<style>\n",
              "  .colab-df-quickchart {\n",
              "      --bg-color: #E8F0FE;\n",
              "      --fill-color: #1967D2;\n",
              "      --hover-bg-color: #E2EBFA;\n",
              "      --hover-fill-color: #174EA6;\n",
              "      --disabled-fill-color: #AAA;\n",
              "      --disabled-bg-color: #DDD;\n",
              "  }\n",
              "\n",
              "  [theme=dark] .colab-df-quickchart {\n",
              "      --bg-color: #3B4455;\n",
              "      --fill-color: #D2E3FC;\n",
              "      --hover-bg-color: #434B5C;\n",
              "      --hover-fill-color: #FFFFFF;\n",
              "      --disabled-bg-color: #3B4455;\n",
              "      --disabled-fill-color: #666;\n",
              "  }\n",
              "\n",
              "  .colab-df-quickchart {\n",
              "    background-color: var(--bg-color);\n",
              "    border: none;\n",
              "    border-radius: 50%;\n",
              "    cursor: pointer;\n",
              "    display: none;\n",
              "    fill: var(--fill-color);\n",
              "    height: 32px;\n",
              "    padding: 0;\n",
              "    width: 32px;\n",
              "  }\n",
              "\n",
              "  .colab-df-quickchart:hover {\n",
              "    background-color: var(--hover-bg-color);\n",
              "    box-shadow: 0 1px 2px rgba(60, 64, 67, 0.3), 0 1px 3px 1px rgba(60, 64, 67, 0.15);\n",
              "    fill: var(--button-hover-fill-color);\n",
              "  }\n",
              "\n",
              "  .colab-df-quickchart-complete:disabled,\n",
              "  .colab-df-quickchart-complete:disabled:hover {\n",
              "    background-color: var(--disabled-bg-color);\n",
              "    fill: var(--disabled-fill-color);\n",
              "    box-shadow: none;\n",
              "  }\n",
              "\n",
              "  .colab-df-spinner {\n",
              "    border: 2px solid var(--fill-color);\n",
              "    border-color: transparent;\n",
              "    border-bottom-color: var(--fill-color);\n",
              "    animation:\n",
              "      spin 1s steps(1) infinite;\n",
              "  }\n",
              "\n",
              "  @keyframes spin {\n",
              "    0% {\n",
              "      border-color: transparent;\n",
              "      border-bottom-color: var(--fill-color);\n",
              "      border-left-color: var(--fill-color);\n",
              "    }\n",
              "    20% {\n",
              "      border-color: transparent;\n",
              "      border-left-color: var(--fill-color);\n",
              "      border-top-color: var(--fill-color);\n",
              "    }\n",
              "    30% {\n",
              "      border-color: transparent;\n",
              "      border-left-color: var(--fill-color);\n",
              "      border-top-color: var(--fill-color);\n",
              "      border-right-color: var(--fill-color);\n",
              "    }\n",
              "    40% {\n",
              "      border-color: transparent;\n",
              "      border-right-color: var(--fill-color);\n",
              "      border-top-color: var(--fill-color);\n",
              "    }\n",
              "    60% {\n",
              "      border-color: transparent;\n",
              "      border-right-color: var(--fill-color);\n",
              "    }\n",
              "    80% {\n",
              "      border-color: transparent;\n",
              "      border-right-color: var(--fill-color);\n",
              "      border-bottom-color: var(--fill-color);\n",
              "    }\n",
              "    90% {\n",
              "      border-color: transparent;\n",
              "      border-bottom-color: var(--fill-color);\n",
              "    }\n",
              "  }\n",
              "</style>\n",
              "\n",
              "  <script>\n",
              "    async function quickchart(key) {\n",
              "      const quickchartButtonEl =\n",
              "        document.querySelector('#' + key + ' button');\n",
              "      quickchartButtonEl.disabled = true;  // To prevent multiple clicks.\n",
              "      quickchartButtonEl.classList.add('colab-df-spinner');\n",
              "      try {\n",
              "        const charts = await google.colab.kernel.invokeFunction(\n",
              "            'suggestCharts', [key], {});\n",
              "      } catch (error) {\n",
              "        console.error('Error during call to suggestCharts:', error);\n",
              "      }\n",
              "      quickchartButtonEl.classList.remove('colab-df-spinner');\n",
              "      quickchartButtonEl.classList.add('colab-df-quickchart-complete');\n",
              "    }\n",
              "    (() => {\n",
              "      let quickchartButtonEl =\n",
              "        document.querySelector('#df-2549fa79-70d7-4d15-ab8b-9dff3c5c7572 button');\n",
              "      quickchartButtonEl.style.display =\n",
              "        google.colab.kernel.accessAllowed ? 'block' : 'none';\n",
              "    })();\n",
              "  </script>\n",
              "</div>\n",
              "\n",
              "    </div>\n",
              "  </div>\n"
            ],
            "application/vnd.google.colaboratory.intrinsic+json": {
              "type": "dataframe",
              "variable_name": "y_val",
              "summary": "{\n  \"name\": \"y_val\",\n  \"rows\": 7589,\n  \"fields\": [\n    {\n      \"column\": 0,\n      \"properties\": {\n        \"dtype\": \"number\",\n        \"std\": 0,\n        \"min\": 0,\n        \"max\": 1,\n        \"num_unique_values\": 2,\n        \"samples\": [\n          1,\n          0\n        ],\n        \"semantic_type\": \"\",\n        \"description\": \"\"\n      }\n    },\n    {\n      \"column\": 1,\n      \"properties\": {\n        \"dtype\": \"number\",\n        \"std\": 0,\n        \"min\": 0,\n        \"max\": 1,\n        \"num_unique_values\": 2,\n        \"samples\": [\n          1,\n          0\n        ],\n        \"semantic_type\": \"\",\n        \"description\": \"\"\n      }\n    },\n    {\n      \"column\": 2,\n      \"properties\": {\n        \"dtype\": \"number\",\n        \"std\": 0,\n        \"min\": 0,\n        \"max\": 1,\n        \"num_unique_values\": 2,\n        \"samples\": [\n          1,\n          0\n        ],\n        \"semantic_type\": \"\",\n        \"description\": \"\"\n      }\n    },\n    {\n      \"column\": 3,\n      \"properties\": {\n        \"dtype\": \"number\",\n        \"std\": 0,\n        \"min\": 0,\n        \"max\": 1,\n        \"num_unique_values\": 2,\n        \"samples\": [\n          0,\n          1\n        ],\n        \"semantic_type\": \"\",\n        \"description\": \"\"\n      }\n    },\n    {\n      \"column\": 4,\n      \"properties\": {\n        \"dtype\": \"number\",\n        \"std\": 0,\n        \"min\": 0,\n        \"max\": 1,\n        \"num_unique_values\": 2,\n        \"samples\": [\n          1,\n          0\n        ],\n        \"semantic_type\": \"\",\n        \"description\": \"\"\n      }\n    },\n    {\n      \"column\": 5,\n      \"properties\": {\n        \"dtype\": \"number\",\n        \"std\": 0,\n        \"min\": 0,\n        \"max\": 1,\n        \"num_unique_values\": 2,\n        \"samples\": [\n          0,\n          1\n        ],\n        \"semantic_type\": \"\",\n        \"description\": \"\"\n      }\n    },\n    {\n      \"column\": 6,\n      \"properties\": {\n        \"dtype\": \"number\",\n        \"std\": 0,\n        \"min\": 0,\n        \"max\": 1,\n        \"num_unique_values\": 2,\n        \"samples\": [\n          1,\n          0\n        ],\n        \"semantic_type\": \"\",\n        \"description\": \"\"\n      }\n    },\n    {\n      \"column\": 7,\n      \"properties\": {\n        \"dtype\": \"number\",\n        \"std\": 0,\n        \"min\": 0,\n        \"max\": 1,\n        \"num_unique_values\": 2,\n        \"samples\": [\n          1,\n          0\n        ],\n        \"semantic_type\": \"\",\n        \"description\": \"\"\n      }\n    },\n    {\n      \"column\": 8,\n      \"properties\": {\n        \"dtype\": \"number\",\n        \"std\": 0,\n        \"min\": 0,\n        \"max\": 1,\n        \"num_unique_values\": 2,\n        \"samples\": [\n          1,\n          0\n        ],\n        \"semantic_type\": \"\",\n        \"description\": \"\"\n      }\n    },\n    {\n      \"column\": 9,\n      \"properties\": {\n        \"dtype\": \"number\",\n        \"std\": 0,\n        \"min\": 0,\n        \"max\": 1,\n        \"num_unique_values\": 2,\n        \"samples\": [\n          1,\n          0\n        ],\n        \"semantic_type\": \"\",\n        \"description\": \"\"\n      }\n    }\n  ]\n}"
            }
          },
          "metadata": {},
          "execution_count": 25
        }
      ]
    },
    {
      "cell_type": "markdown",
      "source": [
        "## <font color = 'orange'>**Checking the value counts of the training data set to apply weights to handle class imbalance.**"
      ],
      "metadata": {
        "id": "71N1icbNhdEi"
      }
    },
    {
      "cell_type": "code",
      "source": [
        "# summing across all rows to get the number of occurances\n",
        "class_counts = np.sum(y_train, axis = 0)\n",
        "\n",
        "total_samples = y_train.shape[0] # first index value is the number of samples\n",
        "\n",
        "class_weights = total_samples/(len(class_counts)*class_counts)\n",
        "\n",
        "class_weights = torch.tensor(class_weights, dtype=torch.float32)\n",
        "\n",
        "print(class_counts)\n",
        "print(total_samples)\n",
        "print(class_weights)"
      ],
      "metadata": {
        "colab": {
          "base_uri": "https://localhost:8080/"
        },
        "id": "WxbsgcgzhctE",
        "outputId": "0571ac19-8046-4d19-fc34-19ce3ed00da9"
      },
      "execution_count": null,
      "outputs": [
        {
          "output_type": "stream",
          "name": "stdout",
          "text": [
            "0     6682\n",
            "1     5321\n",
            "2     3701\n",
            "3    17541\n",
            "4     4875\n",
            "5    16010\n",
            "6      479\n",
            "7      351\n",
            "8      192\n",
            "9     7963\n",
            "dtype: int64\n",
            "30352\n",
            "tensor([ 0.4542,  0.5704,  0.8201,  0.1730,  0.6226,  0.1896,  6.3365,  8.6473,\n",
            "        15.8083,  0.3812])\n"
          ]
        }
      ]
    },
    {
      "cell_type": "markdown",
      "source": [
        "<font color = 'orange'>**Note:**</font> The class weights above will be plugged into the Binary Cross Entropy Loss Function to ensure better balancing of classes during training."
      ],
      "metadata": {
        "id": "SudTBRWelE8v"
      }
    },
    {
      "cell_type": "code",
      "source": [
        "y_train.shape\n"
      ],
      "metadata": {
        "colab": {
          "base_uri": "https://localhost:8080/"
        },
        "id": "RRpo1RDwtdiE",
        "outputId": "cea40d34-7e33-410e-bbc7-b06dd25e8654"
      },
      "execution_count": null,
      "outputs": [
        {
          "output_type": "execute_result",
          "data": {
            "text/plain": [
              "(30352, 10)"
            ]
          },
          "metadata": {},
          "execution_count": 12
        }
      ]
    },
    {
      "cell_type": "code",
      "source": [
        "X_train.shape"
      ],
      "metadata": {
        "colab": {
          "base_uri": "https://localhost:8080/"
        },
        "id": "NkkhK0Ybth1M",
        "outputId": "a55d79ae-072b-4dc6-9b1f-3b7ad9c11c01"
      },
      "execution_count": null,
      "outputs": [
        {
          "output_type": "execute_result",
          "data": {
            "text/plain": [
              "(30352,)"
            ]
          },
          "metadata": {},
          "execution_count": 13
        }
      ]
    },
    {
      "cell_type": "code",
      "source": [
        "# Converting the features and targets to np.array for input to Custom Dataset\n",
        "X_test = np.array(X_test)\n",
        "X_train = np.array(X_train)\n",
        "X_val = np.array(X_val)\n",
        "\n",
        "y_test = np.array(y_test)\n",
        "y_train = np.array(y_train)\n",
        "y_val = np.array(y_val)"
      ],
      "metadata": {
        "id": "jxOCY3mHs8Tq"
      },
      "execution_count": null,
      "outputs": []
    },
    {
      "cell_type": "markdown",
      "source": [
        "# <font color = 'orange'>**Defining a class for a custom dataset**"
      ],
      "metadata": {
        "id": "KKcduAzwnlGv"
      }
    },
    {
      "cell_type": "code",
      "source": [
        "class CustomDataset(Dataset):\n",
        "    \"\"\"\n",
        "    A custom class that handles features and one-hot encoded labels\n",
        "\n",
        "    Attributes:\n",
        "        X (array-like): The feature data, can be lists or NumPy arrays\n",
        "        y (array-like): The one-hot encoded target labels\n",
        "    \"\"\"\n",
        "\n",
        "    def __init__(self, X, y):\n",
        "        \"\"\"\n",
        "        Initialize the dataset with feature and target data.\n",
        "\n",
        "        Args:\n",
        "            X (array-like): The feature data (can be lists or NumPy arrays).\n",
        "            y (array-like): The one-hot encoded target labels.\n",
        "        \"\"\"\n",
        "        self.X = X\n",
        "        self.y = y\n",
        "\n",
        "    def __len__(self):\n",
        "        \"\"\"\n",
        "        Return the number of samples in the dataset.\n",
        "        \"\"\"\n",
        "        return len(self.X)\n",
        "\n",
        "    def __getitem__(self, idx):\n",
        "        \"\"\"\n",
        "        Fetch and return a single sample from the dataset at the given index.\n",
        "\n",
        "        Args:\n",
        "            idx (int): Index of the sample to fetch.\n",
        "\n",
        "        Returns:\n",
        "            tuple: A tuple containing the label and the text for the sample.\n",
        "        \"\"\"\n",
        "        # Add this check\n",
        "        assert len(self.X) == len(self.y), \"Mismatch between features (X) and labels (y) lengths.\"\n",
        "\n",
        "        # Retrieve the text and corresponding label from the dataset using the index\n",
        "        texts = self.X[idx]\n",
        "        labels = self.y[idx]\n",
        "\n",
        "        # Packing them into a tuple before returning\n",
        "        sample = (labels, texts)\n",
        "\n",
        "        return sample"
      ],
      "metadata": {
        "id": "5xmfqdTjmdYX"
      },
      "execution_count": null,
      "outputs": []
    },
    {
      "cell_type": "code",
      "source": [
        "# creating the different instances of of the CustomDataset class for modeling\n",
        "trainset = CustomDataset(X_train, y_train)\n",
        "\n",
        "validset = CustomDataset(X_val, y_val)\n",
        "\n",
        "testset = CustomDataset(X_test, y_test)\n",
        "\n"
      ],
      "metadata": {
        "id": "pXGAl9m2wEmP"
      },
      "execution_count": null,
      "outputs": []
    },
    {
      "cell_type": "markdown",
      "source": [
        "### <font color = 'orange'>**Printing out one of the samples**"
      ],
      "metadata": {
        "id": "rp1s6-cYywVc"
      }
    },
    {
      "cell_type": "code",
      "source": [
        "pprint(trainset[5]) #pulling the whole touple\n",
        "print()\n",
        "sixth_sample_text = trainset[5][1] # pulling just the text\n",
        "pprint(sixth_sample_text)\n",
        "type(sixth_sample_text)"
      ],
      "metadata": {
        "colab": {
          "base_uri": "https://localhost:8080/"
        },
        "id": "DfB1aIZ1xGcc",
        "outputId": "ba0bbd6d-f54e-4513-ec45-82f8d354942f"
      },
      "execution_count": null,
      "outputs": [
        {
          "output_type": "stream",
          "name": "stdout",
          "text": [
            "(array([0, 0, 0, 1, 0, 1, 0, 0, 0, 0]),\n",
            " 'jquery scroll text hover element want scroll leave hover remove character '\n",
            " 'append end string continuously fire scroll function mouse enter element > '\n",
            " 'scroll fire mouse leave element user click html < href=\"foo.htm '\n",
            " 'class=\"scrollthis\">this text scroll hover</a >   jquery $ '\n",
            " '.scrollthis\").hover(function      scroll($(this     function '\n",
            " 'scroll(ele       var s = $ '\n",
            " 'ele).text().substr(1)+$(ele).text().substr(0,1      $ ele).text(s  ')\n",
            "\n",
            "('jquery scroll text hover element want scroll leave hover remove character '\n",
            " 'append end string continuously fire scroll function mouse enter element > '\n",
            " 'scroll fire mouse leave element user click html < href=\"foo.htm '\n",
            " 'class=\"scrollthis\">this text scroll hover</a >   jquery $ '\n",
            " '.scrollthis\").hover(function      scroll($(this     function '\n",
            " 'scroll(ele       var s = $ '\n",
            " 'ele).text().substr(1)+$(ele).text().substr(0,1      $ ele).text(s  ')\n"
          ]
        },
        {
          "output_type": "execute_result",
          "data": {
            "text/plain": [
              "str"
            ]
          },
          "metadata": {},
          "execution_count": 17
        }
      ]
    },
    {
      "cell_type": "code",
      "source": [
        "sixth_sample_label = trainset[5][0]\n",
        "pprint(sixth_sample_label) #printing just the label"
      ],
      "metadata": {
        "colab": {
          "base_uri": "https://localhost:8080/"
        },
        "id": "RSc4vLffxLE5",
        "outputId": "37ec2b4e-8507-475f-fa2b-8c95cb979586"
      },
      "execution_count": null,
      "outputs": [
        {
          "output_type": "stream",
          "name": "stdout",
          "text": [
            "array([0, 0, 0, 1, 0, 1, 0, 0, 0, 0])\n"
          ]
        }
      ]
    },
    {
      "cell_type": "markdown",
      "source": [
        "# <font color = 'orange'>**Creating the vocab**"
      ],
      "metadata": {
        "id": "keJEChzJy6Y8"
      }
    },
    {
      "cell_type": "markdown",
      "source": [
        "The `get_vocab` function is designed to generate a <font color='orange'>**vocabulary**</font> from a given dataset. Here’s a quick breakdown of how it works:\n",
        "\n",
        "1. **Initializing a Counter:**\n",
        "   - A `Counter` object is set up to track the <font color='orange'>**frequency**</font> of each <font color='orange'>**token**</font> (word) that shows up in the dataset.\n",
        "\n",
        "2. **Token Frequency Counting:**\n",
        "   - The function iterates through the dataset (a list of tuples with labels and texts). For each text, it splits the text into <font color='orange'>**tokens**</font> and updates the counter to keep track of how often each token appears.\n",
        "\n",
        "3. **Creating the Vocabulary:**\n",
        "   - Using this counter, a <font color='orange'>**`torchtext.vocab.vocab`**</font> object is created, containing only tokens that meet the <font color='orange'>**minimum frequency**</font> requirement (<font color='orange'>**`min_freq`**</font>).\n",
        "   - Tokens that appear less frequently than <font color='orange'>**`min_freq`**</font> are filtered out, keeping the vocab lean.\n",
        "\n",
        "4. **Handling Unknown Words:**\n",
        "   - The special token <font color='orange'>**`<unk>`**</font> (for unknown words) is added at index 0, so any token that isn’t found in the vocab gets mapped to <font color='orange'>**`<unk>`**</font>.\n",
        "   - By default, the vocab index for unknown words is set to 0, ensuring everything’s covered when we encounter out-of-vocabulary tokens.\n",
        "\n",
        "5. **Return Value:**\n",
        "   - Finally, the function returns the constructed <font color='orange'>**`Vocab`**</font> object, which can then be used to convert tokens into indices, or vice versa.\n",
        "\n",
        "In short, the <font color='orange'>**`get_vocab`**</font> function automates the process of creating a vocabulary from text data, ensuring that only sufficiently frequent words are included and unknown words are handled efficiently.\n",
        "\n",
        "\n",
        "Note: I did not write this class"
      ],
      "metadata": {
        "id": "X90TtkyhzTvC"
      }
    },
    {
      "cell_type": "code",
      "source": [
        "from collections import Counter, OrderedDict\n",
        "from typing import Dict, List, Optional, Union\n",
        "\n",
        "class Vocab:\n",
        "    def __init__(self, tokens: List[str]) -> None:\n",
        "        self.itos: List[str] = tokens\n",
        "        self.stoi: Dict[str, int] = {token: i for i, token in enumerate(tokens)}\n",
        "        self.default_index: Optional[int] = None\n",
        "\n",
        "    def __getitem__(self, token: str) -> int:\n",
        "        if token in self.stoi:\n",
        "            return self.stoi[token]\n",
        "        if self.default_index is not None:\n",
        "            return self.default_index\n",
        "        raise RuntimeError(f\"Token '{token}' not found in vocab\")\n",
        "\n",
        "    def __contains__(self, token: str) -> bool:\n",
        "        return token in self.stoi\n",
        "\n",
        "    def __len__(self) -> int:\n",
        "        return len(self.itos)\n",
        "\n",
        "    def insert_token(self, token: str, index: int) -> None:\n",
        "        if index < 0 or index > len(self.itos):\n",
        "            raise ValueError(\"Index out of range\")\n",
        "        if token in self.stoi:\n",
        "            old_index = self.stoi[token]\n",
        "            if old_index < index:\n",
        "                self.itos.pop(old_index)\n",
        "                self.itos.insert(index - 1, token)\n",
        "            else:\n",
        "                self.itos.pop(old_index)\n",
        "                self.itos.insert(index, token)\n",
        "        else:\n",
        "            self.itos.insert(index, token)\n",
        "\n",
        "        self.stoi = {token: i for i, token in enumerate(self.itos)}\n",
        "\n",
        "    def append_token(self, token: str) -> None:\n",
        "        if token in self.stoi:\n",
        "            raise RuntimeError(f\"Token '{token}' already exists in the vocab\")\n",
        "        self.insert_token(token, len(self.itos))\n",
        "\n",
        "    def set_default_index(self, index: Optional[int]) -> None:\n",
        "        self.default_index = index\n",
        "\n",
        "    def get_default_index(self) -> Optional[int]:\n",
        "        return self.default_index\n",
        "\n",
        "    def lookup_token(self, index: int) -> str:\n",
        "        if 0 <= index < len(self.itos):\n",
        "            return self.itos[index]\n",
        "        raise RuntimeError(f\"Index {index} out of range\")\n",
        "\n",
        "    def lookup_tokens(self, indices: List[int]) -> List[str]:\n",
        "        return [self.lookup_token(index) for index in indices]\n",
        "\n",
        "    def lookup_indices(self, tokens: List[str]) -> List[int]:\n",
        "        return [self[token] for token in tokens]\n",
        "\n",
        "    def get_stoi(self) -> Dict[str, int]:\n",
        "        return self.stoi.copy()\n",
        "\n",
        "    def get_itos(self) -> List[str]:\n",
        "        return self.itos.copy()\n",
        "\n",
        "    @classmethod\n",
        "    def vocab(cls, ordered_dict: Union[OrderedDict, Counter], min_freq: int = 1, specials: Optional[List[str]] = None, special_first: bool = True) -> 'Vocab':\n",
        "        specials = specials or []\n",
        "        for token in specials:\n",
        "            ordered_dict.pop(token, None)\n",
        "\n",
        "        tokens = [token for token, freq in ordered_dict.items() if freq >= min_freq]\n",
        "\n",
        "        if special_first:\n",
        "            tokens = specials + tokens\n",
        "        else:\n",
        "            tokens = tokens + specials\n",
        "\n",
        "        return cls(tokens)"
      ],
      "metadata": {
        "id": "zPcR0ynEyska"
      },
      "execution_count": null,
      "outputs": []
    },
    {
      "cell_type": "code",
      "source": [
        "def get_vocab(dataset, min_freq = 1):\n",
        "  \"\"\"\n",
        "  Generate a vocabulary from a dataset.\n",
        "\n",
        "  Args:\n",
        "    dataset (list of tuples): Lists of tuples where each tuple contains a label and a text\n",
        "    min_freq (int): A integer that represents the minimum number of documents a token can be in to be included in the vocabulary.\n",
        "\n",
        "  Returns:\n",
        "    torch.text.vocab.Vocab: Vocabulary Object.\n",
        "  \"\"\"\n",
        "  # Initializing the counter object to hold token frequencies\n",
        "  counter = Counter()\n",
        "\n",
        "  # updating the counter with the tokens from each text in the dataset\n",
        "  for (label, text) in dataset:\n",
        "    counter.update(text.split())\n",
        "\n",
        "  # creating the vocabulary using the counter object\n",
        "  #tokens that appear fewer times than 'min_freq are excluded'\n",
        "  my_vocab = Vocab.vocab(counter, min_freq = min_freq)\n",
        "\n",
        "  # inserting the <unk> token for index 0 to represent any unknown words.\n",
        "  my_vocab.insert_token('<unk>',0)\n",
        "\n",
        "  # Setting the default index to 0\n",
        "  my_vocab.set_default_index(0)\n",
        "\n",
        "  return my_vocab\n",
        "\n"
      ],
      "metadata": {
        "id": "SwL4wV_MzuO5"
      },
      "execution_count": null,
      "outputs": []
    },
    {
      "cell_type": "markdown",
      "source": [
        "## <font color = 'orange'>**Importance of fitting the vocab only on the Training set:**\n",
        "\n",
        "When training a text-based model, it is **extremely important** to remember not to train the vocabulary on the test or validation dataset.\n",
        "\n",
        "- The reason for this is to prevent any **information leakage** from the training set into the validation or test sets.\n",
        "- Keeping the training of the vocab only on the **train set** ensures that the model is based on **real-world instances** and improves generalization to **unseen data**.\n",
        "- This practice also promotes **consistency** when evaluating the model and helps in improving **model fairness**.\n"
      ],
      "metadata": {
        "id": "rcgoV87n24_f"
      }
    },
    {
      "cell_type": "code",
      "source": [
        "stack_vocab = get_vocab(trainset, min_freq = 2)"
      ],
      "metadata": {
        "id": "3zUbdVtx23p1"
      },
      "execution_count": null,
      "outputs": []
    },
    {
      "cell_type": "code",
      "source": [
        "len(stack_vocab)"
      ],
      "metadata": {
        "colab": {
          "base_uri": "https://localhost:8080/"
        },
        "id": "1FFHbFlr4HUX",
        "outputId": "ad5e1a24-f1e8-4ceb-c2fd-581d2c91433f"
      },
      "execution_count": null,
      "outputs": [
        {
          "output_type": "execute_result",
          "data": {
            "text/plain": [
              "96934"
            ]
          },
          "metadata": {},
          "execution_count": 22
        }
      ]
    },
    {
      "cell_type": "markdown",
      "source": [
        "#### <font color = 'orange'>**Calling the get_itos function pulls out only the string values in the given indexes**"
      ],
      "metadata": {
        "id": "Tje71nMJ4a5J"
      }
    },
    {
      "cell_type": "code",
      "source": [
        "stack_vocab.get_itos()[0:5] # getting the first five words from the vocab"
      ],
      "metadata": {
        "colab": {
          "base_uri": "https://localhost:8080/"
        },
        "id": "TEl7ogh74Jym",
        "outputId": "a35e80b3-2ac9-4bef-c29d-fb88d45f8957"
      },
      "execution_count": null,
      "outputs": [
        {
          "output_type": "execute_result",
          "data": {
            "text/plain": [
              "['<unk>', 'nullpointerexception', 'run', 'figure', 'return']"
            ]
          },
          "metadata": {},
          "execution_count": 23
        }
      ]
    },
    {
      "cell_type": "code",
      "source": [
        "# Quick check to ensure unknowns are registering\n",
        "stack_vocab['cheezeits']"
      ],
      "metadata": {
        "colab": {
          "base_uri": "https://localhost:8080/"
        },
        "id": "8Ec8QVvG47i-",
        "outputId": "b3541e1b-7bd6-4174-b70d-55dddbde201f"
      },
      "execution_count": null,
      "outputs": [
        {
          "output_type": "execute_result",
          "data": {
            "text/plain": [
              "0"
            ]
          },
          "metadata": {},
          "execution_count": 24
        }
      ]
    },
    {
      "cell_type": "markdown",
      "source": [
        "# <font color = 'orange'>**Creating the Collate Function for Data Loaders**\n",
        "\n",
        "- in the DataLoader class of PyTorch, the collate function is used to combine individual samples into batches during data loading. This function is applied after data retrieval and before batching.\n",
        "- Collate batch takes a list of individual samples (each one represented as a tuple of tensors) and collate them into a single batch. This involves:\n",
        "  - stacking tensors along a new batch dimension\n",
        "  - other operations like padding sequences to ensure uniform tensor length"
      ],
      "metadata": {
        "id": "dogAfUytRQQb"
      }
    },
    {
      "cell_type": "code",
      "source": [
        "# function used to get the indices of the words from the vocab\n",
        "def tokenizer(x, vocab): # x is the given sample, vocab is the pretrained vocab on the training ds\n",
        "  \"\"\"\n",
        "  Converts a list of words into indices using a given vocabulary of mapped indices\n",
        "  \"\"\"\n",
        "  return [vocab[token] for token in x.split()] # splits the sample and returns the index, here, token is actually the index."
      ],
      "metadata": {
        "id": "BzfJ7ShiRGlm"
      },
      "execution_count": null,
      "outputs": []
    },
    {
      "cell_type": "code",
      "source": [
        "# Quick Example of tokenizer function\n",
        "print(tokenizer('scroll text hover', stack_vocab) )\n",
        "\n",
        "print(\"The above output is the index values of the given words from the example sentence in a list.\")"
      ],
      "metadata": {
        "colab": {
          "base_uri": "https://localhost:8080/"
        },
        "id": "6_rJIwf5VGGr",
        "outputId": "cf8b3ed6-a66c-4fe9-adc4-47ae11dbcec2"
      },
      "execution_count": null,
      "outputs": [
        {
          "output_type": "stream",
          "name": "stdout",
          "text": [
            "[278, 274, 279]\n",
            "The above output is the index values of the given words from the example sentence in a list.\n"
          ]
        }
      ]
    },
    {
      "cell_type": "markdown",
      "source": [
        "The `collate_batch_embedding_bag(batch, my_vocab)` function is responsible for collating a batch of samples from `CustomDatasets` into tensors of **labels**, **texts**, and **offsets**.\n",
        "\n",
        "- **Unpacking the Batch**:\n",
        "  - The batch is unpacked using `zip(*batch)` to separate it into two lists: one for the <font color='orange'>**`labels`**</font> and the other for the <font color='orange'>**`texts`**</font>.\n",
        "\n",
        "- **Converting Labels**:\n",
        "  - The list of <font color='orange'>**`labels`**</font> is immediately converted into a <font color='orange'>**PyTorch tensor**</font> with the data type set to <font color='orange'>**`torch.float32`**</font>.\n",
        "\n",
        "- **Tokenizing Texts**:\n",
        "  - For each text in <font color='orange'>**`texts`**</font>, the **`tokenizer`** function is called to convert the text into a list of <font color='orange'>**vocabulary indices**</font> using the provided vocabulary (<font color='orange'>**`my_vocab`**</font>). The resulting lists are stored in **`list_of_list_of_indices`**.\n",
        "\n",
        "- **Concatenating Indices**:\n",
        "  - The individual lists of tokenized indices are concatenated into one large **PyTorch tensor** using **`torch.cat`**. This tensor contains the token indices for all texts in the batch.\n",
        "\n",
        "- **Calculating Offsets**:\n",
        "  - To track the boundaries of each text within the concatenated indices, the **`offsets`** tensor is calculated. This tensor starts with **zero** and is followed by the **cumulative sum** of the lengths of each text's token list.\n",
        "\n",
        "- **Returning Tensors**:\n",
        "  - Finally, the tensors for <font color='orange'>**`labels`**</font>, <font color='orange'>**`indices`**</font>, and <font color='orange'>**`offsets`**</font> are returned, providing the necessary inputs for the **Embedding Bag** layer.\n",
        "\n",
        "This process ensures that the batch of text data is correctly prepared for further processing within the neural network, handling varying text lengths while maintaining alignment between the tokenized texts and their respective labels.\n",
        "\n",
        "\n"
      ],
      "metadata": {
        "id": "niGOfsGLna--"
      }
    },
    {
      "cell_type": "code",
      "source": [
        "def collate_batch_embedding_bag(batch, my_vocab): # takes in the batches and the vocab\n",
        "  \"\"\"\n",
        "  Collates a batch of samples from the CustomDatasets into tensors of labels, text, and offsets.\n",
        "\n",
        "  Parameters:\n",
        "    batch(list): A list of tuples (samples), containing a label and text.\n",
        "\n",
        "  Returns:\n",
        "  tuple: A tuple containing two tensors, one for the labels, one for the texts.\n",
        "\n",
        "  \"\"\"\n",
        "\n",
        "  # unpacking the batch into labels and text\n",
        "  labels, texts = zip(*batch)\n",
        "\n",
        "  # converting the list of labels into a tensor of dtype float32\n",
        "  labels = torch.tensor(np.array(labels), dtype =torch.float32)\n",
        "\n",
        "  # Converting the texts within the batch into tensors with index labels from the vocab\n",
        "  list_of_list_of_indices = [tokenizer(text, my_vocab) for text in texts]\n",
        "\n",
        "  # Concattenating the indices from each text onto one another into one tensor\n",
        "  indices = torch.cat([torch.tensor(i,dtype = torch.int64) for i in list_of_list_of_indices])\n",
        "\n",
        "  # Calculating the offset values to know where each text ends within the long indices tensor\n",
        "  offsets = [0] +[len(i) for i in list_of_list_of_indices]\n",
        "\n",
        "  # Ensuring the offsets are stored as a tensor\n",
        "  offsets = torch.tensor(offsets[:-1]).cumsum(dim = 0)\n",
        "\n",
        "  return (indices, offsets), labels\n"
      ],
      "metadata": {
        "id": "2VwuxRM1TUof"
      },
      "execution_count": null,
      "outputs": []
    },
    {
      "cell_type": "markdown",
      "source": [
        "### <font color='orange'>**Checking our collation function using the `partial` function**</font>\n",
        "\n",
        "- The **`partial` function** allows us to \"freeze\" certain arguments within a function, setting them in advance.\n",
        "- This is important because **DataLoader** expects the **collate function** to take only the batch as input. However, our **`collate_batch_embedding_bag`** function also requires the **vocab** as an additional argument. (see above)\n",
        "- By using the `partial` function, we can pre-set the **vocab** in our **collate_batch_embedding_bag** function, ensuring that when the DataLoader calls the function, it only needs to pass the **batch**. This simplifies how we handle additional arguments like the vocab within the DataLoader.\n"
      ],
      "metadata": {
        "id": "AXr8ncawkUSq"
      }
    },
    {
      "cell_type": "code",
      "source": [
        "batch_size = 2\n",
        "collate_partial = partial(collate_batch_embedding_bag, my_vocab = stack_vocab) #Freezes the my_vocab argument for the collate_batch_embedding_bag function\n",
        "check_loader = torch.utils.data.DataLoader(dataset = trainset,\n",
        "                                           batch_size = batch_size,\n",
        "                                           shuffle = True,\n",
        "                                           collate_fn = collate_partial) # passes the collate_fn with a preset vocab list using the given batch size."
      ],
      "metadata": {
        "id": "GC73EYIYh84S"
      },
      "execution_count": null,
      "outputs": []
    },
    {
      "cell_type": "code",
      "source": [
        "# Testing to see how the DataLoader will pass a sample\n",
        "torch.manual_seed(22)\n",
        "for (indices, offset), label in check_loader:\n",
        "    print(f'Indices:{indices}', f'Offset:{offset}', f'Label:{label}')\n",
        "    break"
      ],
      "metadata": {
        "colab": {
          "base_uri": "https://localhost:8080/"
        },
        "id": "BuW9a5pdrfYX",
        "outputId": "de136b81-b8a0-4e1c-e382-cd090660a73f"
      },
      "execution_count": null,
      "outputs": [
        {
          "output_type": "stream",
          "name": "stdout",
          "text": [
            "Indices:tensor([  167, 26747,  1069,   102,   270,   167, 26747,   466,  6167,   167,\n",
            "          514,   402,   402,    12, 26747,   428,   655,   177,   180,   604,\n",
            "         4255,   601,  1904,   604,   229,   449,   649,     6,   466,   180,\n",
            "        20852,   708,  1538,  1633,    95,  2806,   467,  1053,   467,  1053,\n",
            "          272,  1505,   253,  1012,   425,  1053,  1069,   274,   466,   200,\n",
            "        67589,   185,   200, 67590,   136, 67591, 67592,   136, 67593, 67594,\n",
            "          136,   242,   613,  5310,  1053,   425, 67595, 67596,   613,   263,\n",
            "          200, 67597,   185, 67595, 67596,   613,   408]) Offset:tensor([ 0, 35]) Label:tensor([[0., 0., 0., 1., 0., 1., 0., 0., 0., 0.],\n",
            "        [0., 0., 0., 1., 0., 1., 0., 0., 0., 0.]])\n"
          ]
        }
      ]
    },
    {
      "cell_type": "markdown",
      "source": [
        "### <font color='orange'>**Understanding the Collate Function Output**</font>\n",
        "\n",
        "- The first tensor is the list of **indices** referencing the vocabulary of the training dataset. Each word within this batch of text is represented by its corresponding index in the vocabulary. Since the batch size is two, this tensor contains the words from both documents, concatenated into a single, long tensor.\n",
        "  - For example, the first document starts with the vocab index **`167`**, and subsequent indices represent other tokens in the document. The second document starts at index 35 within the concatenated tensor, indicated by the offset tensor.\n",
        "\n",
        "- The second tensor, the **offsets**, marks the starting point of each document within the concatenated indices tensor.\n",
        "  - In this case, the offset tensor is **`[0, 35]`**, meaning the first document starts at index 0 in the indices tensor, and the second document starts at index 35.\n",
        "\n",
        "- The third tensor represents the **labels**, which are the actual target indicators for the given set of texts (i.e., the type of Stack Exchange post).\n",
        "  - In this case, both documents in the batch have labels: **`[0., 0., 0., 1., 0., 1., 0., 0., 0., 0.]`**, indicating that each document is associated with the labels `javascript` and `jquery`.\n"
      ],
      "metadata": {
        "id": "5wy6YC9T0dST"
      }
    },
    {
      "cell_type": "markdown",
      "source": [
        "# <font color='orange'>**Baseline Model Class**</font>\n",
        "\n",
        "- The class below represents a **<font color='orange'>Simple MultiLayer Perceptron (MLP)</font>**, a **<font color='orange'>feed-forward neural network</font>** with three layers. This serves as a foundational model that can be used as a starting point for building more complex architectures. After each layer, we apply **<font color='orange'>ReLU</font>**, **<font color='orange'>Batch Normalization</font>**, and **<font color='orange'>Dropout</font>**, making it flexible for training on various tasks.\n",
        "  - **<font color='orange'>ReLU</font>** introduces non-linearity to the model by zeroing out negative values.\n",
        "  - **<font color='orange'>Dropout</font>** is used to introduce noise into the model by randomly dropping neurons during each pass, which helps prevent overfitting.\n",
        "  - **<font color='orange'>Batch Normalization</font>** normalizes the inputs to each layer by standardizing them. This helps control issues like the **<font color='orange'>exploding or vanishing gradient</font>**, improving model stability during training.\n",
        "\n",
        "- The class is built on PyTorch’s **<font color='orange'>`nn.Module`</font>**, which provides built-in methods to manage and track layers, parameters like **<font color='orange'>weights</font>**, and **<font color='orange'>biases</font>**. It gives us the flexibility to expand this baseline into more sophisticated models.\n",
        "\n",
        "- In the **<font color='orange'>`__init__` function</font>**, the layers are defined, including **<font color='orange'>trainable layers</font>** like **<font color='orange'>`nn.Linear`</font>** and **<font color='orange'>`nn.Embedding`</font>**. Non-trainable layers like **<font color='orange'>ReLU</font>** and **<font color='orange'>Dropout</font>** are handled directly in the **forward method** to maintain a clean, modular design.\n",
        "\n",
        "- The **<font color='orange'>forward method</font>** takes in a tuple (containing both **<font color='orange'>indices</font>** and **<font color='orange'>offsets</font>**) and processes them through the layers, making this class highly customizable for text-based tasks.\n",
        "  - One of the reasons for building this custom model (instead of relying on something like **<font color='orange'>`nn.Sequential`</font>**) is because we need to use the **<font color='orange'>EmbeddingBag</font>** layer, which takes two inputs (the **<font color='orange'>indices</font>** and **<font color='orange'>offsets</font>**). This wouldn’t be possible using `nn.Sequential` since it only handles one input.\n",
        "\n",
        "- **<font color='orange'>EmbeddingBag</font>** is especially useful for handling variable-length text sequences, as it sums the word embeddings for each document based on the provided **<font color='orange'>indices</font>** and **<font color='orange'>offsets</font>**. This baseline class can be further expanded by integrating additional components or replacing layers for more complex tasks.\n",
        "\n",
        "\n",
        "\n",
        "\n",
        "\n",
        "\n"
      ],
      "metadata": {
        "id": "Wn7n_WpC2eOj"
      }
    },
    {
      "cell_type": "code",
      "source": [
        "class SimpleMLP(nn.Module):\n",
        "  def __init__(self, vocab_size, embedding_dim, hidden_dim1, hidden_dim2, drop_prob1, drop_prob2,num_outputs):\n",
        "    super().__init__() # sets this as an init to inherit properties of the nn.Module __init__ function\n",
        "\n",
        "    # Calling an EmbeddingBag_layer -> Linear_layer -> Hidden_layer->ReLu->BatchNorm->Dropout->Linear_2->Hidden_layer->ReLu->BatchNorm->Dropout->Linear\n",
        "    # It is important also to note that the Hidden Layer is embedded in the nn.Linear calls\n",
        "\n",
        "    #Embedding Layer\n",
        "    self.embedding_bag = nn.EmbeddingBag(vocab_size, embedding_dim)\n",
        "\n",
        "    # Linear 1\n",
        "    self.linear1 = nn.Linear(embedding_dim, hidden_dim1)\n",
        "    # BatchNorm 1 (1d for text data)\n",
        "    self.batchnorm1 = nn.BatchNorm1d(num_features = hidden_dim1)\n",
        "    # Dropout 1\n",
        "    self.dropout1 = nn.Dropout(p = drop_prob1)\n",
        "\n",
        "    # Linear 2\n",
        "    self.linear2 = nn.Linear(hidden_dim1, hidden_dim2)\n",
        "    # BatchNorm 2\n",
        "    self.batchnorm2 = nn.BatchNorm1d(num_features = hidden_dim2)\n",
        "    # Dropout 2\n",
        "    self.dropout2 = nn.Dropout(p=drop_prob1)\n",
        "\n",
        "    # Linear 3\n",
        "    self.linear3 = nn.Linear(hidden_dim2, num_outputs)\n",
        "\n",
        "\n",
        "  def forward(self, input_tuple):\n",
        "    indices, offsets = input_tuple\n",
        "\n",
        "    # Passing data through the embedding layer\n",
        "    x.self.embedding_bag(indices,offsets)\n",
        "\n",
        "    # Passing data through Linear Layer 1\n",
        "    x = self.linear1(x)\n",
        "    # Passing through ReLU\n",
        "    x = nn.ReLU()(x)\n",
        "    # Passing through BatchNorm\n",
        "    x = self.batchnorm1(x)\n",
        "    # Passing through Dropout\n",
        "    x = self.dropout1(x)\n",
        "\n",
        "\n",
        "    # Passing through Linear 2\n",
        "    x = self.linear2(x)\n",
        "    # Passing through ReLU\n",
        "    x = nn.ReLU()(x)\n",
        "    # Passing through Batchnorm 2\n",
        "    x = self.batchnorm2(x)\n",
        "    # Passing through Dropout 2\n",
        "    x = self.dropout2(x)\n",
        "\n",
        "    # Passing through final linear layer 3\n",
        "    x = self.linear3(x)\n",
        "\n",
        "\n",
        "    return x\n"
      ],
      "metadata": {
        "id": "lmtosLF62Mgt"
      },
      "execution_count": null,
      "outputs": []
    },
    {
      "cell_type": "markdown",
      "source": [
        "# <font color='orange'>**CustomBlock class for usage in nn.Sequential Modeling**</font>\n",
        "\n",
        "- This class gives me the flexibility to call multiple layers using **<font color='orange'>`nn.Sequential`</font>** and integrate those blocks into more complex models.\n",
        "- Learning how to use these custom blocks within large-scale models improves **readability** and helps **scale models quickly**.\n",
        "- The block takes **<font color='orange'>`nn.Sequential`</font>** as a layer, which can house multiple layers inside, like the ones I manually coded above. This allows me to efficiently organize and compile my code.\n",
        "- The class is versatile—it can be **augmented** to include different layers within the custom block, providing even more flexibility when scaling or adjusting the model for various tasks.\n",
        "\n"
      ],
      "metadata": {
        "id": "Ts1z08iwIyof"
      }
    },
    {
      "cell_type": "code",
      "source": [
        "class CustomBlock(nn.Module):\n",
        "    def __init__(self, input_dim, output_dim, drop_prob):\n",
        "        super().__init__()\n",
        "\n",
        "        self.layers = nn.Sequential(\n",
        "            nn.Linear(input_dim, output_dim),\n",
        "            nn.BatchNorm1d(num_features=output_dim),\n",
        "            nn.ReLU(),\n",
        "            nn.Dropout(p=drop_prob),\n",
        "        )\n",
        "\n",
        "    def forward(self, x):\n",
        "        return self.layers(x)"
      ],
      "metadata": {
        "id": "DKaFY7SUHvME"
      },
      "execution_count": null,
      "outputs": []
    },
    {
      "cell_type": "markdown",
      "source": [
        "# <font color='orange'>**Custom Multi Layer Perceptron (MLP) Class with Sequential Modeling**</font>\n",
        "\n",
        "- This class represents a **Custom MLP** where I integrate **<font color='orange'>`nn.Sequential`</font>** to house multiple layers in a streamlined and easy-to-read format.\n",
        "- The **<font color='orange'>EmbeddingBag layer</font>** is initialized before the sequential blocks, allowing me to handle variable-length input sequences efficiently.\n",
        "  \n",
        "- **<font color='orange'>Custom Blocks</font>** are used inside the **`nn.Sequential`** layer to group layers like **ReLU**, **BatchNorm**, and **Dropout** together. This makes the model more readable and modular, which is especially useful when scaling up or adjusting models.\n",
        "\n",
        "- Each **CustomBlock** takes the input dimension, applies the necessary transformations (like **<font color='orange'>ReLU**, **BatchNorm**, and **Dropout</font>**), and passes it to the next block, ultimately feeding into the final **<font color='orange'>Linear</font>** layer for output.\n",
        "\n",
        "- **Forward Method**:\n",
        "  - The forward pass starts by splitting the input tuple into **<font color='orange'>data</font>** and **<font color='orange'>offsets</font>**.\n",
        "  - It then uses the **EmbeddingBag layer** to get the embedded representation of the input data.\n",
        "  - Finally, the output of the embedding is passed through the custom **Sequential layers**, which handle all the transformations defined within the blocks.\n",
        "  - This ends with the final **Linear layer**, producing the output.\n",
        "\n",
        "- By structuring the model this way, it's much easier to manage complex architectures, while also ensuring that the layers are more organized and scalable for future modifications.\n"
      ],
      "metadata": {
        "id": "w1THZMAtJz4p"
      }
    },
    {
      "cell_type": "code",
      "source": [
        "class CustomMLP(nn.Module):\n",
        "  def __init__(self,vocab_size,embedding_dim,hidden_dim1,hidden_dim2, drop_prob1,drop_prob2, num_outputs):\n",
        "    super().__init__()\n",
        "\n",
        "    # initializing the embedding_bag layer prior to the sequential layers\n",
        "    self.embedding_bag = nn.EmbeddingBag(vocab_size, embedding_dim)\n",
        "\n",
        "    # Defining what a layer is going to be.\n",
        "    # This layer is a sequential layer that houses multiple layers\n",
        "    # This is much easier to read and understand.\n",
        "    # Each custom block houses the input dimension and plugs it into the output by passing it through the CustomBlock where the ReLU,BatchNorm and Dropout layers are housed.\n",
        "    self.layers = nn.Sequential(\n",
        "        CustomBlock(embedding_dim, hidden_dim1, drop_prob1),\n",
        "        CustomBlock(hidden_dim1, hidden_dim2, drop_prob2),\n",
        "        nn.Linear(hidden_dim2, num_outputs)\n",
        "    )\n",
        "\n",
        "\n",
        "  def forward(self, input_tuple):\n",
        "      # splitting the tuple\n",
        "      data,offsets = input_tuple\n",
        "\n",
        "      # Ensure inputs are on the same device as the model\n",
        "      assert data.device == next(self.parameters()).device, \"Data not on the same device as model\"\n",
        "      assert offsets.device == next(self.parameters()).device, \"Offsets not on the same device as model\"\n",
        "\n",
        "      # getting the output from the embedding layer\n",
        "      embed_out = self.embedding_bag(data,offsets)\n",
        "      # passing the embedding layer into the layers function where all other layers are housed.\n",
        "      out = self.layers(embed_out)\n",
        "\n",
        "      return out"
      ],
      "metadata": {
        "id": "hdJZCFb8Jxz5"
      },
      "execution_count": null,
      "outputs": []
    },
    {
      "cell_type": "markdown",
      "source": [
        "### <font color = 'orange'>**Testing the Custom MLP**\n"
      ],
      "metadata": {
        "id": "Uosr4gW-O_q-"
      }
    },
    {
      "cell_type": "code",
      "source": [
        "!pip install torchviz\n",
        "!pip install Ipython"
      ],
      "metadata": {
        "colab": {
          "base_uri": "https://localhost:8080/"
        },
        "id": "3H8qZXt3QWhb",
        "outputId": "c7189ad6-daa6-4d28-b02c-9976c09aa10b"
      },
      "execution_count": null,
      "outputs": [
        {
          "output_type": "stream",
          "name": "stdout",
          "text": [
            "Requirement already satisfied: torchviz in /usr/local/lib/python3.10/dist-packages (0.0.2)\n",
            "Requirement already satisfied: torch in /usr/local/lib/python3.10/dist-packages (from torchviz) (2.4.1+cu121)\n",
            "Requirement already satisfied: graphviz in /usr/local/lib/python3.10/dist-packages (from torchviz) (0.20.3)\n",
            "Requirement already satisfied: filelock in /usr/local/lib/python3.10/dist-packages (from torch->torchviz) (3.16.1)\n",
            "Requirement already satisfied: typing-extensions>=4.8.0 in /usr/local/lib/python3.10/dist-packages (from torch->torchviz) (4.12.2)\n",
            "Requirement already satisfied: sympy in /usr/local/lib/python3.10/dist-packages (from torch->torchviz) (1.13.3)\n",
            "Requirement already satisfied: networkx in /usr/local/lib/python3.10/dist-packages (from torch->torchviz) (3.3)\n",
            "Requirement already satisfied: jinja2 in /usr/local/lib/python3.10/dist-packages (from torch->torchviz) (3.1.4)\n",
            "Requirement already satisfied: fsspec in /usr/local/lib/python3.10/dist-packages (from torch->torchviz) (2024.6.1)\n",
            "Requirement already satisfied: MarkupSafe>=2.0 in /usr/local/lib/python3.10/dist-packages (from jinja2->torch->torchviz) (2.1.5)\n",
            "Requirement already satisfied: mpmath<1.4,>=1.1.0 in /usr/local/lib/python3.10/dist-packages (from sympy->torch->torchviz) (1.3.0)\n",
            "Requirement already satisfied: Ipython in /usr/local/lib/python3.10/dist-packages (7.34.0)\n",
            "Requirement already satisfied: setuptools>=18.5 in /usr/local/lib/python3.10/dist-packages (from Ipython) (71.0.4)\n",
            "Requirement already satisfied: jedi>=0.16 in /usr/local/lib/python3.10/dist-packages (from Ipython) (0.19.1)\n",
            "Requirement already satisfied: decorator in /usr/local/lib/python3.10/dist-packages (from Ipython) (4.4.2)\n",
            "Requirement already satisfied: pickleshare in /usr/local/lib/python3.10/dist-packages (from Ipython) (0.7.5)\n",
            "Requirement already satisfied: traitlets>=4.2 in /usr/local/lib/python3.10/dist-packages (from Ipython) (5.7.1)\n",
            "Requirement already satisfied: prompt-toolkit!=3.0.0,!=3.0.1,<3.1.0,>=2.0.0 in /usr/local/lib/python3.10/dist-packages (from Ipython) (3.0.47)\n",
            "Requirement already satisfied: pygments in /usr/local/lib/python3.10/dist-packages (from Ipython) (2.18.0)\n",
            "Requirement already satisfied: backcall in /usr/local/lib/python3.10/dist-packages (from Ipython) (0.2.0)\n",
            "Requirement already satisfied: matplotlib-inline in /usr/local/lib/python3.10/dist-packages (from Ipython) (0.1.7)\n",
            "Requirement already satisfied: pexpect>4.3 in /usr/local/lib/python3.10/dist-packages (from Ipython) (4.9.0)\n",
            "Requirement already satisfied: parso<0.9.0,>=0.8.3 in /usr/local/lib/python3.10/dist-packages (from jedi>=0.16->Ipython) (0.8.4)\n",
            "Requirement already satisfied: ptyprocess>=0.5 in /usr/local/lib/python3.10/dist-packages (from pexpect>4.3->Ipython) (0.7.0)\n",
            "Requirement already satisfied: wcwidth in /usr/local/lib/python3.10/dist-packages (from prompt-toolkit!=3.0.0,!=3.0.1,<3.1.0,>=2.0.0->Ipython) (0.2.13)\n"
          ]
        }
      ]
    },
    {
      "cell_type": "code",
      "source": [
        "# Defining my device\n",
        "device = torch.device('cuda:0' if torch.cuda.is_available() else 'cpu')\n",
        "\n",
        "# Defining the model\n",
        "model = CustomMLP(vocab_size = 8, embedding_dim = 10, hidden_dim1 = 5, hidden_dim2 = 5, drop_prob1 = 0.5, drop_prob2 = 0.3,num_outputs = 2)\n",
        "\n",
        "# Pushing the model to the device\n",
        "model = model.to(device)\n",
        "\n",
        "# Fake data\n",
        "data = torch.tensor([1,2,3,4,5,5], dtype = torch.int32).to(device)\n",
        "offsets = torch.tensor([0,2,4], dtype = torch.int32).to(device)\n",
        "\n",
        "summary(model, input_data=[(data,offsets)], device = device, depth = 10, verbose = False)\n"
      ],
      "metadata": {
        "colab": {
          "base_uri": "https://localhost:8080/"
        },
        "id": "ptAJvJb7OrvA",
        "outputId": "1cce4907-d71f-4431-fb41-6feeee4b396a"
      },
      "execution_count": null,
      "outputs": [
        {
          "output_type": "execute_result",
          "data": {
            "text/plain": [
              "==========================================================================================\n",
              "Layer (type:depth-idx)                   Output Shape              Param #\n",
              "==========================================================================================\n",
              "CustomMLP                                [3, 2]                    --\n",
              "├─EmbeddingBag: 1-1                      [3, 10]                   80\n",
              "├─Sequential: 1-2                        [3, 2]                    --\n",
              "│    └─CustomBlock: 2-1                  [3, 5]                    --\n",
              "│    │    └─Sequential: 3-1              [3, 5]                    --\n",
              "│    │    │    └─Linear: 4-1             [3, 5]                    55\n",
              "│    │    │    └─BatchNorm1d: 4-2        [3, 5]                    10\n",
              "│    │    │    └─ReLU: 4-3               [3, 5]                    --\n",
              "│    │    │    └─Dropout: 4-4            [3, 5]                    --\n",
              "│    └─CustomBlock: 2-2                  [3, 5]                    --\n",
              "│    │    └─Sequential: 3-2              [3, 5]                    --\n",
              "│    │    │    └─Linear: 4-5             [3, 5]                    30\n",
              "│    │    │    └─BatchNorm1d: 4-6        [3, 5]                    10\n",
              "│    │    │    └─ReLU: 4-7               [3, 5]                    --\n",
              "│    │    │    └─Dropout: 4-8            [3, 5]                    --\n",
              "│    └─Linear: 2-3                       [3, 2]                    12\n",
              "==========================================================================================\n",
              "Total params: 197\n",
              "Trainable params: 197\n",
              "Non-trainable params: 0\n",
              "Total mult-adds (M): 0.00\n",
              "==========================================================================================\n",
              "Input size (MB): 0.00\n",
              "Forward/backward pass size (MB): 0.00\n",
              "Params size (MB): 0.00\n",
              "Estimated Total Size (MB): 0.00\n",
              "=========================================================================================="
            ]
          },
          "metadata": {},
          "execution_count": 31
        }
      ]
    },
    {
      "cell_type": "code",
      "source": [
        "from torchviz import make_dot\n",
        "from IPython.display import Image\n",
        "\n",
        "output = model((data,offsets))\n",
        "\n",
        "diagram = make_dot(output, params = dict(model.named_parameters()))\n",
        "diagram.render('CustomMLP_network', format = 'png')\n",
        "\n",
        "Image(filename ='CustomMLP_network.png')\n"
      ],
      "metadata": {
        "colab": {
          "base_uri": "https://localhost:8080/",
          "height": 753
        },
        "id": "sbKLkn4jQrzq",
        "outputId": "fa525e97-3441-4906-80dc-5ac13df2ce7a"
      },
      "execution_count": null,
      "outputs": [
        {
          "output_type": "execute_result",
          "data": {
            "image/png": "[encoded data removed]",
            "text/plain": [
              "<IPython.core.display.Image object>"
            ]
          },
          "metadata": {},
          "execution_count": 32
        }
      ]
    },
    {
      "cell_type": "code",
      "source": [
        "print(output)"
      ],
      "metadata": {
        "colab": {
          "base_uri": "https://localhost:8080/"
        },
        "id": "esSXL8GSRp7z",
        "outputId": "8068bd5b-48e5-406d-d014-b21bd8d3b07d"
      },
      "execution_count": null,
      "outputs": [
        {
          "output_type": "stream",
          "name": "stdout",
          "text": [
            "tensor([[-0.1715, -0.1806],\n",
            "        [-0.1483, -0.0487],\n",
            "        [-0.5711, -0.0397]], device='cuda:0', grad_fn=<AddmmBackward0>)\n"
          ]
        }
      ]
    },
    {
      "cell_type": "markdown",
      "source": [
        "# <font color = 'orange'>**Step function**"
      ],
      "metadata": {
        "id": "Jf6eClBkSp13"
      }
    },
    {
      "cell_type": "code",
      "source": [
        "def step(inputs, targets, model, device, loss_function=None, optimizer=None):\n",
        "\n",
        "    \"\"\"\n",
        "    Performs a forward and backward pass for a given batch of inputs and targets.\n",
        "\n",
        "    Parameters:\n",
        "    - inputs (torch.Tensor): The input data for the model.\n",
        "    - targets (torch.Tensor): The true labels for the input data.\n",
        "    - model (torch.nn.Module): The neural network model.\n",
        "    - device (torch.device): The computing device (CPU or GPU).\n",
        "    - loss_function (torch.nn.Module, optional): The loss function to use.\n",
        "    - optimizer (torch.optim.Optimizer, optional): The optimizer to update model parameters.\n",
        "\n",
        "    Returns:\n",
        "    - loss (float): The computed loss value (only if loss_function is not None).\n",
        "    - outputs (torch.Tensor): The predictions from the model.\n",
        "    - correct (int): The number of correctly classified samples in the batch.\n",
        "    \"\"\"\n",
        "\n",
        "\n",
        "    # Move the model and data to the device\n",
        "    model = model.to(device)\n",
        "\n",
        "    inputs = tuple(input_tensor.to(device)\n",
        "                            for input_tensor in inputs)\n",
        "\n",
        "    targets = targets.to(device).float()\n",
        "\n",
        "    # Step 1: Forward pass to get the model's predictions\n",
        "    outputs = model(inputs)\n",
        "\n",
        "    # Step 2a: Compute the loss using the provided loss function\n",
        "    if loss_function:\n",
        "        loss = loss_function(outputs, targets)\n",
        "\n",
        "    # Step 2b: Calculate the number of correctly classified samples\n",
        "    predicted = (outputs > 0.5).float()\n",
        "    # Step 2c: Calculating and updating the hamming distance\n",
        "    train_hamming_distance = HammingDistance(task = 'multilabel', num_labels = targets.size(1)).to(device)\n",
        "    hamming_distance = train_hamming_distance(predicted, targets).item()\n",
        "\n",
        "\n",
        "\n",
        "    # Step 3 and 4: Perform backward pass and update model parameters if an optimizer is provided\n",
        "    if optimizer:\n",
        "        optimizer.zero_grad() # Zero gradients\n",
        "        loss.backward() # Backward pass\n",
        "        clip_grad_value_(model.parameters(),clip_value = 10) # Gradient clipping to prevent exploding gradients\n",
        "        optimizer.step()\n",
        "\n",
        "    # Return relevant metrics\n",
        "    if loss_function:\n",
        "        return loss, outputs, hamming_distance\n",
        "    else:\n",
        "        return None, outputs, hamming_distance"
      ],
      "metadata": {
        "id": "xn6PU5Q8Sjrq"
      },
      "execution_count": null,
      "outputs": []
    },
    {
      "cell_type": "markdown",
      "source": [
        "# <font color = 'orange'>**Train_epoch function**\n",
        "- Step function implemented in the epoch training phase.\n",
        "- updates the hamming distance and loss for each batch within the epoch.\n",
        "- takes the average hamming distance and train_loss for that epoch of batches."
      ],
      "metadata": {
        "id": "hxInTk9ed4TQ"
      }
    },
    {
      "cell_type": "code",
      "source": [
        "def train_epoch(train_loader, model, device, loss_function,optimizer):\n",
        "  \"\"\"\n",
        "  Trains the model for one epoch using the provided data loader and updates the model parameters.\n",
        "\n",
        "  Parameters:\n",
        "  -train_loader (torch.utils.data.DataLoader): dataloader object for the training dataset\n",
        "  -model (torch.nn.Module): Neural network model to be trained.\n",
        "  - device (torch.device): The CPU or GPU\n",
        "  -loss_function: function used to compute the training loss.\n",
        "  -optimizer: The function to minimize the loss during training by updating model parameters.\n",
        "\n",
        "  Returns:\n",
        "  -train_loss (float): Average Training Loss for the epoch.\n",
        "  -avg_ hamming_distance (float): Training Hamming Distance average for the Epoch.\n",
        "  \"\"\"\n",
        "\n",
        "  # Setting the model to training mode\n",
        "  model.train()\n",
        "\n",
        "  # Initializing the variables to track the training loss and correct predictions.\n",
        "  running_train_loss = 0.0\n",
        "  running_hamming_distance = 0.0\n",
        "\n",
        "  # Iterating over all batches\n",
        "  for inputs, targets in train_loader:\n",
        "    # Performing the forward and backward pass and updating parameters\n",
        "    loss,outputs, hamming_distance = step(inputs,targets,model,device,loss_function,optimizer)\n",
        "\n",
        "    # Updating the running loss and the Hamming Distance\n",
        "    # adds the training loss from the batch\n",
        "    running_train_loss += loss.item()\n",
        "    # adds the hamming distance from the batch\n",
        "    running_hamming_distance += hamming_distance\n",
        "\n",
        "  # this calculates the average train loss and hamming distance within the epoch.\n",
        "  train_loss = running_train_loss/len(train_loader)\n",
        "  avg_train_hamming_distance = running_hamming_distance / len(train_loader)\n",
        "\n",
        "  return train_loss, avg_train_hamming_distance"
      ],
      "metadata": {
        "id": "C34f0Cmjd2NL"
      },
      "execution_count": null,
      "outputs": []
    },
    {
      "cell_type": "markdown",
      "source": [
        "## <font color = 'orange'>**Creating the validate epoch function (val_epoch):**\n"
      ],
      "metadata": {
        "id": "hEkPy12Gix2e"
      }
    },
    {
      "cell_type": "code",
      "source": [
        "def val_epoch(valid_loader,model,device,loss_function):\n",
        "  \"\"\"\n",
        "  Validates the model for one epoch using the provided data loader.\n",
        "\n",
        "\n",
        "  Parameters:\n",
        "  - valid_loader (torch.utils.data.DataLoader): Dataloader object for the validation set.\n",
        "  - model (torch.nn.Module): Neural Network model to be trained\n",
        "  - device (torch.device): The computing device CPU or GPU.\n",
        "  - loss_function (torch.nn.Module): Loss function to be used during training.\n",
        "\n",
        "  Returns:\n",
        "  - val_loss (float): The validation set loss for the epoch.\n",
        "  - val_hamming distance (float): Validation Hamming Distance for the epoch.\n",
        "  \"\"\"\n",
        "  # swiching the model to evaluation mode\n",
        "  model.eval()\n",
        "\n",
        "  # initiaizing the running validation loss and hamming distance\n",
        "  running_val_loss = 0.0\n",
        "  running_hamming_distance = 0.0\n",
        "\n",
        "  # disabling the gradient to prevent leakage of information and speed up the training process.\n",
        "  with torch.no_grad():\n",
        "\n",
        "    # iterating over each batch in the loader.\n",
        "    for inputs, targets in valid_loader:\n",
        "\n",
        "      # forward pass for hamming distance:\n",
        "      loss, outputs, hamming_distance = step(inputs, targets, model, device, loss_function, optimizer = None)\n",
        "\n",
        "      # Updating the running loss and hamming distance\n",
        "      running_val_loss += loss.item()\n",
        "      running_hamming_distance += hamming_distance\n",
        "\n",
        "  # average validation loss of the epoch\n",
        "  val_loss = running_val_loss/len(valid_loader)\n",
        "  # average hamming distance of the epoch\n",
        "  avg_valid_hamming_distance = running_hamming_distance/len(valid_loader)\n",
        "\n",
        "  return val_loss, avg_valid_hamming_distance\n",
        "\n",
        "\n"
      ],
      "metadata": {
        "id": "mysB8cJMitAN"
      },
      "execution_count": null,
      "outputs": []
    },
    {
      "cell_type": "markdown",
      "source": [
        "# <font color='orange'>**Early Stopping Mechanism**</font>\n",
        "\n",
        "- **Early Stopping** is a regularization technique that helps prevent **overfitting** by monitoring the **validation loss** during training.\n",
        "- The idea is simple: if the **validation loss** doesn't improve for a set number of epochs (determined by **<font color='orange'>patience</font>**), training will stop early, saving time and preventing the model from overfitting to the training data.\n",
        "- The **<font color='orange'>`patience`</font>** parameter controls how many epochs we are willing to wait for improvement, and the **<font color='orange'>`delta`</font>** parameter defines the minimum improvement in validation loss required to reset the patience counter.\n",
        "- This function is essential for ensuring our model generalizes well to unseen data and stops training when no further improvement is observed.\n"
      ],
      "metadata": {
        "id": "HHB7dKk9uuEV"
      }
    },
    {
      "cell_type": "code",
      "source": [
        "class EarlyStopping:\n",
        "    def __init__(self, patience=5, delta=0):\n",
        "        \"\"\"\n",
        "        Initializes the EarlyStopping object to track validation loss and stop training if no improvement.\n",
        "\n",
        "        Parameters:\n",
        "        - patience (int): Number of epochs with no improvement after which training will be stopped.\n",
        "        - delta (float): Minimum change in the monitored quantity to qualify as an improvement.\n",
        "        \"\"\"\n",
        "        self.patience = patience          # How many epochs to wait before stopping\n",
        "        self.delta = delta                # Minimum improvement required\n",
        "        self.best_loss = float('inf')     # Initialize best loss as infinity\n",
        "        self.counter = 0                  # Counter for how many epochs since improvement\n",
        "        self.early_stop = False           # Flag for whether to stop early\n",
        "\n",
        "    def __call__(self, val_loss):\n",
        "        \"\"\"\n",
        "        Check whether the validation loss has improved sufficiently. If not, increase the counter.\n",
        "        If the counter reaches the patience, set the early_stop flag to True.\n",
        "\n",
        "        Parameters:\n",
        "        - val_loss (float): The current validation loss to be compared against the best loss.\n",
        "        \"\"\"\n",
        "        # If the validation loss improves by more than delta\n",
        "        if val_loss < self.best_loss - self.delta:\n",
        "            self.best_loss = val_loss     # Update best loss\n",
        "            self.counter = 0              # Reset the counter\n",
        "        else:\n",
        "            # No improvement, increment the counter\n",
        "            self.counter += 1\n",
        "            if self.counter >= self.patience:\n",
        "                self.early_stop = True     # Set the early stopping flag\n"
      ],
      "metadata": {
        "id": "J24cTf33ur_m"
      },
      "execution_count": null,
      "outputs": []
    },
    {
      "cell_type": "markdown",
      "source": [
        "## <font color = 'orange'>**Train function for full dataset**\n"
      ],
      "metadata": {
        "id": "KmQMBXP8nxAe"
      }
    },
    {
      "cell_type": "code",
      "source": [
        "def train(train_loader, valid_loader, model, optimizer, loss_function, epochs, device, patience):\n",
        "  \"\"\"\n",
        "  Trains and validates the model, and returns history of train and validation metrics.\n",
        "\n",
        "  Parameters:\n",
        "  - train_loader(torch.utils.data.DataLoader): The defined training dataset loader.\n",
        "  - valid_loader(torch.utils.data.DataLoader): The defined validation dataset loader.\n",
        "  - model(torch.nn.Module): The Neural Network we want to train.\n",
        "  - optimizer (torch.optim.Optimizer): The defined optimizer to update model weights.\n",
        "  - loss_function (torch.nn.Module): The defined loss function to evaluate the model.\n",
        "  - epochs: the number of epochs to train the model on the full dataset.\n",
        "  - device (torch.device): The defined device CPU or GPU\n",
        "\n",
        "  Returns:\n",
        "  - train_loss_history (list): History of training loss for each epoch.\n",
        "  - train_hamming_history (list): History of training hamming distance for each epoch.\n",
        "  - valid_loss_history (list): History of validation loss for each epoch.\n",
        "  - valid_hamming_history (list): History of validation hamming distance for each epoch.\n",
        "    \"\"\"\n",
        "  train_loss_history = []\n",
        "  train_hamming_history = []\n",
        "  valid_loss_history = []\n",
        "  valid_hamming_history = []\n",
        "\n",
        "  # inititializing early stopping\n",
        "  early_stopping = EarlyStopping(patience = patience)\n",
        "\n",
        "  # Iterating the train_epoch and val_epoch functions over every epoch\n",
        "  for epoch in range(epochs):\n",
        "    train_loss, avg_train_hamming_distance = train_epoch(\n",
        "        train_loader, model, device, loss_function, optimizer)\n",
        "\n",
        "    val_loss, avg_valid_hamming_distance = val_epoch(\n",
        "        valid_loader, model, device, loss_function\n",
        "    )\n",
        "\n",
        "    # appending the losses and hamming distances to the histories\n",
        "    train_loss_history.append(train_loss)\n",
        "    train_hamming_history.append(avg_train_hamming_distance)\n",
        "    valid_loss_history.append(val_loss)\n",
        "    valid_hamming_history.append(avg_valid_hamming_distance)\n",
        "\n",
        "    # epoch level summaries\n",
        "    print(f'Epoch {epoch+1}/{epochs}')\n",
        "    print(f'Train loss:{train_loss:.4f} | Train Hamming Distance: {avg_train_hamming_distance}')\n",
        "    print(f'Validation loss: {val_loss:.4f} | Validation Hamming Distance:{avg_valid_hamming_distance}')\n",
        "    print()\n",
        "\n",
        "    # Earyl stopping check\n",
        "    early_stopping(val_loss, model)\n",
        "\n",
        "    # Breaking the loop if early stopping is called.\n",
        "    if early_stopping.early_stop:\n",
        "      print('Early Stopping triggered')\n",
        "      break\n",
        "\n",
        "\n",
        "\n",
        "  return train_loss_history, train_hamming_history, valid_loss_history, valid_hamming_history\n"
      ],
      "metadata": {
        "id": "EkBhK8X2nqgp"
      },
      "execution_count": null,
      "outputs": []
    },
    {
      "cell_type": "markdown",
      "source": [
        "# <font color = 'orange'>**Training the Model**"
      ],
      "metadata": {
        "id": "bgfR5mcswBzP"
      }
    },
    {
      "cell_type": "markdown",
      "source": [
        "## <font color = 'orange'>**Hyperparameters**\n",
        "- The hyperparameters that will be used to fine-tune the model are as follows:\n",
        "  - **Neurons for the first hidden layer**: 200\n",
        "  - **Neurons for the second hidden layer**: 100\n",
        "  - **Embedding Dimension**: 300\n",
        "  - **EPOCHS**: 5\n",
        "  - **BATCH_SIZE**: 128\n",
        "  - **LEARNING_RATE**: 0.001\n",
        "  - **WEIGHT_DECAY**: 0.000\n",
        "  - **CLIP_TYPE**: 'value'\n",
        "  - **PATIENCE**: 5\n",
        "  - **Optimizer**: AdamW"
      ],
      "metadata": {
        "id": "PxJro-KhsZDf"
      }
    },
    {
      "cell_type": "code",
      "source": [
        "# model parameters\n",
        "EMBED_DIM=300\n",
        "VOCAB_SIZE=len(stack_vocab)\n",
        "HIDDEN_DIM1=200\n",
        "HIDDEN_DIM2=100\n",
        "DROP_PROB1=0.5\n",
        "DROP_PROB2=0.5\n",
        "NUM_OUTPUTS=10\n",
        "PATIENCE= 5\n",
        "\n",
        "\n",
        "# training\n",
        "EPOCHS=5\n",
        "BATCH_SIZE=128\n",
        "LEARNING_RATE = 0.001\n",
        "WEIGHT_DECAY = 0.000"
      ],
      "metadata": {
        "id": "pF4hAZeXsFV8"
      },
      "execution_count": null,
      "outputs": []
    },
    {
      "cell_type": "markdown",
      "source": [
        "## <font color = 'orange'>**Training Configurations**"
      ],
      "metadata": {
        "id": "PzKkzL80woaJ"
      }
    },
    {
      "cell_type": "code",
      "source": [
        "# Fixing the seed values for reproducibility\n",
        "SEED = 1717\n",
        "random.seed(SEED)                           # Sets the seed for the random module\n",
        "np.random.seed(SEED)                        # Sets the seed for the np.random module for number generation\n",
        "torch.manual_seed(SEED)                     # Sets the seed for PyTorch CPU\n",
        "torch.cuda.manual_seed(SEED)                 # Sets the seed for the PyTorch GPU\n",
        "torch.backends.cudnn.deterministic = True   # Ensures the deterministic behavior in CuDNN\n",
        "\n",
        "# Defining the device for model training (Cuda T4)\n",
        "device = torch.device('cuda:0' if torch.cuda.is_available() else 'cpu')\n",
        "\n",
        "# Defining the collate function with a fixed vocabulary using 'partial'\n",
        "collate_fn = partial(collate_batch_embedding_bag, my_vocab = stack_vocab)\n",
        "\n",
        "# Data Loaders for the train, valid and test sets\n",
        "train_loader = torch.utils.data.DataLoader(trainset, batch_size = BATCH_SIZE, shuffle = True,\n",
        "                                           collate_fn = collate_fn, num_workers = 0) # num_workers allows for cpu cores to handle some processing while the model trains on the GPU\n",
        "\n",
        "valid_loader = torch.utils.data.DataLoader(validset, batch_size = BATCH_SIZE, shuffle = True,\n",
        "                                           collate_fn = collate_fn, num_workers = 0)\n",
        "\n",
        "test_loader = torch.utils.data.DataLoader(testset, batch_size = BATCH_SIZE, shuffle = True,\n",
        "                                          collate_fn = collate_fn, num_workers = 0)\n",
        "# Move class weights to the correct device\n",
        "class_weights = class_weights.to(device)\n",
        "\n",
        "# defining the loss function and applying class weights\n",
        "loss_function = nn.BCEWithLogitsLoss(pos_weight = class_weights)\n",
        "\n",
        "# Defining the model with the parameters\n",
        "model_stack = CustomMLP(vocab_size = VOCAB_SIZE,\n",
        "                        embedding_dim = EMBED_DIM,\n",
        "                        hidden_dim1 = HIDDEN_DIM1,\n",
        "                        hidden_dim2 = HIDDEN_DIM2,\n",
        "                        drop_prob1 = DROP_PROB1,\n",
        "                        drop_prob2 = DROP_PROB2,\n",
        "                        num_outputs = NUM_OUTPUTS)\n",
        "\n",
        "# initializing the optimizer to train the model\n",
        "optimizer = torch.optim.AdamW(model_stack.parameters(), lr = LEARNING_RATE, weight_decay = WEIGHT_DECAY)\n",
        "\n",
        "# Make sure the model is on the correct device\n",
        "model_stack = model_stack.to(device)\n"
      ],
      "metadata": {
        "id": "qdLYvLVlwL_M"
      },
      "execution_count": null,
      "outputs": []
    },
    {
      "cell_type": "markdown",
      "source": [
        "### <font color = 'orange'>**Checkpoints**"
      ],
      "metadata": {
        "id": "NqyUas52QjM4"
      }
    },
    {
      "cell_type": "code",
      "source": [
        "print(f\"Model device: {next(model_stack.parameters()).device}\")\n",
        "print(f\"Inputs device: {[input_tensor.device for input_tensor in inputs]}\")\n",
        "print(f\"Targets device: {targets.device}\")"
      ],
      "metadata": {
        "colab": {
          "base_uri": "https://localhost:8080/"
        },
        "id": "w4wIdvys949W",
        "outputId": "b33990c4-7efe-43a8-9c15-8dbeeeb0ef82"
      },
      "execution_count": null,
      "outputs": [
        {
          "output_type": "stream",
          "name": "stdout",
          "text": [
            "Model device: cuda:0\n",
            "Inputs device: [device(type='cpu'), device(type='cpu')]\n",
            "Targets device: cuda:0\n"
          ]
        }
      ]
    },
    {
      "cell_type": "code",
      "source": [
        "print(f\"Output shape: {output.shape}\")\n",
        "print(f\"Targets shape: {targets.shape}\")\n"
      ],
      "metadata": {
        "colab": {
          "base_uri": "https://localhost:8080/"
        },
        "id": "Ielu4W6b-xVp",
        "outputId": "c6527711-8279-4825-e568-a42c27e9ec8d"
      },
      "execution_count": null,
      "outputs": [
        {
          "output_type": "stream",
          "name": "stdout",
          "text": [
            "Output shape: torch.Size([128, 10])\n",
            "Targets shape: torch.Size([128, 10])\n"
          ]
        }
      ]
    },
    {
      "cell_type": "code",
      "source": [
        "# Check if there are NaNs in the outputs or targets\n",
        "print(torch.isnan(output).any())  # Should print False\n",
        "print(torch.isnan(targets).any())  # Should print False\n"
      ],
      "metadata": {
        "colab": {
          "base_uri": "https://localhost:8080/"
        },
        "id": "uMiDwFLs-_Dg",
        "outputId": "02b6cf3c-22c4-4659-b40f-03d2c9ae890e"
      },
      "execution_count": null,
      "outputs": [
        {
          "output_type": "stream",
          "name": "stdout",
          "text": [
            "tensor(False, device='cuda:0')\n",
            "tensor(False, device='cuda:0')\n"
          ]
        }
      ]
    },
    {
      "cell_type": "code",
      "source": [
        "# Check for any non-binary values in the targets\n",
        "print(torch.unique(targets))\n"
      ],
      "metadata": {
        "colab": {
          "base_uri": "https://localhost:8080/"
        },
        "id": "PB4z-_qS_nlj",
        "outputId": "84dbe21c-ddd4-49b8-f2c5-8c5fd022e969"
      },
      "execution_count": null,
      "outputs": [
        {
          "output_type": "stream",
          "name": "stdout",
          "text": [
            "tensor([0., 1.], device='cuda:0')\n"
          ]
        }
      ]
    },
    {
      "cell_type": "markdown",
      "source": [
        "## <font color='orange'>**Sanity Check for Multi-Label Classification**</font>\n",
        "\n",
        "Before diving into full-scale training, it's always a good idea to run a **sanity check**. This quick check ensures that both the data processing and the model's forward pass are working as expected. For our multi-label classification setup, we can compare the actual loss from an untrained model to the **theoretical loss** for random predictions.\n",
        "\n",
        "- Since we're using **`BCEWithLogitsLoss`**, which combines the sigmoid function and binary cross-entropy, the expected **theoretical loss** for random predictions should be close to **`log(2)`** (around 0.693). This is because a random guess for each label would yield about a 50% probability for being either 0 or 1.\n",
        "\n",
        "- The process here involves running a single forward pass on a batch of data and computing the loss without any gradients. If the actual loss from the untrained model is close to **`log(2)`**, it suggests that our model architecture and data processing are set up correctly, and we’re ready to move forward.\n",
        "\n",
        "This step helps catch any potential issues early on, so we don’t waste time training a model that has fundamental errors in its setup.\n"
      ],
      "metadata": {
        "id": "rITnmgk31Zk_"
      }
    },
    {
      "cell_type": "code",
      "source": [
        "# Running the DataLoader for the first batch to inspect the data\n",
        "for inputs, targets in train_loader:\n",
        "    # Unpack the inputs (indices and offsets)\n",
        "    indices, offsets = inputs\n",
        "\n",
        "    # Print the shape and device of indices and offsets\n",
        "    print(f\"indices shape: {indices.shape}, indices device: {indices.device}\")\n",
        "    print(f\"offsets shape: {offsets.shape}, offsets device: {offsets.device}\")\n",
        "\n",
        "    # Print the shape and device of targets (labels)\n",
        "    print(f\"targets shape: {targets.shape}, targets device: {targets.device}\")\n",
        "\n",
        "    # Move the data to the appropriate device (GPU or CPU)\n",
        "    indices = indices.to(device)\n",
        "    offsets = offsets.to(device)\n",
        "    targets = targets.to(device)\n",
        "\n",
        "    # Print again after moving to the device\n",
        "    print(f\"indices device after moving: {indices.device}\")\n",
        "    print(f\"offsets device after moving: {offsets.device}\")\n",
        "    print(f\"targets device after moving: {targets.device}\")\n",
        "\n",
        "    # Ensure all data is on the same device\n",
        "    assert indices.device == offsets.device == targets.device, \"Data not on the same device!\"\n",
        "    assert next(model_stack.parameters()).device == device, \"Model not on the same device!\"\n",
        "\n",
        "    # Pass it through the model to ensure the forward pass works\n",
        "    model_stack.eval()\n",
        "    with torch.no_grad():\n",
        "      output = model_stack((indices, offsets))  # Forward pass with unpacked inputs\n",
        "      loss = loss_function(output, targets)\n",
        "      print(f'Actual loss: {loss.item()}')\n",
        "\n",
        "      break\n",
        "    # Print output shape and ensure it matches target shape\n",
        "    print(f\"Output shape: {output.shape}, Output device: {output.device}\")\n",
        "    print(f\"Expected target shape: {targets.shape}\")\n",
        "\n",
        "    break  # Stop after the first batch for debugging purposes"
      ],
      "metadata": {
        "colab": {
          "base_uri": "https://localhost:8080/"
        },
        "id": "g9N1vNWO7g-d",
        "outputId": "fa084dd5-ddb9-44d0-fd77-a03a66520968"
      },
      "execution_count": null,
      "outputs": [
        {
          "output_type": "stream",
          "name": "stdout",
          "text": [
            "indices shape: torch.Size([9631]), indices device: cpu\n",
            "offsets shape: torch.Size([128]), offsets device: cpu\n",
            "targets shape: torch.Size([128, 10]), targets device: cpu\n",
            "indices device after moving: cuda:0\n",
            "offsets device after moving: cuda:0\n",
            "targets device after moving: cuda:0\n",
            "Actual loss: 0.6388927698135376\n"
          ]
        }
      ]
    },
    {
      "cell_type": "markdown",
      "source": [
        "The actual loss matches around what we would expect the theoretical loss to be from a random guess."
      ],
      "metadata": {
        "id": "IHk4t7JyQst3"
      }
    },
    {
      "cell_type": "markdown",
      "source": [
        "## <font color = 'orange'>**Training**"
      ],
      "metadata": {
        "id": "aO_hSozpQ--Y"
      }
    },
    {
      "cell_type": "code",
      "source": [
        "# calling the training function for the model\n",
        "train_losses, train_hamming,valid_losses, valid_hamming = train(\n",
        "    train_loader, valid_loader, model_stack, optimizer,loss_function,EPOCHS,device, patience = PATIENCE\n",
        ")"
      ],
      "metadata": {
        "colab": {
          "base_uri": "https://localhost:8080/"
        },
        "id": "FEkwBdAQEk6U",
        "outputId": "27a49714-6c20-418e-d421-9da5a1c406db"
      },
      "execution_count": null,
      "outputs": [
        {
          "output_type": "stream",
          "name": "stdout",
          "text": [
            "Epoch 1/5\n",
            "Train loss:0.2652 | Train Hamming Distance: 0.18185070958458074\n",
            "Validation loss: 0.1523 | Validation Hamming Distance:0.1065241426229477\n",
            "\n",
            "Epoch 2/5\n",
            "Train loss:0.1362 | Train Hamming Distance: 0.10281315896691394\n",
            "Validation loss: 0.1137 | Validation Hamming Distance:0.07558100819587707\n",
            "\n",
            "Epoch 3/5\n",
            "Train loss:0.1060 | Train Hamming Distance: 0.08123358708469808\n",
            "Validation loss: 0.1006 | Validation Hamming Distance:0.06681834061940511\n",
            "\n",
            "Epoch 4/5\n",
            "Train loss:0.0888 | Train Hamming Distance: 0.070844272855951\n",
            "Validation loss: 0.0950 | Validation Hamming Distance:0.06270270148913065\n",
            "\n",
            "Epoch 5/5\n",
            "Train loss:0.0772 | Train Hamming Distance: 0.06325170522978325\n",
            "Validation loss: 0.0911 | Validation Hamming Distance:0.05890659987926483\n",
            "\n"
          ]
        }
      ]
    },
    {
      "cell_type": "code",
      "source": [
        "def plot_history(train_losses, train_metrics, val_losses=None, val_metrics=None):\n",
        "    \"\"\"\n",
        "    Plot training and validation loss and metrics over epochs.\n",
        "\n",
        "    Args:\n",
        "        train_losses (list): List of training losses for each epoch.\n",
        "        train_metrics (list): List of training metrics (e.g., accuracy) for each epoch.\n",
        "        val_losses (list, optional): List of validation losses for each epoch.\n",
        "        val_metrics (list, optional): List of validation metrics for each epoch.\n",
        "\n",
        "    Returns:\n",
        "        None\n",
        "    \"\"\"\n",
        "    # Determine the number of epochs based on the length of train_losses\n",
        "    epochs = range(1, len(train_losses) + 1)\n",
        "\n",
        "    # Plotting training and validation losses\n",
        "    plt.figure()\n",
        "    plt.plot(epochs, train_losses, label=\"Train\")  # Plot training losses\n",
        "    if val_losses:  # Check if validation losses are provided\n",
        "        plt.plot(epochs, val_losses, label=\"Validation\")  # Plot validation losses\n",
        "    plt.xlabel(\"Epochs\")\n",
        "    plt.ylabel(\"Loss\")\n",
        "    plt.legend()\n",
        "    plt.show()\n",
        "\n",
        "    # Plotting training and validation metrics\n",
        "    if train_metrics[0] is not None:  # Check if training metrics are available\n",
        "        plt.figure()\n",
        "        plt.plot(epochs, train_metrics, label=\"Train\")  # Plot training metrics\n",
        "        if val_metrics:  # Check if validation metrics are provided\n",
        "            plt.plot(epochs, val_metrics, label=\"Validation\")  # Plot validation metrics\n",
        "        plt.xlabel(\"Epochs\")\n",
        "        plt.ylabel(\"Metric\")\n",
        "        plt.legend()\n",
        "        plt.show()"
      ],
      "metadata": {
        "id": "0GGKJkpuRg8f"
      },
      "execution_count": null,
      "outputs": []
    },
    {
      "cell_type": "code",
      "source": [
        "plot_history(train_losses, train_hamming, valid_losses, valid_hamming)"
      ],
      "metadata": {
        "colab": {
          "base_uri": "https://localhost:8080/",
          "height": 881
        },
        "id": "P2RUUsBCSxAZ",
        "outputId": "326dbfbb-f868-4e42-f9f7-b1f5913f1c1f"
      },
      "execution_count": null,
      "outputs": [
        {
          "output_type": "display_data",
          "data": {
            "text/plain": [
              "<Figure size 640x480 with 1 Axes>"
            ],
            "image/png": "[encoded data removed]"
          },
          "metadata": {}
        },
        {
          "output_type": "display_data",
          "data": {
            "text/plain": [
              "<Figure size 640x480 with 1 Axes>"
            ],
            "image/png": "[encoded data removed]"
          },
          "metadata": {}
        }
      ]
    },
    {
      "cell_type": "markdown",
      "source": [
        "# <font color = 'orange'>**Training Analysis**</font>\n",
        "\n",
        "- Based on the results from the epoch outputs and the plots above, we can see that the **<font color='orange'>training loss</font>** is steadily decreasing across epochs, which indicates that the model is **<font color='orange'>learning</font>** and improving its predictions.\n",
        "- From the **<font color='orange'>loss plot</font>**, the **<font color='orange'>validation loss</font>** remains consistently low and follows a similar pattern to the **<font color='orange'>training loss</font>**. This suggests that the model is **<font color='orange'>generalizing well</font>** on unseen data, which is a key sign of a good model.\n",
        "- At this point, there are no signs of **<font color='orange'>overfitting</font>**, based on the number of epochs currently used. It could be valuable to increase the number of epochs in the future to **<font color='orange'>fine-tune</font>** the model and observe if the **<font color='orange'>validation loss</font>** starts increasing while the **<font color='orange'>training loss</font>** continues to decrease.\n",
        "- The **<font color='orange'>hamming loss</font>** metric is also decreasing for both training and validation, which is a positive sign. The **<font color='orange'>hamming distance</font>** should decrease as training progresses because it measures how many predictions are **<font color='orange'>incorrect</font>** out of the total possible predictions.\n",
        "- With these results, we can now proceed to **<font color='orange'>model evaluation</font>** on the testing dataset.\n",
        "\n"
      ],
      "metadata": {
        "id": "0joCIxRJTYBr"
      }
    },
    {
      "cell_type": "markdown",
      "source": [
        "**Checkpoint**"
      ],
      "metadata": {
        "id": "lCtne47cV3iM"
      }
    },
    {
      "cell_type": "code",
      "source": [
        "# Get the current timestamp in the format \"YYYY-MM-DD_HH-MM-SS\"\n",
        "timestamp = datetime.now().strftime(\"%Y-%m-%d_%H-%M-%S\")\n",
        "\n",
        "# Define a suffix for the file name\n",
        "suffix = 'twolayer'\n",
        "\n",
        "# Combine the timestamp and suffix to create the file path\n",
        "path = model_folder / f'{timestamp}_{suffix}.pt'\n",
        "path"
      ],
      "metadata": {
        "colab": {
          "base_uri": "https://localhost:8080/"
        },
        "id": "0FZLMG22S8Zx",
        "outputId": "b29da4e1-6d5c-4994-8420-a7e5132a41fd"
      },
      "execution_count": null,
      "outputs": [
        {
          "output_type": "execute_result",
          "data": {
            "text/plain": [
              "PosixPath('/content/drive/MyDrive/Colab Notebooks/models/nlp_fall_2024/stack/2024-09-29_01-13-30_twolayer.pt')"
            ]
          },
          "metadata": {},
          "execution_count": 52
        }
      ]
    },
    {
      "cell_type": "code",
      "source": [
        "# Save the model's state dictionary to the specified file path\n",
        "torch.save(model_stack.state_dict(), path)\n"
      ],
      "metadata": {
        "id": "xnZk5_8eVv_W"
      },
      "execution_count": null,
      "outputs": []
    },
    {
      "cell_type": "code",
      "source": [
        "\n",
        "def get_hamming_distance_pred(data_loader, model, device):\n",
        "    \"\"\"\n",
        "    Function to get predictions and Hamming distance for a given dataset using a trained model.\n",
        "    Input: data iterator, model, device\n",
        "    Output: predictions, actual labels, and Hamming distance for the given dataset.\n",
        "    \"\"\"\n",
        "    model = model.to(device)\n",
        "    model.eval()  # Set model to evaluation mode\n",
        "\n",
        "    # Initialize empty tensors to store predictions and actual labels\n",
        "    predictions = torch.Tensor().to(device)\n",
        "    y = torch.Tensor().to(device)\n",
        "\n",
        "    # Hamming distance metric (adjust num_labels to match your model's output size)\n",
        "    hamming_metric = HammingDistance(task='multilabel', num_labels=NUM_OUTPUTS).to(device)\n",
        "\n",
        "    running_hamming_distance = 0.0\n",
        "\n",
        "    # Disable gradient computation\n",
        "    with torch.no_grad():\n",
        "        # Iterate over batches from data loader\n",
        "        for inputs, targets in data_loader:  # The missing loop\n",
        "            # Move inputs and targets to the device\n",
        "            inputs = tuple(input_tensor.to(device) for input_tensor in inputs)\n",
        "            targets = targets.to(device)\n",
        "\n",
        "            # Forward pass: get model predictions\n",
        "            outputs = model(inputs)\n",
        "\n",
        "            # Apply threshold to convert outputs to binary predictions (e.g., 0.5 threshold)\n",
        "            predicted = (outputs > 0.5).float()\n",
        "\n",
        "            # Concatenate predictions and targets for the full dataset\n",
        "            predictions = torch.cat((predictions, predicted))\n",
        "            y = torch.cat((y, targets))\n",
        "\n",
        "            # Compute Hamming distance for the current batch\n",
        "            batch_hamming_distance = hamming_metric(predicted, targets).item()\n",
        "            running_hamming_distance += batch_hamming_distance\n",
        "\n",
        "    # Calculate average Hamming distance for the entire dataset\n",
        "    avg_hamming_distance = running_hamming_distance / len(data_loader)\n",
        "\n",
        "    return predictions, y, avg_hamming_distance\n"
      ],
      "metadata": {
        "id": "WAKe3m-mab4e"
      },
      "execution_count": null,
      "outputs": []
    },
    {
      "cell_type": "code",
      "source": [
        "predictions_valid, labels_valid, avg_hamming_distance = get_hamming_distance_pred(valid_loader, model_stack, device)\n",
        "print(f\"Average Hamming Distance on validation set: {avg_hamming_distance:.4f}\")\n"
      ],
      "metadata": {
        "colab": {
          "base_uri": "https://localhost:8080/"
        },
        "id": "ncCic_1QZLfH",
        "outputId": "6de27c76-3fcc-4f86-b6a2-ad4aab55d516"
      },
      "execution_count": null,
      "outputs": [
        {
          "output_type": "stream",
          "name": "stdout",
          "text": [
            "Average Hamming Distance on validation set: 0.0587\n"
          ]
        }
      ]
    },
    {
      "cell_type": "code",
      "source": [
        "predictions_valid.shape"
      ],
      "metadata": {
        "colab": {
          "base_uri": "https://localhost:8080/"
        },
        "id": "XWqWA2BKZOyz",
        "outputId": "73f1d2bc-95ea-4d7f-a15d-e002527294aa"
      },
      "execution_count": null,
      "outputs": [
        {
          "output_type": "execute_result",
          "data": {
            "text/plain": [
              "torch.Size([7589, 10])"
            ]
          },
          "metadata": {},
          "execution_count": 66
        }
      ]
    },
    {
      "cell_type": "code",
      "source": [
        "labels_valid.shape"
      ],
      "metadata": {
        "colab": {
          "base_uri": "https://localhost:8080/"
        },
        "id": "26dHQ_gnZ9k_",
        "outputId": "b9b131f2-2ead-4454-c0aa-78f5728387d4"
      },
      "execution_count": null,
      "outputs": [
        {
          "output_type": "execute_result",
          "data": {
            "text/plain": [
              "torch.Size([7589, 10])"
            ]
          },
          "metadata": {},
          "execution_count": 67
        }
      ]
    },
    {
      "cell_type": "code",
      "source": [
        "def plot_multilabel_confusion_matrix(valid_labels, valid_preds, class_labels):\n",
        "    \"\"\"\n",
        "    Plots multiple confusion matrices for each label in a multilabel classification task.\n",
        "\n",
        "    Args:\n",
        "        valid_labels (torch.Tensor): True labels of the validation data.\n",
        "        valid_preds (torch.Tensor): Predicted labels of the validation data.\n",
        "        class_labels (list): List of class names for the labels.\n",
        "    \"\"\"\n",
        "    num_classes = len(class_labels)\n",
        "\n",
        "    # Create a 10x10 grid for confusion matrices\n",
        "    fig, axes = plt.subplots(nrows=2, ncols=5, figsize=(20, 10))  # Adjust for 10 classes\n",
        "\n",
        "    for i, ax in enumerate(axes.flat):\n",
        "        if i >= num_classes:\n",
        "            break\n",
        "\n",
        "        # Compute the confusion matrix for the current class\n",
        "        cm = confusion_matrix(valid_labels[:, i].cpu(), valid_preds[:, i].cpu())\n",
        "\n",
        "        # Plot the confusion matrix using Seaborn\n",
        "        sns.heatmap(cm, annot=True, fmt=\"d\", cmap=\"Oranges\", ax=ax, cbar=True)\n",
        "\n",
        "        # Set labels and title for each subplot\n",
        "        ax.set_xlabel('Predicted')\n",
        "        ax.set_ylabel('True')\n",
        "        ax.set_title(f'Confusion Matrix for {class_labels[i]}')\n",
        "\n",
        "    plt.tight_layout()\n",
        "    plt.show()"
      ],
      "metadata": {
        "id": "bKbWsFczbjj6"
      },
      "execution_count": null,
      "outputs": []
    },
    {
      "cell_type": "code",
      "source": [
        "# First, get the predictions and actual labels\n",
        "predictions, y_true, avg_hamming_distance = get_hamming_distance_pred(valid_loader, model_stack, device)\n",
        "\n",
        "print(f\"Average Hamming Distance on validation set: {avg_hamming_distance:.4f}\")\n",
        "\n",
        "class_labels = ['c#', 'java', 'php', 'javascript', 'android', 'jquery', 'c++', 'python', 'iphone', 'asp.net']\n",
        "\n",
        "\n",
        "# Plot the confusion matrices\n",
        "plot_multilabel_confusion_matrix(y_true, predictions, class_labels)\n"
      ],
      "metadata": {
        "colab": {
          "base_uri": "https://localhost:8080/",
          "height": 510
        },
        "id": "4Q7T86rraAyv",
        "outputId": "b92c5b69-366a-4de7-9cc1-5905bf2a21d1"
      },
      "execution_count": null,
      "outputs": [
        {
          "output_type": "stream",
          "name": "stdout",
          "text": [
            "Average Hamming Distance on validation set: 0.0588\n"
          ]
        },
        {
          "output_type": "display_data",
          "data": {
            "text/plain": [
              "<Figure size 2000x1000 with 20 Axes>"
            ],
            "image/png": "[encoded data removed]"
          },
          "metadata": {}
        }
      ]
    },
    {
      "cell_type": "markdown",
      "source": [
        "<"
      ],
      "metadata": {
        "id": "r450ZSn0dGcZ"
      }
    },
    {
      "cell_type": "markdown",
      "source": [
        "\n",
        "### Simplified Summary:\n",
        "- **Java** and **Android** performed the best (over 80% predictions were correct.)\n",
        "- **JavaScript** and **PHP** had slightly lower accuracy in predicting their respective tags.\n",
        "- **Python** and **C++** were excellent at correctly identifying when their tags **shouldn’t** be there, making very few mistakes.\n",
        "\n",
        "### Hamming Distance\n",
        "- The average hamming distance for the predictions was 0.0588 indicating that the model only <font color = 'orange'>*incorrectly identified roughly 5.88% of labels*.\n",
        "\n",
        "\n"
      ],
      "metadata": {
        "id": "yfN7_98VeHHy"
      }
    },
    {
      "cell_type": "markdown",
      "source": [
        "# <font color = 'orange'>**Model Testing**\n"
      ],
      "metadata": {
        "id": "a9jfdSjbgLo8"
      }
    },
    {
      "cell_type": "code",
      "source": [
        "trained_model_stack = CustomMLP(vocab_size = VOCAB_SIZE,\n",
        "                        embedding_dim = EMBED_DIM,\n",
        "                        hidden_dim1 = HIDDEN_DIM1,\n",
        "                        hidden_dim2 = HIDDEN_DIM2,\n",
        "                        drop_prob1 = DROP_PROB1,\n",
        "                        drop_prob2 = DROP_PROB2,\n",
        "                        num_outputs = NUM_OUTPUTS)\n",
        "\n",
        "checkpoint = torch.load(path) # saving the model to a file and passing the weights to the checkpoint to make predictions.\n",
        "trained_model_stack.load_state_dict(checkpoint)"
      ],
      "metadata": {
        "colab": {
          "base_uri": "https://localhost:8080/"
        },
        "id": "i7uwR5Vob8IA",
        "outputId": "1d475a57-e086-4590-d60e-812689733d2c"
      },
      "execution_count": null,
      "outputs": [
        {
          "output_type": "stream",
          "name": "stderr",
          "text": [
            "<ipython-input-83-146984b05a38>:9: FutureWarning: You are using `torch.load` with `weights_only=False` (the current default value), which uses the default pickle module implicitly. It is possible to construct malicious pickle data which will execute arbitrary code during unpickling (See https://github.com/pytorch/pytorch/blob/main/SECURITY.md#untrusted-models for more details). In a future release, the default value for `weights_only` will be flipped to `True`. This limits the functions that could be executed during unpickling. Arbitrary objects will no longer be allowed to be loaded via this mode unless they are explicitly allowlisted by the user via `torch.serialization.add_safe_globals`. We recommend you start setting `weights_only=True` for any use case where you don't have full control of the loaded file. Please open an issue on GitHub for any issues related to this experimental feature.\n",
            "  checkpoint = torch.load(path) # saving the model to a file and passing the weights to the checkpoint to make predictions.\n"
          ]
        },
        {
          "output_type": "execute_result",
          "data": {
            "text/plain": [
              "<All keys matched successfully>"
            ]
          },
          "metadata": {},
          "execution_count": 83
        }
      ]
    },
    {
      "cell_type": "code",
      "source": [
        "from sklearn.metrics import precision_score, recall_score, f1_score\n",
        "\n",
        "def valid_metrics(y_true, y_pred, class_labels):\n",
        "    \"\"\"\n",
        "    Computes precision, recall, and F1 score for each class in a multilabel classification task.\n",
        "\n",
        "    Args:\n",
        "    - y_true: Ground truth labels (multilabel format).\n",
        "    - y_pred: Predicted labels (multilabel format).\n",
        "    - class_labels: List of class names.\n",
        "\n",
        "    Returns:\n",
        "    - result_table: A list of lists containing precision, recall, and F1 score for each class.\n",
        "    \"\"\"\n",
        "    result_table = []\n",
        "\n",
        "    for i, class_label in enumerate(class_labels):\n",
        "        # Get true values and predicted values for the current class\n",
        "        true_class = y_true[:, i].cpu().numpy()\n",
        "        pred_class = y_pred[:, i].cpu().numpy()\n",
        "\n",
        "        # Compute precision, recall, and F1 score\n",
        "        precision = precision_score(true_class, pred_class, zero_division=1)\n",
        "        recall = recall_score(true_class, pred_class, zero_division=1)\n",
        "        f1 = f1_score(true_class, pred_class, zero_division=1)\n",
        "\n",
        "        # Append the results for the current class\n",
        "        result_table.append([class_label, precision, recall, f1])\n",
        "\n",
        "    return result_table\n",
        "\n",
        "# Example usage (after running your model and getting predictions)\n",
        "class_labels = ['c#', 'java', 'php', 'javascript', 'android', 'jquery', 'c++', 'python', 'iphone', 'asp.net']\n",
        "\n",
        "# Assuming y_true and y_pred contain your true labels and predicted labels as tensors\n",
        "result_table = compute_metrics(y_true, predictions, class_labels)\n",
        "\n",
        "# Print the table\n",
        "import pandas as pd\n",
        "df = pd.DataFrame(result_table, columns=[\"Class\", \"Precision\", \"Recall\", \"F1 Score\"])\n",
        "print(df)\n"
      ],
      "metadata": {
        "id": "w8buRQJ4nILJ"
      },
      "execution_count": null,
      "outputs": []
    },
    {
      "cell_type": "code",
      "source": [
        "# Getting the predicitions\n",
        "predictions_test, labels_test, avg_test_hamming_distance = get_hamming_distance_pred(test_loader, trained_model_stack, device)\n",
        "\n",
        "# Printing the hamming distance\n",
        "print(f\"Average Hamming Distance on testing set: {avg_test_hamming_distance:.4f}\")\n",
        "\n",
        "# Plot the confusion matrices\n",
        "plot_multilabel_confusion_matrix(labels_test, predictions_test, class_labels)\n",
        "# Assuming y_true and y_pred contain your true labels and predicted labels as tensors\n",
        "result_table = compute_metrics(labels_test, predictions_test, class_labels)\n",
        "\n",
        "# Print the table\n",
        "import pandas as pd\n",
        "df = pd.DataFrame(result_table, columns=[\"Class\", \"Precision\", \"Recall\", \"F1 Score\"])\n",
        "print(df)"
      ],
      "metadata": {
        "colab": {
          "base_uri": "https://localhost:8080/",
          "height": 707
        },
        "id": "1vFOVsO8g2XB",
        "outputId": "96d1d09a-fc42-4c85-a63e-3d02e7db2d6d"
      },
      "execution_count": null,
      "outputs": [
        {
          "output_type": "stream",
          "name": "stdout",
          "text": [
            "Average Hamming Distance on testing set: 0.0583\n"
          ]
        },
        {
          "output_type": "display_data",
          "data": {
            "text/plain": [
              "<Figure size 2000x1000 with 20 Axes>"
            ],
            "image/png": "[encoded data removed]"
          },
          "metadata": {}
        },
        {
          "output_type": "stream",
          "name": "stdout",
          "text": [
            "        Class  Precision    Recall  F1 Score\n",
            "0          c#   0.933333  0.698669  0.799130\n",
            "1        java   0.963569  0.791209  0.868924\n",
            "2         php   0.923463  0.653641  0.765471\n",
            "3  javascript   0.963328  0.716194  0.821579\n",
            "4     android   0.975932  0.843624  0.904968\n",
            "5      jquery   0.983163  0.796717  0.880175\n",
            "6         c++   0.778443  0.802469  0.790274\n",
            "7      python   0.824427  0.818182  0.821293\n",
            "8      iphone   0.779661  0.696970  0.736000\n",
            "9     asp.net   0.942962  0.729259  0.822455\n"
          ]
        }
      ]
    },
    {
      "cell_type": "markdown",
      "source": [
        "\n",
        "###  <font color = 'orange'>**Hamming Distance:**\n",
        "- The **average Hamming distance** on the testing set was only 5.85%. This is around the same as for the validation and training set. This means that the model only incorrectly predicted 5.85% of all the labels.\n",
        "\n",
        "### <font color = 'orange'>**Precision, Recall and F1**\n",
        "- These metrics are there just for reference among the different labels.\n",
        "- We can see how the best performing label is the android label followed by jquery and java.\n"
      ],
      "metadata": {
        "id": "MN9uCvb6jBlZ"
      }
    },
    {
      "cell_type": "markdown",
      "source": [
        "# <font color = 'orange'>**Inference Pipeline**</font>\n",
        "\n",
        "This is how the inference pipeline works:\n",
        "\n",
        "**1. Preprocessing**: We’ll follow the same steps used during training:\n",
        "  1. Convert the text into a list of indices using the vocab we created earlier.\n",
        "  2. Concatenate all the text indices into a single tensor.\n",
        "  3. Compute the offsets.\n",
        "\n",
        "**2. Getting Predictions**:\n",
        "  1. Move the model to the appropriate device (CPU or GPU).\n",
        "  2. Put the model in evaluation mode.\n",
        "  3. Pass the indices and offsets through the model to get the predictions (logits).\n",
        "\n",
        "**3. Post-processing**:\n",
        "  1. Convert the logits into class labels.\n",
        "  2. Map those class labels back to their respective class names.\n"
      ],
      "metadata": {
        "id": "n7clywu_oKg8"
      }
    },
    {
      "cell_type": "code",
      "source": [
        "sample_X = X_test[0:5]"
      ],
      "metadata": {
        "id": "mbCLSMOth5iN"
      },
      "execution_count": null,
      "outputs": []
    },
    {
      "cell_type": "code",
      "source": [
        "# Preprocessing the input\n",
        "sample_X = X_test[0:5]\n",
        "device = 'cpu'\n",
        "\n",
        "list_of_list_of_indices = [tokenizer(text, stack_vocab) for text in sample_X]\n",
        "\n",
        "# Compute the offsets for each text in the concatenated tensor\n",
        "offsets = [0] + [len(i) for i in list_of_list_of_indices]\n",
        "offsets = torch.tensor(offsets[:-1]).cumsum(dim=0)\n",
        "\n",
        "# Concatenate all text indices into a single tensor\n",
        "indices = torch.cat([torch.tensor(i, dtype=torch.int64) for i in list_of_list_of_indices])\n",
        "\n",
        "# Move model to the appropriate device\n",
        "trained_model_stack.to(device)\n",
        "\n",
        "# Put model in evaluation mode\n",
        "trained_model_stack.eval()\n",
        "\n",
        "# Get outputs (logits) from the model\n",
        "with torch.no_grad():\n",
        "    outputs = trained_model_stack((indices, offsets))\n",
        "\n",
        "# For multilabel classification, apply a threshold to determine class labels\n",
        "predictions = (outputs > 0.5).float()  # Convert logits to binary predictions\n",
        "\n",
        "# Define the mapping for class labels\n",
        "class_labels = ['c#', 'java', 'php', 'javascript', 'android', 'jquery', 'c++', 'python', 'iphone', 'asp.net']\n",
        "\n",
        "# Get predicted labels for each sample\n",
        "predicted_label_names = []\n",
        "for sample_pred in predictions:\n",
        "    predicted_classes = [class_labels[i] for i in range(len(class_labels)) if sample_pred[i] == 1]\n",
        "    predicted_label_names.append(predicted_classes)\n",
        "\n",
        "# Print the predicted labels for each sample\n",
        "for i, label_names in enumerate(predicted_label_names):\n",
        "    print(f\"Sample {i+1}: {label_names}\")\n"
      ],
      "metadata": {
        "colab": {
          "base_uri": "https://localhost:8080/"
        },
        "id": "JfNMOhR2qYS-",
        "outputId": "9cadc632-1903-410c-fbed-b7b6841a2967"
      },
      "execution_count": null,
      "outputs": [
        {
          "output_type": "stream",
          "name": "stdout",
          "text": [
            "Sample 1: ['javascript', 'jquery']\n",
            "Sample 2: ['c#', 'asp.net']\n",
            "Sample 3: ['java']\n",
            "Sample 4: ['c++']\n",
            "Sample 5: ['javascript', 'jquery']\n"
          ]
        }
      ]
    },
    {
      "cell_type": "code",
      "source": [],
      "metadata": {
        "id": "FEu00t6lqZ2X"
      },
      "execution_count": null,
      "outputs": []
    }
  ]
}