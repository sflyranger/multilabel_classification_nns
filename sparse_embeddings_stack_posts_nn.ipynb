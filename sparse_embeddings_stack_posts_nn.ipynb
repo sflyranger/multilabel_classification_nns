{
  "nbformat": 4,
  "nbformat_minor": 0,
  "metadata": {
    "colab": {
      "provenance": [],
      "toc_visible": true,
      "gpuType": "T4",
      "authorship_tag": "ABX9TyM77kquRcoKjRCL3IinMlKa",
      "include_colab_link": true
    },
    "kernelspec": {
      "name": "python3",
      "display_name": "Python 3"
    },
    "language_info": {
      "name": "python"
    },
    "accelerator": "GPU"
  },
  "cells": [
    {
      "cell_type": "markdown",
      "metadata": {
        "id": "view-in-github",
        "colab_type": "text"
      },
      "source": [
        "<a href=\"https://colab.research.google.com/github/sflyranger/multilabel_classification_nns/blob/main/sparse_embeddings_stack_posts_nn.ipynb\" target=\"_parent\"><img src=\"https://colab.research.google.com/assets/colab-badge.svg\" alt=\"Open In Colab\"/></a>"
      ]
    },
    {
      "cell_type": "markdown",
      "source": [
        "# <font color = 'hotpink'>**Multi-label Classification: Sparse Embeddings**\n",
        "\n",
        "#### <font color = 'hotpink'>*Using a multi layered perceptron for training*\n",
        "\n",
        "- The primary difference between this notebook and the other is that I will be using TF-IDF sparse embeddings for the vocabulary instead of an embedding bag layer in the NN.\n",
        "- TF-IDF embeddings do not require backpropogation to be calculated because thy are calculated prior to training based on document statistics.\n",
        "- This means we will not need a collate function within the model.\n",
        "\n",
        "### <font color = 'hotpink'>**Why we don't need a Collate Function:**\n",
        "- The collate functions primary purpose is to pad or batch documents together of varying lengths into matrices and in the case of an EmbeddingBag calculate the offsets to indicate where documents begin within a given batch (long matrix - multiple documents).\n",
        "- This allows us to calculate embeddings with within a smaller dimension than that of a sparse matrix (hence the name dense embeddings).\n",
        "- When using TFIDF the matrices for the embeddings are preset based on Inverse Document Frequency (IDF - how rare a word is across documents.) and do not need to be learned during the training process.\n",
        "- Since we do not need to learn the embeddings, we do not need an embedding bag layer, therefore we do not need a collate function to create new matrices to learn our embeddings.\n",
        "- Not having to do this should speed up our training process within the perceptron.\n"
      ],
      "metadata": {
        "id": "ShYe6O-695Rx"
      }
    },
    {
      "cell_type": "markdown",
      "source": [
        "## <font color = 'hotpink'>**Setting up the environment**"
      ],
      "metadata": {
        "id": "rKRKx-RECo7F"
      }
    },
    {
      "cell_type": "code",
      "source": [
        "import sys\n",
        "if 'google.colab' in str(get_ipython()):  # If the code is running in Colab\n",
        "    # mount google drive\n",
        "    from google.colab import drive\n",
        "    drive.mount('/content/drive')\n",
        "    # set the base path to a Google Drive folder\n",
        "    base_path = '/content/drive/MyDrive/Colab Notebooks'\n",
        "\n",
        "    # Installing the latest torchinfo library\n",
        "    !pip install torchinfo -qq\n",
        "    !pip install torchmetrics -qq\n",
        "    !pip install -U nltk -qq # -U ensures the most updated version\n",
        "    !pip install -U spacy -qq # -qq limits the output commands to only the most important messages\n",
        "    !python -m spacy download en_core_web_sm -qq # Small model from spacy\n",
        "\n",
        "\n",
        "    base_path = '/content/drive/MyDrive/Colab Notebooks' # set the base path to a Google Drive folder\n",
        "\n",
        "    sys.path.append('/content/drive/MyDrive/Colab Notebooks/custom-functions')# enabling custom function usage"
      ],
      "metadata": {
        "colab": {
          "base_uri": "https://localhost:8080/"
        },
        "id": "cv13d6wt-_Hd",
        "outputId": "91966c9a-2a76-4d93-8ee0-a14a94a97317"
      },
      "execution_count": null,
      "outputs": [
        {
          "output_type": "stream",
          "name": "stdout",
          "text": [
            "Mounted at /content/drive\n",
            "\u001b[2K   \u001b[90m━━━━━━━━━━━━━━━━━━━━━━━━━━━━━━━━━━━━━━━━\u001b[0m \u001b[32m869.2/869.2 kB\u001b[0m \u001b[31m19.9 MB/s\u001b[0m eta \u001b[36m0:00:00\u001b[0m\n",
            "\u001b[2K   \u001b[90m━━━━━━━━━━━━━━━━━━━━━━━━━━━━━━━━━━━━━━━━\u001b[0m \u001b[32m1.5/1.5 MB\u001b[0m \u001b[31m22.0 MB/s\u001b[0m eta \u001b[36m0:00:00\u001b[0m\n",
            "\u001b[2K     \u001b[90m━━━━━━━━━━━━━━━━━━━━━━━━━━━━━━━━━━━━━━━━\u001b[0m \u001b[32m12.8/12.8 MB\u001b[0m \u001b[31m74.6 MB/s\u001b[0m eta \u001b[36m0:00:00\u001b[0m\n",
            "\u001b[?25h\u001b[38;5;2m✔ Download and installation successful\u001b[0m\n",
            "You can now load the package via spacy.load('en_core_web_sm')\n",
            "\u001b[38;5;3m⚠ Restart to reload dependencies\u001b[0m\n",
            "If you are in a Jupyter or Colab notebook, you may need to restart Python in\n",
            "order to load all the package's dependencies. You can do this by selecting the\n",
            "'Restart kernel' or 'Restart runtime' option.\n"
          ]
        }
      ]
    },
    {
      "cell_type": "code",
      "source": [
        "# libraries for efficient serialization of python objects and for element tallying\n",
        "from collections import Counter\n",
        "import joblib\n",
        "\n",
        "# filesystem libraries, generating and displaying confusion matrices, binarization for one-hot labels, data splitting, and date-time manipulations\n",
        "from sklearn.metrics import confusion_matrix\n",
        "from datetime import datetime\n",
        "from pathlib import Path\n",
        "from sklearn.preprocessing import MultiLabelBinarizer\n",
        "from sklearn.model_selection import train_test_split\n",
        "\n",
        "# custom dataset making from torch\n",
        "from torch.utils.data import Dataset\n",
        "# utility for gradient clipping\n",
        "from torch.nn.utils import clip_grad_value_\n",
        "\n",
        "\n",
        "# library to compute class weights\n",
        "from sklearn.utils.class_weight import compute_class_weight\n",
        "\n",
        "# general purpose libraries\n",
        "import pandas as pd\n",
        "import numpy as np\n",
        "import random\n",
        "\n",
        "# for working with textual data vocabularies and for displaying model summaries\n",
        "from torchinfo import summary\n",
        "\n",
        "# library for tensor computations and neural network modules\n",
        "import torch\n",
        "import torch.nn as nn\n",
        "\n",
        "# libraries for plotting and visualization\n",
        "import matplotlib.pyplot as plt\n",
        "import seaborn as sns\n",
        "\n",
        "# printing library for formatted output of text\n",
        "from pprint import pprint\n",
        "\n",
        "# library for conversion of strings\n",
        "import ast\n",
        "\n",
        "# tfidf vectorizer\n",
        "from sklearn.feature_extraction.text import TfidfVectorizer\n",
        "\n",
        "# HammingDistance is useful for evaluating multi-label classification problems.\n",
        "from torchmetrics import HammingDistance\n",
        "\n",
        "# library for iterations within rows\n",
        "from itertools import combinations\n",
        "\n",
        "\n",
        "# Import required stopwords\n",
        "import nltk\n",
        "from nltk.corpus import stopwords as nltk_stopwords  # Stopwords corpus\n",
        "nltk.download('stopwords')  # Download the stopwords corpus\n",
        "\n",
        "# Import the scipy library for working with sparse matrices\n",
        "from scipy.sparse import csr_matrix\n",
        "# importing counter for class distributions\n",
        "from collections import Counter\n",
        "\n",
        "\n"
      ],
      "metadata": {
        "id": "gSY8W-E5_TqO",
        "colab": {
          "base_uri": "https://localhost:8080/"
        },
        "outputId": "c029900d-fc2c-40ba-da19-6b18e75fd3a7"
      },
      "execution_count": null,
      "outputs": [
        {
          "output_type": "stream",
          "name": "stderr",
          "text": [
            "[nltk_data] Downloading package stopwords to /root/nltk_data...\n",
            "[nltk_data]   Package stopwords is already up-to-date!\n"
          ]
        }
      ]
    },
    {
      "cell_type": "code",
      "source": [
        "# Double checking path\n",
        "sys.path"
      ],
      "metadata": {
        "colab": {
          "base_uri": "https://localhost:8080/"
        },
        "id": "5bS55gpsZ43Q",
        "outputId": "9e576099-a17f-4776-8712-4e7b6ef91b93"
      },
      "execution_count": null,
      "outputs": [
        {
          "output_type": "execute_result",
          "data": {
            "text/plain": [
              "['/content',\n",
              " '/env/python',\n",
              " '/usr/lib/python310.zip',\n",
              " '/usr/lib/python3.10',\n",
              " '/usr/lib/python3.10/lib-dynload',\n",
              " '',\n",
              " '/usr/local/lib/python3.10/dist-packages',\n",
              " '/usr/lib/python3/dist-packages',\n",
              " '/usr/local/lib/python3.10/dist-packages/IPython/extensions',\n",
              " '/usr/local/lib/python3.10/dist-packages/setuptools/_vendor',\n",
              " '/root/.ipython',\n",
              " '/content/drive/MyDrive/Colab Notebooks/custom-functions']"
            ]
          },
          "metadata": {},
          "execution_count": 4
        }
      ]
    },
    {
      "cell_type": "code",
      "execution_count": null,
      "metadata": {
        "id": "S5Cz4FfD9bwr"
      },
      "outputs": [],
      "source": [
        "%load_ext autoreload\n",
        "%autoreload 2"
      ]
    },
    {
      "cell_type": "code",
      "source": [
        "# Appending the data set path\n",
        "base_folder = Path(base_path)\n",
        "data_folder = base_folder/'datasets/stack_posts_ds'\n",
        "model_folder = base_folder/'models/nlp_fall_2024/stack'"
      ],
      "metadata": {
        "id": "S16c0Ifd_o62"
      },
      "execution_count": null,
      "outputs": []
    },
    {
      "cell_type": "code",
      "source": [
        "# ensuring the model_folder is created in my drive\n",
        "model_folder.mkdir(parents = True, exist_ok =True)"
      ],
      "metadata": {
        "id": "Ar1v6j_nEr8-"
      },
      "execution_count": null,
      "outputs": []
    },
    {
      "cell_type": "markdown",
      "source": [
        "## <font color = 'hotpink'>**Loading the dataset**</font>\n",
        "\n",
        "- This data set is a kaggle competition data set where the goal of the competition was to classify different questions from StackExchange users for different tech domains.\n",
        "- Each post could mention multiple tech domains, hence why this model will be a multi-label classification task.\n",
        "- The goal here will be to use a dense embedding layer within my NN to classify and understand the difference between dense and sparse embeddings for classification and their benefits.\n",
        "- Overall, the layers within the entire model will consist of the following within a Simple Multi Layer Perceptron:\n",
        "  - **Linear Layer 1**\n",
        "  - **Hidden layer 1**\n",
        "  - **ReLu**\n",
        "  - **Dropout layer 1**\n",
        "  - **BatchNorm layer 1**\n",
        "  - **Linear Layer 2**\n",
        "  - **Hidden Layer 2**\n",
        "  - **ReLu**\n",
        "  - **Dropout Layer 2**\n",
        "  - **BatchNorm Layer 2**\n",
        "  - **Output layer**\n",
        "\n",
        "- The hyperparameters that will be used to fine-tune the model are as follows:\n",
        "  - **Neurons for the first hidden layer**: 200\n",
        "  - **Neurons for the second hidden layer**: 100\n",
        "  - **Embedding Dimension**: 300\n",
        "  - **EPOCHS**: 5\n",
        "  - **BATCH_SIZE**: 128\n",
        "  - **LEARNING_RATE**: 0.001\n",
        "  - **WEIGHT_DECAY**: 0.000\n",
        "  - **CLIP_TYPE**: 'value'\n",
        "  - **PATIENCE**: 5\n",
        "  - **Optimizer**: AdamW\n",
        "\n",
        "- I will also be doing some gradient clipping and using the **Hamming Loss** as a metric, which I defined in other notebooks.\n",
        "\n",
        "### <font color = 'hotpink'>*Data Pulled From Prior Notebook*\n",
        "- I will be loading the data from some files stored on my drive from the dense embeddings NN notebook.\n",
        "- The data was one-hot encoded and split with 60% training, 20% validation, 20% testing.\n"
      ],
      "metadata": {
        "id": "fZsbJkZsD85I"
      }
    },
    {
      "cell_type": "code",
      "source": [
        "# Defining filepath for training data set\n",
        "train_clean_file = data_folder/'train_clean.pkl'\n",
        "\n",
        "# filepath for cleaned validation data\n",
        "valid_clean_file = data_folder/'valid_clean.pkl'\n",
        "\n",
        "# filepath for the testin data set\n",
        "test_clean_file = data_folder/'test_clean.pkl'\n"
      ],
      "metadata": {
        "id": "11KKzX6WNxlu"
      },
      "execution_count": null,
      "outputs": []
    },
    {
      "cell_type": "code",
      "source": [
        "# Reloading the different splits\n",
        "X_train, y_train = joblib.load(train_clean_file)\n",
        "\n",
        "X_val, y_val = joblib.load(valid_clean_file)\n",
        "\n",
        "X_test, y_test = joblib.load(test_clean_file)"
      ],
      "metadata": {
        "id": "TSOQH8YSiVx6"
      },
      "execution_count": null,
      "outputs": []
    },
    {
      "cell_type": "code",
      "source": [
        "print(f\"X_train size: {len(X_train)}, y_train size: {len(y_train)}\")\n",
        "print(f\"X_val size: {len(X_val)}, y_val size: {len(y_val)}\")\n",
        "print(f\"X_test size: {len(X_test)}, y_test size: {len(y_test)}\")\n"
      ],
      "metadata": {
        "colab": {
          "base_uri": "https://localhost:8080/"
        },
        "id": "XWS7MhNzugNH",
        "outputId": "9ea52405-873c-4e43-cb83-017a2c2c8656"
      },
      "execution_count": null,
      "outputs": [
        {
          "output_type": "stream",
          "name": "stdout",
          "text": [
            "X_train size: 30352, y_train size: 30352\n",
            "X_val size: 7589, y_val size: 7589\n",
            "X_test size: 9486, y_test size: 9486\n"
          ]
        }
      ]
    },
    {
      "cell_type": "code",
      "source": [
        "X_train.head()"
      ],
      "metadata": {
        "colab": {
          "base_uri": "https://localhost:8080/",
          "height": 241
        },
        "id": "UugGCFg9eDql",
        "outputId": "d64b9510-8118-468a-c4c4-39b598993c30"
      },
      "execution_count": null,
      "outputs": [
        {
          "output_type": "execute_result",
          "data": {
            "text/plain": [
              "38601    nullpointerexception run figure return error h...\n",
              "47089    display message press button need display mess...\n",
              "9397     jquery javascript nan addition number attempt ...\n",
              "46311    c#/asp.net helper library go to start build sm...\n",
              "22026    replace link button label check box repeater g...\n",
              "Name: cleaned_text, dtype: object"
            ],
            "text/html": [
              "<div>\n",
              "<style scoped>\n",
              "    .dataframe tbody tr th:only-of-type {\n",
              "        vertical-align: middle;\n",
              "    }\n",
              "\n",
              "    .dataframe tbody tr th {\n",
              "        vertical-align: top;\n",
              "    }\n",
              "\n",
              "    .dataframe thead th {\n",
              "        text-align: right;\n",
              "    }\n",
              "</style>\n",
              "<table border=\"1\" class=\"dataframe\">\n",
              "  <thead>\n",
              "    <tr style=\"text-align: right;\">\n",
              "      <th></th>\n",
              "      <th>cleaned_text</th>\n",
              "    </tr>\n",
              "  </thead>\n",
              "  <tbody>\n",
              "    <tr>\n",
              "      <th>38601</th>\n",
              "      <td>nullpointerexception run figure return error h...</td>\n",
              "    </tr>\n",
              "    <tr>\n",
              "      <th>47089</th>\n",
              "      <td>display message press button need display mess...</td>\n",
              "    </tr>\n",
              "    <tr>\n",
              "      <th>9397</th>\n",
              "      <td>jquery javascript nan addition number attempt ...</td>\n",
              "    </tr>\n",
              "    <tr>\n",
              "      <th>46311</th>\n",
              "      <td>c#/asp.net helper library go to start build sm...</td>\n",
              "    </tr>\n",
              "    <tr>\n",
              "      <th>22026</th>\n",
              "      <td>replace link button label check box repeater g...</td>\n",
              "    </tr>\n",
              "  </tbody>\n",
              "</table>\n",
              "</div><br><label><b>dtype:</b> object</label>"
            ]
          },
          "metadata": {},
          "execution_count": 36
        }
      ]
    },
    {
      "cell_type": "code",
      "source": [
        "y_train.head()"
      ],
      "metadata": {
        "colab": {
          "base_uri": "https://localhost:8080/",
          "height": 206
        },
        "id": "6pgvu8v1eGEu",
        "outputId": "92828caf-9f19-4556-fcd4-1df94397fd55"
      },
      "execution_count": null,
      "outputs": [
        {
          "output_type": "execute_result",
          "data": {
            "text/plain": [
              "       0  1  2  3  4  5  6  7  8  9\n",
              "38601  0  1  0  0  1  0  0  0  0  0\n",
              "47089  0  0  0  1  0  1  0  0  0  0\n",
              "9397   0  0  0  1  0  1  0  0  0  0\n",
              "46311  1  0  0  0  0  0  0  0  0  1\n",
              "22026  1  0  0  0  0  0  0  0  0  1"
            ],
            "text/html": [
              "\n",
              "  <div id=\"df-12b0060a-4554-4f6a-bb55-fbcc1e156144\" class=\"colab-df-container\">\n",
              "    <div>\n",
              "<style scoped>\n",
              "    .dataframe tbody tr th:only-of-type {\n",
              "        vertical-align: middle;\n",
              "    }\n",
              "\n",
              "    .dataframe tbody tr th {\n",
              "        vertical-align: top;\n",
              "    }\n",
              "\n",
              "    .dataframe thead th {\n",
              "        text-align: right;\n",
              "    }\n",
              "</style>\n",
              "<table border=\"1\" class=\"dataframe\">\n",
              "  <thead>\n",
              "    <tr style=\"text-align: right;\">\n",
              "      <th></th>\n",
              "      <th>0</th>\n",
              "      <th>1</th>\n",
              "      <th>2</th>\n",
              "      <th>3</th>\n",
              "      <th>4</th>\n",
              "      <th>5</th>\n",
              "      <th>6</th>\n",
              "      <th>7</th>\n",
              "      <th>8</th>\n",
              "      <th>9</th>\n",
              "    </tr>\n",
              "  </thead>\n",
              "  <tbody>\n",
              "    <tr>\n",
              "      <th>38601</th>\n",
              "      <td>0</td>\n",
              "      <td>1</td>\n",
              "      <td>0</td>\n",
              "      <td>0</td>\n",
              "      <td>1</td>\n",
              "      <td>0</td>\n",
              "      <td>0</td>\n",
              "      <td>0</td>\n",
              "      <td>0</td>\n",
              "      <td>0</td>\n",
              "    </tr>\n",
              "    <tr>\n",
              "      <th>47089</th>\n",
              "      <td>0</td>\n",
              "      <td>0</td>\n",
              "      <td>0</td>\n",
              "      <td>1</td>\n",
              "      <td>0</td>\n",
              "      <td>1</td>\n",
              "      <td>0</td>\n",
              "      <td>0</td>\n",
              "      <td>0</td>\n",
              "      <td>0</td>\n",
              "    </tr>\n",
              "    <tr>\n",
              "      <th>9397</th>\n",
              "      <td>0</td>\n",
              "      <td>0</td>\n",
              "      <td>0</td>\n",
              "      <td>1</td>\n",
              "      <td>0</td>\n",
              "      <td>1</td>\n",
              "      <td>0</td>\n",
              "      <td>0</td>\n",
              "      <td>0</td>\n",
              "      <td>0</td>\n",
              "    </tr>\n",
              "    <tr>\n",
              "      <th>46311</th>\n",
              "      <td>1</td>\n",
              "      <td>0</td>\n",
              "      <td>0</td>\n",
              "      <td>0</td>\n",
              "      <td>0</td>\n",
              "      <td>0</td>\n",
              "      <td>0</td>\n",
              "      <td>0</td>\n",
              "      <td>0</td>\n",
              "      <td>1</td>\n",
              "    </tr>\n",
              "    <tr>\n",
              "      <th>22026</th>\n",
              "      <td>1</td>\n",
              "      <td>0</td>\n",
              "      <td>0</td>\n",
              "      <td>0</td>\n",
              "      <td>0</td>\n",
              "      <td>0</td>\n",
              "      <td>0</td>\n",
              "      <td>0</td>\n",
              "      <td>0</td>\n",
              "      <td>1</td>\n",
              "    </tr>\n",
              "  </tbody>\n",
              "</table>\n",
              "</div>\n",
              "    <div class=\"colab-df-buttons\">\n",
              "\n",
              "  <div class=\"colab-df-container\">\n",
              "    <button class=\"colab-df-convert\" onclick=\"convertToInteractive('df-12b0060a-4554-4f6a-bb55-fbcc1e156144')\"\n",
              "            title=\"Convert this dataframe to an interactive table.\"\n",
              "            style=\"display:none;\">\n",
              "\n",
              "  <svg xmlns=\"http://www.w3.org/2000/svg\" height=\"24px\" viewBox=\"0 -960 960 960\">\n",
              "    <path d=\"M120-120v-720h720v720H120Zm60-500h600v-160H180v160Zm220 220h160v-160H400v160Zm0 220h160v-160H400v160ZM180-400h160v-160H180v160Zm440 0h160v-160H620v160ZM180-180h160v-160H180v160Zm440 0h160v-160H620v160Z\"/>\n",
              "  </svg>\n",
              "    </button>\n",
              "\n",
              "  <style>\n",
              "    .colab-df-container {\n",
              "      display:flex;\n",
              "      gap: 12px;\n",
              "    }\n",
              "\n",
              "    .colab-df-convert {\n",
              "      background-color: #E8F0FE;\n",
              "      border: none;\n",
              "      border-radius: 50%;\n",
              "      cursor: pointer;\n",
              "      display: none;\n",
              "      fill: #1967D2;\n",
              "      height: 32px;\n",
              "      padding: 0 0 0 0;\n",
              "      width: 32px;\n",
              "    }\n",
              "\n",
              "    .colab-df-convert:hover {\n",
              "      background-color: #E2EBFA;\n",
              "      box-shadow: 0px 1px 2px rgba(60, 64, 67, 0.3), 0px 1px 3px 1px rgba(60, 64, 67, 0.15);\n",
              "      fill: #174EA6;\n",
              "    }\n",
              "\n",
              "    .colab-df-buttons div {\n",
              "      margin-bottom: 4px;\n",
              "    }\n",
              "\n",
              "    [theme=dark] .colab-df-convert {\n",
              "      background-color: #3B4455;\n",
              "      fill: #D2E3FC;\n",
              "    }\n",
              "\n",
              "    [theme=dark] .colab-df-convert:hover {\n",
              "      background-color: #434B5C;\n",
              "      box-shadow: 0px 1px 3px 1px rgba(0, 0, 0, 0.15);\n",
              "      filter: drop-shadow(0px 1px 2px rgba(0, 0, 0, 0.3));\n",
              "      fill: #FFFFFF;\n",
              "    }\n",
              "  </style>\n",
              "\n",
              "    <script>\n",
              "      const buttonEl =\n",
              "        document.querySelector('#df-12b0060a-4554-4f6a-bb55-fbcc1e156144 button.colab-df-convert');\n",
              "      buttonEl.style.display =\n",
              "        google.colab.kernel.accessAllowed ? 'block' : 'none';\n",
              "\n",
              "      async function convertToInteractive(key) {\n",
              "        const element = document.querySelector('#df-12b0060a-4554-4f6a-bb55-fbcc1e156144');\n",
              "        const dataTable =\n",
              "          await google.colab.kernel.invokeFunction('convertToInteractive',\n",
              "                                                    [key], {});\n",
              "        if (!dataTable) return;\n",
              "\n",
              "        const docLinkHtml = 'Like what you see? Visit the ' +\n",
              "          '<a target=\"_blank\" href=https://colab.research.google.com/notebooks/data_table.ipynb>data table notebook</a>'\n",
              "          + ' to learn more about interactive tables.';\n",
              "        element.innerHTML = '';\n",
              "        dataTable['output_type'] = 'display_data';\n",
              "        await google.colab.output.renderOutput(dataTable, element);\n",
              "        const docLink = document.createElement('div');\n",
              "        docLink.innerHTML = docLinkHtml;\n",
              "        element.appendChild(docLink);\n",
              "      }\n",
              "    </script>\n",
              "  </div>\n",
              "\n",
              "\n",
              "<div id=\"df-16371512-c996-48d8-9842-271a5f89b7ed\">\n",
              "  <button class=\"colab-df-quickchart\" onclick=\"quickchart('df-16371512-c996-48d8-9842-271a5f89b7ed')\"\n",
              "            title=\"Suggest charts\"\n",
              "            style=\"display:none;\">\n",
              "\n",
              "<svg xmlns=\"http://www.w3.org/2000/svg\" height=\"24px\"viewBox=\"0 0 24 24\"\n",
              "     width=\"24px\">\n",
              "    <g>\n",
              "        <path d=\"M19 3H5c-1.1 0-2 .9-2 2v14c0 1.1.9 2 2 2h14c1.1 0 2-.9 2-2V5c0-1.1-.9-2-2-2zM9 17H7v-7h2v7zm4 0h-2V7h2v10zm4 0h-2v-4h2v4z\"/>\n",
              "    </g>\n",
              "</svg>\n",
              "  </button>\n",
              "\n",
              "<style>\n",
              "  .colab-df-quickchart {\n",
              "      --bg-color: #E8F0FE;\n",
              "      --fill-color: #1967D2;\n",
              "      --hover-bg-color: #E2EBFA;\n",
              "      --hover-fill-color: #174EA6;\n",
              "      --disabled-fill-color: #AAA;\n",
              "      --disabled-bg-color: #DDD;\n",
              "  }\n",
              "\n",
              "  [theme=dark] .colab-df-quickchart {\n",
              "      --bg-color: #3B4455;\n",
              "      --fill-color: #D2E3FC;\n",
              "      --hover-bg-color: #434B5C;\n",
              "      --hover-fill-color: #FFFFFF;\n",
              "      --disabled-bg-color: #3B4455;\n",
              "      --disabled-fill-color: #666;\n",
              "  }\n",
              "\n",
              "  .colab-df-quickchart {\n",
              "    background-color: var(--bg-color);\n",
              "    border: none;\n",
              "    border-radius: 50%;\n",
              "    cursor: pointer;\n",
              "    display: none;\n",
              "    fill: var(--fill-color);\n",
              "    height: 32px;\n",
              "    padding: 0;\n",
              "    width: 32px;\n",
              "  }\n",
              "\n",
              "  .colab-df-quickchart:hover {\n",
              "    background-color: var(--hover-bg-color);\n",
              "    box-shadow: 0 1px 2px rgba(60, 64, 67, 0.3), 0 1px 3px 1px rgba(60, 64, 67, 0.15);\n",
              "    fill: var(--button-hover-fill-color);\n",
              "  }\n",
              "\n",
              "  .colab-df-quickchart-complete:disabled,\n",
              "  .colab-df-quickchart-complete:disabled:hover {\n",
              "    background-color: var(--disabled-bg-color);\n",
              "    fill: var(--disabled-fill-color);\n",
              "    box-shadow: none;\n",
              "  }\n",
              "\n",
              "  .colab-df-spinner {\n",
              "    border: 2px solid var(--fill-color);\n",
              "    border-color: transparent;\n",
              "    border-bottom-color: var(--fill-color);\n",
              "    animation:\n",
              "      spin 1s steps(1) infinite;\n",
              "  }\n",
              "\n",
              "  @keyframes spin {\n",
              "    0% {\n",
              "      border-color: transparent;\n",
              "      border-bottom-color: var(--fill-color);\n",
              "      border-left-color: var(--fill-color);\n",
              "    }\n",
              "    20% {\n",
              "      border-color: transparent;\n",
              "      border-left-color: var(--fill-color);\n",
              "      border-top-color: var(--fill-color);\n",
              "    }\n",
              "    30% {\n",
              "      border-color: transparent;\n",
              "      border-left-color: var(--fill-color);\n",
              "      border-top-color: var(--fill-color);\n",
              "      border-right-color: var(--fill-color);\n",
              "    }\n",
              "    40% {\n",
              "      border-color: transparent;\n",
              "      border-right-color: var(--fill-color);\n",
              "      border-top-color: var(--fill-color);\n",
              "    }\n",
              "    60% {\n",
              "      border-color: transparent;\n",
              "      border-right-color: var(--fill-color);\n",
              "    }\n",
              "    80% {\n",
              "      border-color: transparent;\n",
              "      border-right-color: var(--fill-color);\n",
              "      border-bottom-color: var(--fill-color);\n",
              "    }\n",
              "    90% {\n",
              "      border-color: transparent;\n",
              "      border-bottom-color: var(--fill-color);\n",
              "    }\n",
              "  }\n",
              "</style>\n",
              "\n",
              "  <script>\n",
              "    async function quickchart(key) {\n",
              "      const quickchartButtonEl =\n",
              "        document.querySelector('#' + key + ' button');\n",
              "      quickchartButtonEl.disabled = true;  // To prevent multiple clicks.\n",
              "      quickchartButtonEl.classList.add('colab-df-spinner');\n",
              "      try {\n",
              "        const charts = await google.colab.kernel.invokeFunction(\n",
              "            'suggestCharts', [key], {});\n",
              "      } catch (error) {\n",
              "        console.error('Error during call to suggestCharts:', error);\n",
              "      }\n",
              "      quickchartButtonEl.classList.remove('colab-df-spinner');\n",
              "      quickchartButtonEl.classList.add('colab-df-quickchart-complete');\n",
              "    }\n",
              "    (() => {\n",
              "      let quickchartButtonEl =\n",
              "        document.querySelector('#df-16371512-c996-48d8-9842-271a5f89b7ed button');\n",
              "      quickchartButtonEl.style.display =\n",
              "        google.colab.kernel.accessAllowed ? 'block' : 'none';\n",
              "    })();\n",
              "  </script>\n",
              "</div>\n",
              "\n",
              "    </div>\n",
              "  </div>\n"
            ],
            "application/vnd.google.colaboratory.intrinsic+json": {
              "type": "dataframe",
              "variable_name": "y_train",
              "summary": "{\n  \"name\": \"y_train\",\n  \"rows\": 30352,\n  \"fields\": [\n    {\n      \"column\": 0,\n      \"properties\": {\n        \"dtype\": \"number\",\n        \"std\": 0,\n        \"min\": 0,\n        \"max\": 1,\n        \"num_unique_values\": 2,\n        \"samples\": [\n          1,\n          0\n        ],\n        \"semantic_type\": \"\",\n        \"description\": \"\"\n      }\n    },\n    {\n      \"column\": 1,\n      \"properties\": {\n        \"dtype\": \"number\",\n        \"std\": 0,\n        \"min\": 0,\n        \"max\": 1,\n        \"num_unique_values\": 2,\n        \"samples\": [\n          0,\n          1\n        ],\n        \"semantic_type\": \"\",\n        \"description\": \"\"\n      }\n    },\n    {\n      \"column\": 2,\n      \"properties\": {\n        \"dtype\": \"number\",\n        \"std\": 0,\n        \"min\": 0,\n        \"max\": 1,\n        \"num_unique_values\": 2,\n        \"samples\": [\n          1,\n          0\n        ],\n        \"semantic_type\": \"\",\n        \"description\": \"\"\n      }\n    },\n    {\n      \"column\": 3,\n      \"properties\": {\n        \"dtype\": \"number\",\n        \"std\": 0,\n        \"min\": 0,\n        \"max\": 1,\n        \"num_unique_values\": 2,\n        \"samples\": [\n          1,\n          0\n        ],\n        \"semantic_type\": \"\",\n        \"description\": \"\"\n      }\n    },\n    {\n      \"column\": 4,\n      \"properties\": {\n        \"dtype\": \"number\",\n        \"std\": 0,\n        \"min\": 0,\n        \"max\": 1,\n        \"num_unique_values\": 2,\n        \"samples\": [\n          0,\n          1\n        ],\n        \"semantic_type\": \"\",\n        \"description\": \"\"\n      }\n    },\n    {\n      \"column\": 5,\n      \"properties\": {\n        \"dtype\": \"number\",\n        \"std\": 0,\n        \"min\": 0,\n        \"max\": 1,\n        \"num_unique_values\": 2,\n        \"samples\": [\n          1,\n          0\n        ],\n        \"semantic_type\": \"\",\n        \"description\": \"\"\n      }\n    },\n    {\n      \"column\": 6,\n      \"properties\": {\n        \"dtype\": \"number\",\n        \"std\": 0,\n        \"min\": 0,\n        \"max\": 1,\n        \"num_unique_values\": 2,\n        \"samples\": [\n          1,\n          0\n        ],\n        \"semantic_type\": \"\",\n        \"description\": \"\"\n      }\n    },\n    {\n      \"column\": 7,\n      \"properties\": {\n        \"dtype\": \"number\",\n        \"std\": 0,\n        \"min\": 0,\n        \"max\": 1,\n        \"num_unique_values\": 2,\n        \"samples\": [\n          1,\n          0\n        ],\n        \"semantic_type\": \"\",\n        \"description\": \"\"\n      }\n    },\n    {\n      \"column\": 8,\n      \"properties\": {\n        \"dtype\": \"number\",\n        \"std\": 0,\n        \"min\": 0,\n        \"max\": 1,\n        \"num_unique_values\": 2,\n        \"samples\": [\n          1,\n          0\n        ],\n        \"semantic_type\": \"\",\n        \"description\": \"\"\n      }\n    },\n    {\n      \"column\": 9,\n      \"properties\": {\n        \"dtype\": \"number\",\n        \"std\": 0,\n        \"min\": 0,\n        \"max\": 1,\n        \"num_unique_values\": 2,\n        \"samples\": [\n          1,\n          0\n        ],\n        \"semantic_type\": \"\",\n        \"description\": \"\"\n      }\n    }\n  ]\n}"
            }
          },
          "metadata": {},
          "execution_count": 12
        }
      ]
    },
    {
      "cell_type": "markdown",
      "source": [
        "Looks good."
      ],
      "metadata": {
        "id": "XZW9MiqiZKyO"
      }
    },
    {
      "cell_type": "markdown",
      "source": [
        "## <font color = 'hotpink'>**Checking the value counts of the training data set to apply weights to handle class imbalance.**\n",
        "\n",
        "- In my other notebook I noticed the class imbalance present within the dataset so I am recalculating the same weights here to help with this issue in the Binary Cross Entropy Loss function."
      ],
      "metadata": {
        "id": "71N1icbNhdEi"
      }
    },
    {
      "cell_type": "code",
      "source": [
        "# summing across all rows to get the number of occurances\n",
        "class_counts = np.sum(y_train, axis = 0)\n",
        "\n",
        "total_samples = y_train.shape[0] # first index value is the number of samples\n",
        "\n",
        "class_weights = total_samples/(len(class_counts)*class_counts)\n",
        "\n",
        "class_weights = torch.tensor(class_weights, dtype=torch.float32)\n",
        "\n",
        "print(class_counts)\n",
        "print(total_samples)\n",
        "print(class_weights)"
      ],
      "metadata": {
        "colab": {
          "base_uri": "https://localhost:8080/"
        },
        "id": "WxbsgcgzhctE",
        "outputId": "8a7eff7c-1da2-413e-a49c-b25b68bc35c2"
      },
      "execution_count": null,
      "outputs": [
        {
          "output_type": "stream",
          "name": "stdout",
          "text": [
            "0     6682\n",
            "1     5321\n",
            "2     3701\n",
            "3    17541\n",
            "4     4875\n",
            "5    16010\n",
            "6      479\n",
            "7      351\n",
            "8      192\n",
            "9     7963\n",
            "dtype: int64\n",
            "30352\n",
            "tensor([ 0.4542,  0.5704,  0.8201,  0.1730,  0.6226,  0.1896,  6.3365,  8.6473,\n",
            "        15.8083,  0.3812])\n"
          ]
        }
      ]
    },
    {
      "cell_type": "code",
      "source": [
        "y_train.shape\n"
      ],
      "metadata": {
        "colab": {
          "base_uri": "https://localhost:8080/"
        },
        "id": "RRpo1RDwtdiE",
        "outputId": "8f25310a-2468-46d8-d1b3-73218a47a472"
      },
      "execution_count": null,
      "outputs": [
        {
          "output_type": "execute_result",
          "data": {
            "text/plain": [
              "(30352, 10)"
            ]
          },
          "metadata": {},
          "execution_count": 14
        }
      ]
    },
    {
      "cell_type": "code",
      "source": [
        "X_train.shape"
      ],
      "metadata": {
        "colab": {
          "base_uri": "https://localhost:8080/"
        },
        "id": "NkkhK0Ybth1M",
        "outputId": "1c22f6d5-a6b9-44f5-d2ff-08becbfaa732"
      },
      "execution_count": null,
      "outputs": [
        {
          "output_type": "execute_result",
          "data": {
            "text/plain": [
              "(30352,)"
            ]
          },
          "metadata": {},
          "execution_count": 15
        }
      ]
    },
    {
      "cell_type": "markdown",
      "source": [
        "# <font color = 'hotpink'>**TF-IDF Vectorization**\n",
        "- As mentioned above I will be using the TF-IDF vectorization to convert the raw text within the documents into vectors.\n",
        "- This process will create sparse embeddings for the features to be inplemented in the model.\n",
        "\n",
        "###<font color = 'hotpink'>**Data Leakage Prevention**\n",
        "- I will be performing the vectorization fit-transform process only on the training set.\n",
        "- Then based on the fit of the vectorizer on the training set I will be transforming the validation and testing sets.\n",
        "- Each of these sets will be zipped together into custom datasets with their respective dependent targets."
      ],
      "metadata": {
        "id": "8LOmt0abbpvC"
      }
    },
    {
      "cell_type": "code",
      "source": [
        "# Fit-transforming the training set\n",
        "tfidf = TfidfVectorizer(max_features = 5000)\n",
        "X_train = tfidf.fit_transform(X_train)\n",
        "\n",
        "# Transforming the validation and testing sets on the fitted vectorizer\n",
        "X_val= tfidf.transform(X_val)\n",
        "X_test= tfidf.transform(X_test)\n",
        "\n",
        "# Converting the dependent variables to np.array formal\n",
        "y_train = np.array(y_train)\n",
        "y_val = np.array(y_val)\n",
        "y_test = np.array(y_test)"
      ],
      "metadata": {
        "id": "dMY8_LO1dmX-"
      },
      "execution_count": null,
      "outputs": []
    },
    {
      "cell_type": "code",
      "source": [
        "X_train"
      ],
      "metadata": {
        "colab": {
          "base_uri": "https://localhost:8080/"
        },
        "id": "_YOYm73Ee4p3",
        "outputId": "214521b3-c49f-48d6-d8d1-e6d0053a6bf2"
      },
      "execution_count": null,
      "outputs": [
        {
          "output_type": "execute_result",
          "data": {
            "text/plain": [
              "<30352x5000 sparse matrix of type '<class 'numpy.float64'>'\n",
              "\twith 1127572 stored elements in Compressed Sparse Row format>"
            ]
          },
          "metadata": {},
          "execution_count": 38
        }
      ]
    },
    {
      "cell_type": "code",
      "source": [
        "X_val"
      ],
      "metadata": {
        "colab": {
          "base_uri": "https://localhost:8080/"
        },
        "id": "mgkswSKvfBYs",
        "outputId": "7c7f6839-62d9-403b-a6bf-30d4745d16d8"
      },
      "execution_count": null,
      "outputs": [
        {
          "output_type": "execute_result",
          "data": {
            "text/plain": [
              "<7589x5000 sparse matrix of type '<class 'numpy.float64'>'\n",
              "\twith 282364 stored elements in Compressed Sparse Row format>"
            ]
          },
          "metadata": {},
          "execution_count": 39
        }
      ]
    },
    {
      "cell_type": "code",
      "source": [
        "X_test"
      ],
      "metadata": {
        "colab": {
          "base_uri": "https://localhost:8080/"
        },
        "id": "CncE3FHffDsn",
        "outputId": "0cfddd73-d06f-49e4-dd41-158f0139781b"
      },
      "execution_count": null,
      "outputs": [
        {
          "output_type": "execute_result",
          "data": {
            "text/plain": [
              "<9486x5000 sparse matrix of type '<class 'numpy.float64'>'\n",
              "\twith 349738 stored elements in Compressed Sparse Row format>"
            ]
          },
          "metadata": {},
          "execution_count": 40
        }
      ]
    },
    {
      "cell_type": "code",
      "source": [
        "y_train.shape"
      ],
      "metadata": {
        "colab": {
          "base_uri": "https://localhost:8080/"
        },
        "id": "GUGnzOZIks9a",
        "outputId": "eadd7ede-6f6c-46e8-bc22-7af455278761"
      },
      "execution_count": null,
      "outputs": [
        {
          "output_type": "execute_result",
          "data": {
            "text/plain": [
              "(30352, 10)"
            ]
          },
          "metadata": {},
          "execution_count": 41
        }
      ]
    },
    {
      "cell_type": "code",
      "source": [
        "y_val.shape"
      ],
      "metadata": {
        "colab": {
          "base_uri": "https://localhost:8080/"
        },
        "id": "j4UKg3S6kx-x",
        "outputId": "10873b63-f807-4ebf-f004-14384f5aa5fc"
      },
      "execution_count": null,
      "outputs": [
        {
          "output_type": "execute_result",
          "data": {
            "text/plain": [
              "(7589, 10)"
            ]
          },
          "metadata": {},
          "execution_count": 42
        }
      ]
    },
    {
      "cell_type": "code",
      "source": [
        "y_test.shape"
      ],
      "metadata": {
        "colab": {
          "base_uri": "https://localhost:8080/"
        },
        "id": "XsuOb8eSkwY8",
        "outputId": "8c49a7e4-c082-41c5-9328-520e6c6cdd72"
      },
      "execution_count": null,
      "outputs": [
        {
          "output_type": "execute_result",
          "data": {
            "text/plain": [
              "(9486, 10)"
            ]
          },
          "metadata": {},
          "execution_count": 43
        }
      ]
    },
    {
      "cell_type": "markdown",
      "source": [
        "<font color = 'hotpink'>**The arrays above are sparse matrix values ready to be plugged into the custom data set class below**"
      ],
      "metadata": {
        "id": "1J8xjZ0efFc9"
      }
    },
    {
      "cell_type": "markdown",
      "source": [
        "# <font color = 'hotpink'>**Defining a class for a custom dataset**"
      ],
      "metadata": {
        "id": "KKcduAzwnlGv"
      }
    },
    {
      "cell_type": "code",
      "source": [
        "\n",
        "class SparseCustomDataset(Dataset):\n",
        "    def __init__(self, X, y):\n",
        "        \"\"\"\n",
        "        X: Sparse matrix (TF-IDF vectors of documents)\n",
        "        y: One-hot encoded labels (document categories)\n",
        "        \"\"\"\n",
        "        self.X = X  # Keep sparse matrix in original format\n",
        "        self.y = torch.tensor(y, dtype=torch.float32)  # Convert labels to tensors\n",
        "\n",
        "    def __len__(self):\n",
        "        return self.X.shape[0]  # Number of documents\n",
        "\n",
        "    def __getitem__(self, idx):\n",
        "        # Fetch sparse row (document TF-IDF vector) and convert to dense\n",
        "        sparse_row = self.X[idx].toarray()  # Convert the sparse row to a dense array\n",
        "        feature_tensor = torch.tensor(sparse_row, dtype=torch.float32).squeeze()\n",
        "\n",
        "        # Get corresponding label (document category)\n",
        "        label = self.y[idx]\n",
        "\n",
        "\n",
        "        # Getting the feature and label tuple\n",
        "        return feature_tensor, label\n"
      ],
      "metadata": {
        "id": "5xmfqdTjmdYX"
      },
      "execution_count": null,
      "outputs": []
    },
    {
      "cell_type": "code",
      "source": [
        "# creating the different instances of of the CustomDataset class for modeling\n",
        "trainset = SparseCustomDataset(X_train, y_train)\n",
        "\n",
        "validset = SparseCustomDataset(X_val, y_val)\n",
        "\n",
        "testset = SparseCustomDataset(X_test, y_test)\n",
        "\n"
      ],
      "metadata": {
        "id": "pXGAl9m2wEmP"
      },
      "execution_count": null,
      "outputs": []
    },
    {
      "cell_type": "markdown",
      "source": [
        "### <font color = 'hotpink'>**Printing out one of the samples**"
      ],
      "metadata": {
        "id": "rp1s6-cYywVc"
      }
    },
    {
      "cell_type": "code",
      "source": [
        "pprint(trainset[5]) #pulling the whole tuple\n",
        "print()\n",
        "sixth_sample_text = trainset[5][1] # pulling just the label\n",
        "pprint(sixth_sample_text)\n",
        "type(sixth_sample_text)"
      ],
      "metadata": {
        "colab": {
          "base_uri": "https://localhost:8080/"
        },
        "id": "DfB1aIZ1xGcc",
        "outputId": "d602e264-3353-4707-fa15-6cb4cefcd72b"
      },
      "execution_count": null,
      "outputs": [
        {
          "output_type": "stream",
          "name": "stdout",
          "text": [
            "(tensor([0., 0., 0.,  ..., 0., 0., 0.]),\n",
            " tensor([0., 0., 0., 1., 0., 1., 0., 0., 0., 0.]))\n",
            "\n",
            "tensor([0., 0., 0., 1., 0., 1., 0., 0., 0., 0.])\n"
          ]
        },
        {
          "output_type": "execute_result",
          "data": {
            "text/plain": [
              "torch.Tensor"
            ]
          },
          "metadata": {},
          "execution_count": 49
        }
      ]
    },
    {
      "cell_type": "code",
      "source": [
        "sixth_sample_label = trainset[5][0]\n",
        "pprint(sixth_sample_label) #printing just the feature tensor"
      ],
      "metadata": {
        "colab": {
          "base_uri": "https://localhost:8080/"
        },
        "id": "RSc4vLffxLE5",
        "outputId": "f50cb986-8c41-4545-c0b8-c2478b251a44"
      },
      "execution_count": null,
      "outputs": [
        {
          "output_type": "stream",
          "name": "stdout",
          "text": [
            "tensor([0., 0., 0.,  ..., 0., 0., 0.])\n"
          ]
        }
      ]
    },
    {
      "cell_type": "markdown",
      "source": [
        "# <font color='hotpink'>**CustomBlock class for usage in nn.Sequential Modeling**</font>\n",
        "\n",
        "- This class gives me the flexibility to call multiple layers using **<font color='hotpink'>`nn.Sequential`</font>** and integrate those blocks into more complex models.\n",
        "- Learning how to use these custom blocks within large-scale models improves **readability** and helps **scale models quickly**.\n",
        "- The block takes **<font color='hotpink'>`nn.Sequential`</font>** as a layer, which can house multiple layers inside, like the ones I manually coded above. This allows me to efficiently organize and compile my code.\n",
        "- The class is versatile—it can be **augmented** to include different layers within the custom block, providing even more flexibility when scaling or adjusting the model for various tasks.\n",
        "\n"
      ],
      "metadata": {
        "id": "Ts1z08iwIyof"
      }
    },
    {
      "cell_type": "code",
      "source": [
        "class CustomBlock(nn.Module):\n",
        "    def __init__(self, input_dim, output_dim, drop_prob):\n",
        "        super().__init__()\n",
        "\n",
        "        self.layers = nn.Sequential(\n",
        "            nn.Linear(input_dim, output_dim),\n",
        "            nn.BatchNorm1d(num_features=output_dim),\n",
        "            nn.ReLU(),\n",
        "            nn.Dropout(p=drop_prob),\n",
        "        )\n",
        "\n",
        "    def forward(self, x):\n",
        "        return self.layers(x)"
      ],
      "metadata": {
        "id": "DKaFY7SUHvME"
      },
      "execution_count": null,
      "outputs": []
    },
    {
      "cell_type": "markdown",
      "source": [
        "## <font color='hotpink'>**Custom MLP Model Architecture**</font>\n",
        "\n",
        "### <font color='hotpink'>Model Overview:</font>\n",
        "This MLP model is set up for multi-label classification and works with dense inputs like TF-IDF vectors. It’s built using two custom blocks, each packed with a fully connected layer, ReLU activation, batch normalization, and dropout. The final layer gives us the logits, which we'll use for the multi-label classification task.\n",
        "\n",
        "### <font color='hotpink'>Key Components:</font>\n",
        "1. **Custom Blocks**:\n",
        "    - Each block contains:\n",
        "        - A fully connected layer that takes the input dimension and converts it to the output dimension.\n",
        "        - A ReLU activation function to add some non-linearity.\n",
        "        - Batch normalization to keep things stable and speed up training.\n",
        "        - Dropout to help regularize and prevent overfitting.\n",
        "\n",
        "2. **Sequential Layering**:\n",
        "    - The model is laid out sequentially for readability and clarity in how the layers flow.\n",
        "    - Each custom block processes the input features, and the final linear layer spits out the logits we need for classification.\n",
        "\n",
        "### <font color='hotpink'>Key Highlights:</font>\n",
        "- **Input Dimension**: This refers to the number of input features, like the number of terms in a TF-IDF vector (e.g., 5000).\n",
        "- **Hidden Layers**: Two hidden layers using custom blocks with batch normalization and dropout built-in.\n",
        "- **Output Layer**: A fully connected layer that provides the logits for our classification task across all the classes.\n",
        "- **Device Compatibility**: The model checks that your input tensor and model parameters are on the same device (CPU or GPU) to avoid any mismatches.\n",
        "\n",
        "### <font color='hotpink'>Forward Pass:</font>\n",
        "- The input tensor goes through the layers in sequence, and the final output is the predicted logits for multi-label classification.\n"
      ],
      "metadata": {
        "id": "w1THZMAtJz4p"
      }
    },
    {
      "cell_type": "code",
      "source": [
        "class CustomMLP(nn.Module):\n",
        "  def __init__(self,input_dim,hidden_dim1,hidden_dim2, drop_prob1,drop_prob2, num_outputs):\n",
        "    super().__init__()\n",
        "\n",
        "    # Defining what a layer is going to be.\n",
        "    # This layer is a sequential layer that houses multiple layers\n",
        "    # This is much easier to read and understand.\n",
        "    # Each custom block houses the input dimension and plugs it into the output by passing it through the CustomBlock where the ReLU,BatchNorm and Dropout layers are housed.\n",
        "    self.layers = nn.Sequential(\n",
        "        CustomBlock(input_dim, hidden_dim1, drop_prob1),\n",
        "        CustomBlock(hidden_dim1, hidden_dim2, drop_prob2),\n",
        "        nn.Linear(hidden_dim2, num_outputs)\n",
        "    )\n",
        "\n",
        "\n",
        "  def forward(self, x):\n",
        "\n",
        "\n",
        "      # Ensure inputs are on the same device as the model\n",
        "      assert x.device == next(self.parameters()).device, \"Data not on the same device as model\"\n",
        "\n",
        "      # passing the embedding layer into the layers function where all other layers are housed.\n",
        "      out = self.layers(x)\n",
        "\n",
        "      return out"
      ],
      "metadata": {
        "id": "hdJZCFb8Jxz5"
      },
      "execution_count": null,
      "outputs": []
    },
    {
      "cell_type": "markdown",
      "source": [
        "### <font color = 'hotpink'>**Testing the Custom MLP**\n"
      ],
      "metadata": {
        "id": "Uosr4gW-O_q-"
      }
    },
    {
      "cell_type": "code",
      "source": [
        "!pip install torchviz\n",
        "!pip install Ipython"
      ],
      "metadata": {
        "colab": {
          "base_uri": "https://localhost:8080/"
        },
        "id": "3H8qZXt3QWhb",
        "outputId": "3bca48eb-05c7-4862-8841-ab3afbb251d1"
      },
      "execution_count": null,
      "outputs": [
        {
          "output_type": "stream",
          "name": "stdout",
          "text": [
            "Collecting torchviz\n",
            "  Downloading torchviz-0.0.2.tar.gz (4.9 kB)\n",
            "  Preparing metadata (setup.py) ... \u001b[?25l\u001b[?25hdone\n",
            "Requirement already satisfied: torch in /usr/local/lib/python3.10/dist-packages (from torchviz) (2.4.1+cu121)\n",
            "Requirement already satisfied: graphviz in /usr/local/lib/python3.10/dist-packages (from torchviz) (0.20.3)\n",
            "Requirement already satisfied: filelock in /usr/local/lib/python3.10/dist-packages (from torch->torchviz) (3.16.1)\n",
            "Requirement already satisfied: typing-extensions>=4.8.0 in /usr/local/lib/python3.10/dist-packages (from torch->torchviz) (4.12.2)\n",
            "Requirement already satisfied: sympy in /usr/local/lib/python3.10/dist-packages (from torch->torchviz) (1.13.3)\n",
            "Requirement already satisfied: networkx in /usr/local/lib/python3.10/dist-packages (from torch->torchviz) (3.3)\n",
            "Requirement already satisfied: jinja2 in /usr/local/lib/python3.10/dist-packages (from torch->torchviz) (3.1.4)\n",
            "Requirement already satisfied: fsspec in /usr/local/lib/python3.10/dist-packages (from torch->torchviz) (2024.6.1)\n",
            "Requirement already satisfied: MarkupSafe>=2.0 in /usr/local/lib/python3.10/dist-packages (from jinja2->torch->torchviz) (2.1.5)\n",
            "Requirement already satisfied: mpmath<1.4,>=1.1.0 in /usr/local/lib/python3.10/dist-packages (from sympy->torch->torchviz) (1.3.0)\n",
            "Building wheels for collected packages: torchviz\n",
            "  Building wheel for torchviz (setup.py) ... \u001b[?25l\u001b[?25hdone\n",
            "  Created wheel for torchviz: filename=torchviz-0.0.2-py3-none-any.whl size=4132 sha256=18aa901d498eca75887f244868929063ef19ebcd0691427573a27987298af6fc\n",
            "  Stored in directory: /root/.cache/pip/wheels/4c/97/88/a02973217949e0db0c9f4346d154085f4725f99c4f15a87094\n",
            "Successfully built torchviz\n",
            "Installing collected packages: torchviz\n",
            "Successfully installed torchviz-0.0.2\n",
            "Requirement already satisfied: Ipython in /usr/local/lib/python3.10/dist-packages (7.34.0)\n",
            "Requirement already satisfied: setuptools>=18.5 in /usr/local/lib/python3.10/dist-packages (from Ipython) (71.0.4)\n",
            "Collecting jedi>=0.16 (from Ipython)\n",
            "  Using cached jedi-0.19.1-py2.py3-none-any.whl.metadata (22 kB)\n",
            "Requirement already satisfied: decorator in /usr/local/lib/python3.10/dist-packages (from Ipython) (4.4.2)\n",
            "Requirement already satisfied: pickleshare in /usr/local/lib/python3.10/dist-packages (from Ipython) (0.7.5)\n",
            "Requirement already satisfied: traitlets>=4.2 in /usr/local/lib/python3.10/dist-packages (from Ipython) (5.7.1)\n",
            "Requirement already satisfied: prompt-toolkit!=3.0.0,!=3.0.1,<3.1.0,>=2.0.0 in /usr/local/lib/python3.10/dist-packages (from Ipython) (3.0.47)\n",
            "Requirement already satisfied: pygments in /usr/local/lib/python3.10/dist-packages (from Ipython) (2.18.0)\n",
            "Requirement already satisfied: backcall in /usr/local/lib/python3.10/dist-packages (from Ipython) (0.2.0)\n",
            "Requirement already satisfied: matplotlib-inline in /usr/local/lib/python3.10/dist-packages (from Ipython) (0.1.7)\n",
            "Requirement already satisfied: pexpect>4.3 in /usr/local/lib/python3.10/dist-packages (from Ipython) (4.9.0)\n",
            "Requirement already satisfied: parso<0.9.0,>=0.8.3 in /usr/local/lib/python3.10/dist-packages (from jedi>=0.16->Ipython) (0.8.4)\n",
            "Requirement already satisfied: ptyprocess>=0.5 in /usr/local/lib/python3.10/dist-packages (from pexpect>4.3->Ipython) (0.7.0)\n",
            "Requirement already satisfied: wcwidth in /usr/local/lib/python3.10/dist-packages (from prompt-toolkit!=3.0.0,!=3.0.1,<3.1.0,>=2.0.0->Ipython) (0.2.13)\n",
            "Using cached jedi-0.19.1-py2.py3-none-any.whl (1.6 MB)\n",
            "Installing collected packages: jedi\n",
            "Successfully installed jedi-0.19.1\n"
          ]
        }
      ]
    },
    {
      "cell_type": "code",
      "source": [
        "# Defining my device\n",
        "device = torch.device('cuda:0' if torch.cuda.is_available() else 'cpu')\n",
        "\n",
        "# Defining the model\n",
        "# Using a vocab_size of 5000 as the input_dim, since we are using TF-IDF vectors with 5000 features\n",
        "model = CustomMLP(input_dim=5000, hidden_dim1=5, hidden_dim2=5, drop_prob1=0.5, drop_prob2=0.3, num_outputs=10)\n",
        "\n",
        "# Pushing the model to the device\n",
        "model = model.to(device)\n",
        "\n",
        "# Display the model summary\n",
        "summary(model, input_size=(1, 5000), device=device)\n"
      ],
      "metadata": {
        "colab": {
          "base_uri": "https://localhost:8080/"
        },
        "id": "ptAJvJb7OrvA",
        "outputId": "3d1fece3-a603-4e0b-982a-43496cf28ddd"
      },
      "execution_count": null,
      "outputs": [
        {
          "output_type": "execute_result",
          "data": {
            "text/plain": [
              "==========================================================================================\n",
              "Layer (type:depth-idx)                   Output Shape              Param #\n",
              "==========================================================================================\n",
              "CustomMLP                                [1, 10]                   --\n",
              "├─Sequential: 1-1                        [1, 10]                   --\n",
              "│    └─CustomBlock: 2-1                  [1, 5]                    --\n",
              "│    │    └─Sequential: 3-1              [1, 5]                    25,015\n",
              "│    └─CustomBlock: 2-2                  [1, 5]                    --\n",
              "│    │    └─Sequential: 3-2              [1, 5]                    40\n",
              "│    └─Linear: 2-3                       [1, 10]                   60\n",
              "==========================================================================================\n",
              "Total params: 25,115\n",
              "Trainable params: 25,115\n",
              "Non-trainable params: 0\n",
              "Total mult-adds (M): 0.03\n",
              "==========================================================================================\n",
              "Input size (MB): 0.02\n",
              "Forward/backward pass size (MB): 0.00\n",
              "Params size (MB): 0.10\n",
              "Estimated Total Size (MB): 0.12\n",
              "=========================================================================================="
            ]
          },
          "metadata": {},
          "execution_count": 64
        }
      ]
    },
    {
      "cell_type": "code",
      "source": [
        "from torchviz import make_dot\n",
        "from IPython.display import Image\n",
        "\n",
        "model.eval()\n",
        "# Create some fake TF-IDF data (assuming 5000 features)\n",
        "fake_input = torch.randn(1, 5000, dtype=torch.float32).to(device)  # A single document TF-IDF vector\n",
        "\n",
        "# Pass the input directly to the model\n",
        "output = model(fake_input)\n",
        "\n",
        "# Create the graph visualization\n",
        "diagram = make_dot(output, params=dict(model.named_parameters()))\n",
        "diagram.render('CustomMLP_test', format='png')\n",
        "\n",
        "# Display the image\n",
        "Image(filename='CustomMLP_test.png')"
      ],
      "metadata": {
        "colab": {
          "base_uri": "https://localhost:8080/",
          "height": 719
        },
        "id": "sbKLkn4jQrzq",
        "outputId": "3c346619-ffb0-4a85-bdff-12bbde511d69"
      },
      "execution_count": null,
      "outputs": [
        {
          "output_type": "execute_result",
          "data": {
            "image/png": "[encoded data removed]",
            "text/plain": [
              "<IPython.core.display.Image object>"
            ]
          },
          "metadata": {},
          "execution_count": 62
        }
      ]
    },
    {
      "cell_type": "code",
      "source": [
        "print(output)"
      ],
      "metadata": {
        "colab": {
          "base_uri": "https://localhost:8080/"
        },
        "id": "esSXL8GSRp7z",
        "outputId": "2a81b316-db1b-42fb-af6a-08cc17a921b1"
      },
      "execution_count": null,
      "outputs": [
        {
          "output_type": "stream",
          "name": "stdout",
          "text": [
            "tensor([[-0.2155, -0.3458,  0.2140, -0.0879,  0.0273, -0.3914, -0.4914, -0.0859,\n",
            "         -0.2165,  0.1275]], device='cuda:0', grad_fn=<AddmmBackward0>)\n"
          ]
        }
      ]
    },
    {
      "cell_type": "markdown",
      "source": [
        "# <font color = 'hotpink'>**Step function**"
      ],
      "metadata": {
        "id": "Jf6eClBkSp13"
      }
    },
    {
      "cell_type": "code",
      "source": [
        "def step(inputs, targets, model, device, loss_function=None, optimizer=None):\n",
        "\n",
        "    \"\"\"\n",
        "    Performs a forward and backward pass for a given batch of inputs and targets.\n",
        "\n",
        "    Parameters:\n",
        "    - inputs (torch.Tensor): The input data for the model.\n",
        "    - labels (torch.Tensor): The true labels for the input data.\n",
        "    - model (torch.nn.Module): The neural network model.\n",
        "    - device (torch.device): The computing device (CPU or GPU).\n",
        "    - loss_function (torch.nn.Module, optional): The loss function to use.\n",
        "    - optimizer (torch.optim.Optimizer, optional): The optimizer to update model parameters.\n",
        "\n",
        "    Returns:\n",
        "    - loss (float): The computed loss value (only if loss_function is not None).\n",
        "    - outputs (torch.Tensor): The predictions from the model.\n",
        "    - correct (int): The number of correctly classified samples in the batch.\n",
        "    \"\"\"\n",
        "\n",
        "\n",
        "    # Move the model and data to the device\n",
        "    model = model.to(device)\n",
        "\n",
        "    inputs = inputs.to(device)\n",
        "\n",
        "    targets = targets.to(device).float() # Ensuring the labels are passed as float for the BCE loss function\n",
        "\n",
        "    # Step 1: Forward pass to get the model's predictions\n",
        "    outputs = model(inputs)\n",
        "\n",
        "    # Step 2a: Compute the loss using the provided loss function\n",
        "    if loss_function:\n",
        "        loss = loss_function(outputs, targets)\n",
        "\n",
        "    # Step 2b: Calculate the number of correctly classified samples\n",
        "    predicted = (outputs > 0.5).float()\n",
        "\n",
        "    # Step 2c: Calculating and updating the hamming distance\n",
        "    hamming_distance_metric = HammingDistance(task = 'multilabel', num_labels = targets.size(1)).to(device)\n",
        "    hamming_distance = hamming_distance_metric(predicted, targets).item()\n",
        "\n",
        "\n",
        "\n",
        "    # Step 3 and 4: Perform backward pass and update model parameters if an optimizer is provided\n",
        "    if optimizer:\n",
        "        optimizer.zero_grad() # Zero gradients\n",
        "        loss.backward() # Backward pass\n",
        "        clip_grad_value_(model.parameters(),clip_value = 10) # Gradient clipping to prevent exploding gradients\n",
        "        optimizer.step() # updating params\n",
        "\n",
        "    # Return relevant metrics\n",
        "    if loss_function:\n",
        "        return loss, outputs, hamming_distance\n",
        "    else:\n",
        "        return None, outputs, hamming_distance"
      ],
      "metadata": {
        "id": "xn6PU5Q8Sjrq"
      },
      "execution_count": null,
      "outputs": []
    },
    {
      "cell_type": "markdown",
      "source": [
        "# <font color = 'hotpink'>**Train_epoch function**\n",
        "- Step function implemented in the epoch training phase.\n",
        "- updates the hamming distance and loss for each batch within the epoch.\n",
        "- takes the average hamming distance and train_loss for that epoch of batches."
      ],
      "metadata": {
        "id": "hxInTk9ed4TQ"
      }
    },
    {
      "cell_type": "code",
      "source": [
        "def train_epoch(train_loader, model, device, loss_function,optimizer):\n",
        "  \"\"\"\n",
        "  Trains the model for one epoch using the provided data loader and updates the model parameters.\n",
        "\n",
        "  Parameters:\n",
        "  -train_loader (torch.utils.data.DataLoader): dataloader object for the training dataset\n",
        "  -model (torch.nn.Module): Neural network model to be trained.\n",
        "  - device (torch.device): The CPU or GPU\n",
        "  -loss_function: function used to compute the training loss.\n",
        "  -optimizer: The function to minimize the loss during training by updating model parameters.\n",
        "\n",
        "  Returns:\n",
        "  -train_loss (float): Average Training Loss for the epoch.\n",
        "  -avg_ hamming_distance (float): Training Hamming Distance average for the Epoch.\n",
        "  \"\"\"\n",
        "\n",
        "  # Setting the model to training mode\n",
        "  model.train()\n",
        "\n",
        "  # Initializing the variables to track the training loss and correct predictions.\n",
        "  running_train_loss = 0.0\n",
        "  running_hamming_distance = 0.0\n",
        "\n",
        "  # Iterating over all batches\n",
        "  for inputs, targets in train_loader:\n",
        "    # Performing the forward and backward pass and updating parameters\n",
        "    loss,outputs, hamming_distance = step(inputs,targets,model,device,loss_function,optimizer)\n",
        "\n",
        "    # Updating the running loss and the Hamming Distance\n",
        "    # adds the training loss from the batch\n",
        "    running_train_loss += loss.item()\n",
        "    # adds the hamming distance from the batch\n",
        "    running_hamming_distance += hamming_distance\n",
        "\n",
        "  # this calculates the average train loss and hamming distance within the epoch.\n",
        "  train_loss = running_train_loss/len(train_loader)\n",
        "  avg_hamming_distance = running_hamming_distance / len(train_loader)\n",
        "\n",
        "  return train_loss, avg_hamming_distance"
      ],
      "metadata": {
        "id": "C34f0Cmjd2NL"
      },
      "execution_count": null,
      "outputs": []
    },
    {
      "cell_type": "markdown",
      "source": [
        "## <font color = 'hotpink'>**Creating the validate epoch function (val_epoch):**\n"
      ],
      "metadata": {
        "id": "hEkPy12Gix2e"
      }
    },
    {
      "cell_type": "code",
      "source": [
        "def val_epoch(valid_loader,model,device,loss_function):\n",
        "  \"\"\"\n",
        "  Validates the model for one epoch using the provided data loader.\n",
        "\n",
        "\n",
        "  Parameters:\n",
        "  - valid_loader (torch.utils.data.DataLoader): Dataloader object for the validation set.\n",
        "  - model (torch.nn.Module): Neural Network model to be trained\n",
        "  - device (torch.device): The computing device CPU or GPU.\n",
        "  - loss_function (torch.nn.Module): Loss function to be used during training.\n",
        "\n",
        "  Returns:\n",
        "  - val_loss (float): The validation set loss for the epoch.\n",
        "  - val_hamming distance (float): Validation Hamming Distance for the epoch.\n",
        "  \"\"\"\n",
        "  # swiching the model to evaluation mode\n",
        "  model.eval()\n",
        "\n",
        "  # initiaizing the running validation loss and hamming distance\n",
        "  running_val_loss = 0.0\n",
        "  running_hamming_distance = 0.0\n",
        "\n",
        "  # disabling the gradient to prevent leakage of information and speed up the training process.\n",
        "  with torch.no_grad():\n",
        "\n",
        "    # iterating over each batch in the loader.\n",
        "    for inputs, targets in valid_loader:\n",
        "\n",
        "      # forward pass for hamming distance:\n",
        "      loss, outputs, hamming_distance = step(inputs, targets, model, device, loss_function, optimizer = None)\n",
        "\n",
        "      # Updating the running loss and hamming distance\n",
        "      running_val_loss += loss.item()\n",
        "      running_hamming_distance += hamming_distance\n",
        "\n",
        "  # average validation loss of the epoch\n",
        "  val_loss = running_val_loss/len(valid_loader)\n",
        "  # average hamming distance of the epoch\n",
        "  avg_val_hamming_distance = running_hamming_distance/len(valid_loader)\n",
        "\n",
        "  return val_loss, avg_val_hamming_distance\n",
        "\n",
        "\n"
      ],
      "metadata": {
        "id": "mysB8cJMitAN"
      },
      "execution_count": null,
      "outputs": []
    },
    {
      "cell_type": "markdown",
      "source": [
        "# <font color='hotpink'>**Early Stopping Mechanism**</font>\n",
        "\n",
        "- **Early Stopping** is a regularization technique that helps prevent **overfitting** by monitoring the **validation loss** during training.\n",
        "- The idea is simple: if the **validation loss** doesn't improve for a set number of epochs (determined by **<font color='hotpink'>patience</font>**), training will stop early, saving time and preventing the model from overfitting to the training data.\n",
        "- The **<font color='hotpink'>`patience`</font>** parameter controls how many epochs we are willing to wait for improvement, and the **<font color='hotpink'>`delta`</font>** parameter defines the minimum improvement in validation loss required to reset the patience counter.\n",
        "- The **<font color='hotpink'>`restore_best_weights`</font>** parameter gives the ability to apply the best weights from the stat_dict of the model should early stopping be called. This parameter only activates when **<font color='hotpink'>`restore_best_weights = True`</font>**\n",
        "- This function is essential for ensuring our model generalizes well to unseen data and stops training when no further improvement is observed.\n"
      ],
      "metadata": {
        "id": "HHB7dKk9uuEV"
      }
    },
    {
      "cell_type": "code",
      "source": [
        "class EarlyStopping:\n",
        "    def __init__(self, patience=5, delta=0, restore_best_weights = False):\n",
        "        \"\"\"\n",
        "        Initializes the EarlyStopping object to track validation loss and stop training if no improvement.\n",
        "\n",
        "        Parameters:\n",
        "        - patience (int): Number of epochs with no improvement after which training will be stopped.\n",
        "        - delta (float): Minimum change in the monitored quantity to qualify as an improvement.\n",
        "        \"\"\"\n",
        "        self.patience = patience          # How many epochs to wait before stopping\n",
        "        self.delta = delta                # Minimum improvement required\n",
        "        self.best_loss = float('inf')     # Initialize best loss as infinity\n",
        "        self.counter = 0                  # Counter for how many epochs since improvement\n",
        "        self.early_stop = False           # Flag for whether to stop early\n",
        "        self.restore_best_weights = restore_best_weights # A setting to pull out the best weights\n",
        "        self.best_weights = None          # Used to store the best weights when restore_best_weights = True\n",
        "\n",
        "    def __call__(self, val_loss, model = None):\n",
        "        \"\"\"\n",
        "        Check whether the validation loss has improved sufficiently. If not, increase the counter.\n",
        "        If the counter reaches the patience, set the early_stop flag to True.\n",
        "\n",
        "        Parameters:\n",
        "        - val_loss (float): The current validation loss to be compared against the best loss.\n",
        "        \"\"\"\n",
        "        # If the validation loss improves by more than delta\n",
        "        if val_loss < self.best_loss - self.delta:\n",
        "            self.best_loss = val_loss     # Update best loss\n",
        "            self.counter = 0              # Reset the counter\n",
        "        else:\n",
        "            # No improvement, increment the counter\n",
        "            self.counter += 1\n",
        "            if self.counter >= self.patience:\n",
        "                self.early_stop = True     # Set the early stopping flag\n",
        "                if self.restore_best_weights and model is not None:\n",
        "                  model.load_state_dict(self.best_weights) # Restoring the best weights after early stopping\n"
      ],
      "metadata": {
        "id": "J24cTf33ur_m"
      },
      "execution_count": null,
      "outputs": []
    },
    {
      "cell_type": "markdown",
      "source": [
        "## <font color = 'hotpink'>**Train function for full dataset**\n"
      ],
      "metadata": {
        "id": "KmQMBXP8nxAe"
      }
    },
    {
      "cell_type": "code",
      "source": [
        "def train(train_loader, valid_loader, model, optimizer, loss_function, epochs, device, patience):\n",
        "  \"\"\"\n",
        "  Trains and validates the model, and returns history of train and validation metrics.\n",
        "\n",
        "  Parameters:\n",
        "  - train_loader(torch.utils.data.DataLoader): The defined training dataset loader.\n",
        "  - valid_loader(torch.utils.data.DataLoader): The defined validation dataset loader.\n",
        "  - model(torch.nn.Module): The Neural Network we want to train.\n",
        "  - optimizer (torch.optim.Optimizer): The defined optimizer to update model weights.\n",
        "  - loss_function (torch.nn.Module): The defined loss function to evaluate the model.\n",
        "  - epochs: the number of epochs to train the model on the full dataset.\n",
        "  - device (torch.device): The defined device CPU or GPU\n",
        "\n",
        "  Returns:\n",
        "  - train_loss_history (list): History of training loss for each epoch.\n",
        "  - train_hamming_history (list): History of training hamming distance for each epoch.\n",
        "  - valid_loss_history (list): History of validation loss for each epoch.\n",
        "  - valid_hamming_history (list): History of validation hamming distance for each epoch.\n",
        "    \"\"\"\n",
        "  train_loss_history = []\n",
        "  train_hamming_history = []\n",
        "  valid_loss_history = []\n",
        "  valid_hamming_history = []\n",
        "\n",
        "  # inititializing early stopping\n",
        "  early_stopping = EarlyStopping(patience = patience)\n",
        "\n",
        "  # Iterating the train_epoch and val_epoch functions over every epoch\n",
        "  for epoch in range(epochs):\n",
        "    train_loss, avg_train_hamming_distance = train_epoch(\n",
        "        train_loader, model, device, loss_function, optimizer)\n",
        "\n",
        "    val_loss, avg_valid_hamming_distance = val_epoch(\n",
        "        valid_loader, model, device, loss_function\n",
        "    )\n",
        "\n",
        "    # appending the losses and hamming distances to the histories\n",
        "    train_loss_history.append(train_loss)\n",
        "    train_hamming_history.append(avg_train_hamming_distance)\n",
        "    valid_loss_history.append(val_loss)\n",
        "    valid_hamming_history.append(avg_valid_hamming_distance)\n",
        "\n",
        "    # epoch level summaries\n",
        "    print(f'Epoch {epoch+1}/{epochs}')\n",
        "    print(f'Train loss:{train_loss:.4f} | Train Hamming Distance: {avg_train_hamming_distance}')\n",
        "    print(f'Validation loss: {val_loss:.4f} | Validation Hamming Distance:{avg_valid_hamming_distance}')\n",
        "    print()\n",
        "\n",
        "    # Early stopping check\n",
        "    early_stopping(val_loss, model)\n",
        "\n",
        "    # Break the loop if early stopping is triggered\n",
        "    if early_stopping.early_stop:\n",
        "      print('Early stopping triggered')\n",
        "      break\n",
        "\n",
        "\n",
        "  return train_loss_history, train_hamming_history, valid_loss_history, valid_hamming_history\n"
      ],
      "metadata": {
        "id": "EkBhK8X2nqgp"
      },
      "execution_count": null,
      "outputs": []
    },
    {
      "cell_type": "markdown",
      "source": [
        "# <font color = 'hotpink'>**Training the Model**"
      ],
      "metadata": {
        "id": "bgfR5mcswBzP"
      }
    },
    {
      "cell_type": "markdown",
      "source": [
        "## <font color = 'hotpink'>**Hyperparameters**\n",
        "- The hyperparameters that will be used to fine-tune the model are as follows:\n",
        "  - **Neurons for the first hidden layer**: 200\n",
        "  - **Neurons for the second hidden layer**: 100\n",
        "  - **Embedding Dimension**: 300\n",
        "  - **EPOCHS**: 5\n",
        "  - **BATCH_SIZE**: 128\n",
        "  - **LEARNING_RATE**: 0.001\n",
        "  - **WEIGHT_DECAY**: 0.000\n",
        "  - **CLIP_TYPE**: 'value'\n",
        "  - **PATIENCE**: 5\n",
        "  - **Optimizer**: AdamW"
      ],
      "metadata": {
        "id": "PxJro-KhsZDf"
      }
    },
    {
      "cell_type": "code",
      "source": [
        "X_train.shape"
      ],
      "metadata": {
        "colab": {
          "base_uri": "https://localhost:8080/"
        },
        "id": "rHwmpKoBu6Xg",
        "outputId": "e2b10dd4-9a67-4e40-b584-bca70a17c1cb"
      },
      "execution_count": null,
      "outputs": [
        {
          "output_type": "execute_result",
          "data": {
            "text/plain": [
              "(30352, 5000)"
            ]
          },
          "metadata": {},
          "execution_count": 74
        }
      ]
    },
    {
      "cell_type": "code",
      "source": [
        "# model parameters\n",
        "INPUT_DIM = X_train.shape[1]\n",
        "HIDDEN_DIM1=200\n",
        "HIDDEN_DIM2=100\n",
        "DROP_PROB1=0.5\n",
        "DROP_PROB2=0.5\n",
        "NUM_OUTPUTS=10\n",
        "PATIENCE= 5\n",
        "\n",
        "\n",
        "# training\n",
        "EPOCHS=5\n",
        "BATCH_SIZE=128\n",
        "LEARNING_RATE = 0.001\n",
        "WEIGHT_DECAY = 0.000"
      ],
      "metadata": {
        "id": "pF4hAZeXsFV8"
      },
      "execution_count": null,
      "outputs": []
    },
    {
      "cell_type": "markdown",
      "source": [
        "## <font color = 'hotpink'>**Training Configurations**"
      ],
      "metadata": {
        "id": "PzKkzL80woaJ"
      }
    },
    {
      "cell_type": "code",
      "source": [
        "# Fixing the seed values for reproducibility\n",
        "SEED = 1717\n",
        "random.seed(SEED)                           # Sets the seed for the random module\n",
        "np.random.seed(SEED)                        # Sets the seed for the np.random module for number generation\n",
        "torch.manual_seed(SEED)                     # Sets the seed for PyTorch CPU\n",
        "torch.cuda.manual_seed(SEED)                 # Sets the seed for the PyTorch GPU\n",
        "torch.backends.cudnn.deterministic = True   # Ensures the deterministic behavior in CuDNN\n",
        "\n",
        "# Defining the device for model training (Cuda T4)\n",
        "device = torch.device('cuda:0' if torch.cuda.is_available() else 'cpu')\n",
        "\n",
        "# Collate function removed\n",
        "\n",
        "# Data Loaders for the train, valid and test sets\n",
        "train_loader = torch.utils.data.DataLoader(trainset, batch_size = BATCH_SIZE, shuffle = True,\n",
        "                                            num_workers = 2) # num_workers allows for cpu cores to handle some processing while the model trains on the GPU\n",
        "\n",
        "valid_loader = torch.utils.data.DataLoader(validset, batch_size = BATCH_SIZE, shuffle = True,\n",
        "                                          num_workers = 2)\n",
        "\n",
        "test_loader = torch.utils.data.DataLoader(testset, batch_size = BATCH_SIZE, shuffle = True,\n",
        "                                          num_workers = 2)\n",
        "# Move class weights to the correct device\n",
        "class_weights = class_weights.to(device)\n",
        "\n",
        "# defining the loss function and applying class weights\n",
        "loss_function = nn.BCEWithLogitsLoss(pos_weight = class_weights)\n",
        "\n",
        "# Defining the model with the parameters\n",
        "model_sparse_stack = CustomMLP(\n",
        "                        input_dim = INPUT_DIM,\n",
        "                        hidden_dim1 = HIDDEN_DIM1,\n",
        "                        hidden_dim2 = HIDDEN_DIM2,\n",
        "                        drop_prob1 = DROP_PROB1,\n",
        "                        drop_prob2 = DROP_PROB2,\n",
        "                        num_outputs = NUM_OUTPUTS)\n",
        "\n",
        "# initializing the optimizer to train the model\n",
        "optimizer = torch.optim.AdamW(model_sparse_stack.parameters(), lr = LEARNING_RATE, weight_decay = WEIGHT_DECAY)\n",
        "\n",
        "# Make sure the model is on the correct device\n",
        "model_sparse_stack = model_sparse_stack.to(device)\n"
      ],
      "metadata": {
        "id": "qdLYvLVlwL_M"
      },
      "execution_count": null,
      "outputs": []
    },
    {
      "cell_type": "markdown",
      "source": [
        "### <font color = 'hotpink'>**Checkpoints**"
      ],
      "metadata": {
        "id": "NqyUas52QjM4"
      }
    },
    {
      "cell_type": "code",
      "source": [
        "print(f\"Model device: {next(model_sparse_stack.parameters()).device}\")\n",
        "print(f\"Inputs device: {inputs.to(device)}\")\n",
        "print(f\"Targets device: {targets.device}\")"
      ],
      "metadata": {
        "colab": {
          "base_uri": "https://localhost:8080/"
        },
        "id": "w4wIdvys949W",
        "outputId": "81c74352-2e55-41d0-ee77-d6c79f42c9c5"
      },
      "execution_count": null,
      "outputs": [
        {
          "output_type": "stream",
          "name": "stdout",
          "text": [
            "Model device: cuda:0\n",
            "Inputs device: tensor([[0., 0., 0.,  ..., 0., 0., 0.],\n",
            "        [0., 0., 0.,  ..., 0., 0., 0.],\n",
            "        [0., 0., 0.,  ..., 0., 0., 0.],\n",
            "        ...,\n",
            "        [0., 0., 0.,  ..., 0., 0., 0.],\n",
            "        [0., 0., 0.,  ..., 0., 0., 0.],\n",
            "        [0., 0., 0.,  ..., 0., 0., 0.]], device='cuda:0')\n",
            "Targets device: cuda:0\n"
          ]
        }
      ]
    },
    {
      "cell_type": "code",
      "source": [
        "print(f\"Output shape: {outputs.shape}\")\n",
        "print(f\"Targets shape: {targets.shape}\")\n"
      ],
      "metadata": {
        "colab": {
          "base_uri": "https://localhost:8080/"
        },
        "id": "Ielu4W6b-xVp",
        "outputId": "b0dd8a09-431f-4731-e685-5e858f0aa797"
      },
      "execution_count": null,
      "outputs": [
        {
          "output_type": "stream",
          "name": "stdout",
          "text": [
            "Output shape: torch.Size([128, 10])\n",
            "Targets shape: torch.Size([128, 10])\n"
          ]
        }
      ]
    },
    {
      "cell_type": "code",
      "source": [
        "# Check if there are NaNs in the outputs or targets\n",
        "print(torch.isnan(outputs).any())  # Should print False\n",
        "print(torch.isnan(targets).any())  # Should print False\n"
      ],
      "metadata": {
        "colab": {
          "base_uri": "https://localhost:8080/"
        },
        "id": "uMiDwFLs-_Dg",
        "outputId": "aff7d19a-2ff1-4b52-d369-d7261f7fafa3"
      },
      "execution_count": null,
      "outputs": [
        {
          "output_type": "stream",
          "name": "stdout",
          "text": [
            "tensor(False, device='cuda:0')\n",
            "tensor(False, device='cuda:0')\n"
          ]
        }
      ]
    },
    {
      "cell_type": "code",
      "source": [
        "# Check for any non-binary values in the targets\n",
        "print(torch.unique(targets))\n"
      ],
      "metadata": {
        "colab": {
          "base_uri": "https://localhost:8080/"
        },
        "id": "PB4z-_qS_nlj",
        "outputId": "be7c33e3-fe3e-4267-ea34-f5cf3112bcf4"
      },
      "execution_count": null,
      "outputs": [
        {
          "output_type": "stream",
          "name": "stdout",
          "text": [
            "tensor([0., 1.], device='cuda:0')\n"
          ]
        }
      ]
    },
    {
      "cell_type": "code",
      "source": [
        "print(f\"Inputs shape before passing to the model: {inputs.shape}\")\n"
      ],
      "metadata": {
        "colab": {
          "base_uri": "https://localhost:8080/"
        },
        "id": "AveqRFOJyU_H",
        "outputId": "38b05bde-351c-42d7-cd39-f4b5c8f10d86"
      },
      "execution_count": null,
      "outputs": [
        {
          "output_type": "stream",
          "name": "stdout",
          "text": [
            "Inputs shape before passing to the model: torch.Size([128, 5000])\n"
          ]
        }
      ]
    },
    {
      "cell_type": "markdown",
      "source": [
        "## <font color='hotpink'>**Sanity Check for Multi-Label Classification**</font>\n",
        "\n",
        "Before diving into full-scale training, it's always a good idea to run a **sanity check**. This quick check ensures that both the data processing and the model's forward pass are working as expected. For our multi-label classification setup, we can compare the actual loss from an untrained model to the **theoretical loss** for random predictions.\n",
        "\n",
        "- Since we're using **`BCEWithLogitsLoss`**, which combines the sigmoid function and binary cross-entropy, the expected **theoretical loss** for random predictions should be close to **`log(2)`** (around 0.693). This is because a random guess for each label would yield about a 50% probability for being either 0 or 1.\n",
        "\n",
        "- The process here involves running a single forward pass on a batch of data and computing the loss without any gradients. If the actual loss from the untrained model is close to **`log(2)`**, it suggests that our model architecture and data processing are set up correctly, and we’re ready to move forward.\n",
        "\n",
        "This step helps catch any potential issues early on, so we don’t waste time training a model that has fundamental errors in its setup.\n"
      ],
      "metadata": {
        "id": "rITnmgk31Zk_"
      }
    },
    {
      "cell_type": "code",
      "source": [
        "# Running the DataLoader for the first batch to inspect the data\n",
        "for inputs, targets in train_loader:\n",
        "    # Print the shape and device of targets (labels)\n",
        "    print(f\"targets shape: {targets.shape}, targets device: {targets.device}\")\n",
        "\n",
        "    # Move the data to the appropriate device (GPU or CPU)\n",
        "    inputs = inputs.to(device)\n",
        "    targets = targets.to(device)\n",
        "\n",
        "    # Print again after moving to the device\n",
        "    print(f\"targets device after moving: {targets.device}\")\n",
        "\n",
        "    # Ensure all data is on the same device\n",
        "    assert next(model_sparse_stack.parameters()).device == device, \"Model not on the same device!\"\n",
        "\n",
        "    # Pass it through the model to ensure the forward pass works\n",
        "    model_stack.eval()\n",
        "    with torch.no_grad():\n",
        "      outputs = model_sparse_stack(inputs)  # Forward pass with unpacked inputs\n",
        "      loss = loss_function(outputs, targets)\n",
        "      print(f'Actual loss: {loss.item()}')\n",
        "\n",
        "      break\n",
        "    # Print output shape and ensure it matches target shape\n",
        "    print(f\"Output shape: {output.shape}, Output device: {output.device}\")\n",
        "    print(f\"Expected target shape: {targets.shape}\")\n",
        "\n",
        "    break  # Stop after the first batch for debugging purposes"
      ],
      "metadata": {
        "colab": {
          "base_uri": "https://localhost:8080/"
        },
        "id": "g9N1vNWO7g-d",
        "outputId": "66bacef2-1dac-48ee-b1da-c21fa4710f49"
      },
      "execution_count": null,
      "outputs": [
        {
          "output_type": "stream",
          "name": "stdout",
          "text": [
            "targets shape: torch.Size([128, 10]), targets device: cpu\n",
            "targets device after moving: cuda:0\n",
            "Actual loss: 0.6448413133621216\n"
          ]
        }
      ]
    },
    {
      "cell_type": "markdown",
      "source": [
        "The actual loss matches around what we would expect the theoretical loss to be from a random guess."
      ],
      "metadata": {
        "id": "IHk4t7JyQst3"
      }
    },
    {
      "cell_type": "markdown",
      "source": [
        "## <font color = 'hotpink'>**Training**"
      ],
      "metadata": {
        "id": "aO_hSozpQ--Y"
      }
    },
    {
      "cell_type": "code",
      "source": [
        "# calling the training function for the model\n",
        "train_losses, train_hamming,valid_losses, valid_hamming = train(\n",
        "    train_loader, valid_loader, model_stack, optimizer,loss_function,EPOCHS,device, patience = PATIENCE\n",
        ")"
      ],
      "metadata": {
        "colab": {
          "base_uri": "https://localhost:8080/"
        },
        "id": "FEkwBdAQEk6U",
        "outputId": "46749c5d-7b7e-431d-ee74-6ed3248f872b"
      },
      "execution_count": null,
      "outputs": [
        {
          "output_type": "stream",
          "name": "stdout",
          "text": [
            "Epoch 1/5\n",
            "Train loss:0.6441 | Train Hamming Distance: 0.31478466406589795\n",
            "Validation loss: 0.6198 | Validation Hamming Distance:0.2230887532234192\n",
            "\n",
            "Epoch 2/5\n",
            "Train loss:0.6424 | Train Hamming Distance: 0.3138622669111781\n",
            "Validation loss: 0.6220 | Validation Hamming Distance:0.22413041392962138\n",
            "\n",
            "Epoch 3/5\n",
            "Train loss:0.6437 | Train Hamming Distance: 0.314820772459527\n",
            "Validation loss: 0.6212 | Validation Hamming Distance:0.22286528547604878\n",
            "\n",
            "Epoch 4/5\n",
            "Train loss:0.6439 | Train Hamming Distance: 0.3149619217680282\n",
            "Validation loss: 0.6193 | Validation Hamming Distance:0.2226189434528351\n",
            "\n",
            "Epoch 5/5\n",
            "Train loss:0.6441 | Train Hamming Distance: 0.31489627100840334\n",
            "Validation loss: 0.6206 | Validation Hamming Distance:0.22386683722337086\n",
            "\n"
          ]
        }
      ]
    },
    {
      "cell_type": "code",
      "source": [
        "def plot_history(train_losses, train_metrics, val_losses=None, val_metrics=None):\n",
        "    \"\"\"\n",
        "    Plot training and validation loss and metrics over epochs.\n",
        "\n",
        "    Args:\n",
        "        train_losses (list): List of training losses for each epoch.\n",
        "        train_metrics (list): List of training metrics (e.g., accuracy) for each epoch.\n",
        "        val_losses (list, optional): List of validation losses for each epoch.\n",
        "        val_metrics (list, optional): List of validation metrics for each epoch.\n",
        "\n",
        "    Returns:\n",
        "        None\n",
        "    \"\"\"\n",
        "    # Determine the number of epochs based on the length of train_losses\n",
        "    epochs = range(1, len(train_losses) + 1)\n",
        "\n",
        "    # Plotting training and validation losses\n",
        "    plt.figure()\n",
        "    plt.plot(epochs, train_losses, label=\"Train\")  # Plot training losses\n",
        "    if val_losses:  # Check if validation losses are provided\n",
        "        plt.plot(epochs, val_losses, label=\"Validation\")  # Plot validation losses\n",
        "    plt.xlabel(\"Epochs\")\n",
        "    plt.ylabel(\"Loss\")\n",
        "    plt.legend()\n",
        "    plt.show()\n",
        "\n",
        "    # Plotting training and validation metrics\n",
        "    if train_metrics[0] is not None:  # Check if training metrics are available\n",
        "        plt.figure()\n",
        "        plt.plot(epochs, train_metrics, label=\"Train\")  # Plot training metrics\n",
        "        if val_metrics:  # Check if validation metrics are provided\n",
        "            plt.plot(epochs, val_metrics, label=\"Validation\")  # Plot validation metrics\n",
        "        plt.xlabel(\"Epochs\")\n",
        "        plt.ylabel(\"Metric\")\n",
        "        plt.legend()\n",
        "        plt.show()"
      ],
      "metadata": {
        "id": "0GGKJkpuRg8f"
      },
      "execution_count": null,
      "outputs": []
    },
    {
      "cell_type": "code",
      "source": [
        "plot_history(train_losses, train_hamming, valid_losses, valid_hamming)"
      ],
      "metadata": {
        "colab": {
          "base_uri": "https://localhost:8080/",
          "height": 882
        },
        "id": "P2RUUsBCSxAZ",
        "outputId": "ab4179c4-1b8f-4bd2-cdc2-9e36938165a1"
      },
      "execution_count": null,
      "outputs": [
        {
          "output_type": "display_data",
          "data": {
            "text/plain": [
              "<Figure size 640x480 with 1 Axes>"
            ],
            "image/png": "[encoded data removed]"
          },
          "metadata": {}
        },
        {
          "output_type": "display_data",
          "data": {
            "text/plain": [
              "<Figure size 640x480 with 1 Axes>"
            ],
            "image/png": "[encoded data removed]"
          },
          "metadata": {}
        }
      ]
    },
    {
      "cell_type": "markdown",
      "source": [
        "# <font color='hotpink'>**Training Analysis**</font>\n",
        "\n",
        "- Based on the results from the epoch outputs and the training plots, it is obvious this sparse model is not performing well or even improving over time, it is <font color = 'hotpink'>**underfitting.**</font>\n",
        "- This is probably because the **TF-IDF embeddings** are <font color='hotpink'>pretrained and do not change or learn</font> within the layers of the model.\n",
        "- In other words, it means that the <font color='hotpink'>sentiment and meaning</font> of the words within the **TF-IDF vector space** is not conducive to analyzing the **semantic meaning** within our specific set of documents.\n",
        "- Based on my research, it seems like this is a common occurrence when attempting to classify documents based on content.\n",
        "- Going forward, this will mark the point of me solidly understanding the <font color='hotpink'>difference</font> between using **pretrained embeddings** like TF-IDF versus **learnable embeddings**.\n",
        "- We will still go through the rest of the model evaluation steps below.\n",
        "\n",
        "\n"
      ],
      "metadata": {
        "id": "0joCIxRJTYBr"
      }
    },
    {
      "cell_type": "markdown",
      "source": [
        "**Checkpoint**"
      ],
      "metadata": {
        "id": "lCtne47cV3iM"
      }
    },
    {
      "cell_type": "code",
      "source": [
        "# Get the current timestamp in the format \"YYYY-MM-DD_HH-MM-SS\"\n",
        "timestamp = datetime.now().strftime(\"%Y-%m-%d_%H-%M-%S\")\n",
        "\n",
        "# Define a suffix for the file name\n",
        "suffix = 'twolayer_sparse'\n",
        "\n",
        "# Combine the timestamp and suffix to create the file path\n",
        "path = model_folder / f'{timestamp}_{suffix}.pt'\n",
        "path"
      ],
      "metadata": {
        "colab": {
          "base_uri": "https://localhost:8080/"
        },
        "id": "0FZLMG22S8Zx",
        "outputId": "289f6487-a80c-47ea-b09a-b366628b3ef1"
      },
      "execution_count": null,
      "outputs": [
        {
          "output_type": "execute_result",
          "data": {
            "text/plain": [
              "PosixPath('/content/drive/MyDrive/Colab Notebooks/models/nlp_fall_2024/stack/2024-09-29_22-28-52_twolayer_sparse.pt')"
            ]
          },
          "metadata": {},
          "execution_count": 112
        }
      ]
    },
    {
      "cell_type": "code",
      "source": [
        "# Save the model's state dictionary to the specified file path\n",
        "torch.save(model_stack.state_dict(), path)\n"
      ],
      "metadata": {
        "id": "xnZk5_8eVv_W"
      },
      "execution_count": null,
      "outputs": []
    },
    {
      "cell_type": "code",
      "source": [
        "\n",
        "def get_hamming_distance_pred(data_loader, model, device):\n",
        "    \"\"\"\n",
        "    Function to get predictions and Hamming distance for a given dataset using a trained model.\n",
        "    Input: data iterator, model, device\n",
        "    Output: predictions, actual labels, and Hamming distance for the given dataset.\n",
        "    \"\"\"\n",
        "    model = model.to(device)\n",
        "    model.eval()  # Set model to evaluation mode\n",
        "\n",
        "    # Initialize empty tensors to store predictions and actual labels\n",
        "    predictions = torch.Tensor().to(device)\n",
        "    y = torch.Tensor().to(device)\n",
        "\n",
        "    # Hamming distance metric (adjust num_labels to match your model's output size)\n",
        "    hamming_metric = HammingDistance(task='multilabel', num_labels=NUM_OUTPUTS).to(device)\n",
        "\n",
        "    running_hamming_distance = 0.0\n",
        "\n",
        "    # Disable gradient computation\n",
        "    with torch.no_grad():\n",
        "        # Iterate over batches from data loader\n",
        "        for inputs, targets in data_loader:  # The missing loop\n",
        "            # Move inputs and targets to the device\n",
        "            inputs = inputs.to(device)\n",
        "            targets = targets.to(device)\n",
        "\n",
        "            # Forward pass: get model predictions\n",
        "            outputs = model(inputs)\n",
        "\n",
        "            # Apply threshold to convert outputs to binary predictions (e.g., 0.5 threshold)\n",
        "            predicted = (outputs > 0.5).float()\n",
        "\n",
        "            # Concatenate predictions and targets for the full dataset\n",
        "            predictions = torch.cat((predictions, predicted))\n",
        "            y = torch.cat((y, targets))\n",
        "\n",
        "            # Compute Hamming distance for the current batch\n",
        "            batch_hamming_distance = hamming_metric(predicted, targets).item()\n",
        "            running_hamming_distance += batch_hamming_distance\n",
        "\n",
        "    # Calculate average Hamming distance for the entire dataset\n",
        "    avg_hamming_distance = running_hamming_distance / len(data_loader)\n",
        "\n",
        "    return predictions, y, avg_hamming_distance\n"
      ],
      "metadata": {
        "id": "WAKe3m-mab4e"
      },
      "execution_count": null,
      "outputs": []
    },
    {
      "cell_type": "code",
      "source": [
        "predictions_valid, labels_valid, avg_hamming_distance = get_hamming_distance_pred(valid_loader, model_stack, device)\n",
        "print(f\"Average Hamming Distance on validation set: {avg_hamming_distance:.4f}\")\n"
      ],
      "metadata": {
        "colab": {
          "base_uri": "https://localhost:8080/"
        },
        "id": "ncCic_1QZLfH",
        "outputId": "4ba76ff0-e25e-4f66-8a4e-21a659116fac"
      },
      "execution_count": null,
      "outputs": [
        {
          "output_type": "stream",
          "name": "stdout",
          "text": [
            "Average Hamming Distance on validation set: 0.2237\n"
          ]
        }
      ]
    },
    {
      "cell_type": "markdown",
      "source": [
        "### <font color='hotpink'>**Hamming Score on Validation**</font>\n",
        "- Based on the average hamming distance of this model it is easy for me to see how much worse this model is performing than the dense embedding bag approach.\n",
        "- The average hamming distance here equates to incorrectly selecting 22.3% of the labels.\n",
        "- This an indicator that the model will not improve or generalize well with more data.\n"
      ],
      "metadata": {
        "id": "71GFxQDQ546d"
      }
    },
    {
      "cell_type": "code",
      "source": [
        "predictions_valid.shape"
      ],
      "metadata": {
        "colab": {
          "base_uri": "https://localhost:8080/"
        },
        "id": "XWqWA2BKZOyz",
        "outputId": "d3f7aeb0-2b41-423d-fbfa-4ab0def035e8"
      },
      "execution_count": null,
      "outputs": [
        {
          "output_type": "execute_result",
          "data": {
            "text/plain": [
              "torch.Size([7589, 10])"
            ]
          },
          "metadata": {},
          "execution_count": 118
        }
      ]
    },
    {
      "cell_type": "code",
      "source": [
        "labels_valid.shape"
      ],
      "metadata": {
        "colab": {
          "base_uri": "https://localhost:8080/"
        },
        "id": "26dHQ_gnZ9k_",
        "outputId": "b9b131f2-2ead-4454-c0aa-78f5728387d4"
      },
      "execution_count": null,
      "outputs": [
        {
          "output_type": "execute_result",
          "data": {
            "text/plain": [
              "torch.Size([7589, 10])"
            ]
          },
          "metadata": {},
          "execution_count": 67
        }
      ]
    },
    {
      "cell_type": "code",
      "source": [
        "def plot_multilabel_confusion_matrix(valid_labels, valid_preds, class_labels):\n",
        "    \"\"\"\n",
        "    Plots multiple confusion matrices for each label in a multilabel classification task.\n",
        "\n",
        "    Args:\n",
        "        valid_labels (torch.Tensor): True labels of the validation data.\n",
        "        valid_preds (torch.Tensor): Predicted labels of the validation data.\n",
        "        class_labels (list): List of class names for the labels.\n",
        "    \"\"\"\n",
        "    num_classes = len(class_labels)\n",
        "\n",
        "    # Create a 10x10 grid for confusion matrices\n",
        "    fig, axes = plt.subplots(nrows=2, ncols=5, figsize=(20, 10))  # Adjust for 10 classes\n",
        "\n",
        "    for i, ax in enumerate(axes.flat):\n",
        "        if i >= num_classes:\n",
        "            break\n",
        "\n",
        "        # Compute the confusion matrix for the current class\n",
        "        cm = confusion_matrix(valid_labels[:, i].cpu(), valid_preds[:, i].cpu())\n",
        "\n",
        "        # Plot the confusion matrix using Seaborn\n",
        "        sns.heatmap(cm, annot=True, fmt=\"d\", cmap=\"PiYG\", ax=ax, cbar=True)\n",
        "\n",
        "        # Set labels and title for each subplot\n",
        "        ax.set_xlabel('Predicted')\n",
        "        ax.set_ylabel('True')\n",
        "        ax.set_title(f'Confusion Matrix for {class_labels[i]}')\n",
        "\n",
        "    plt.tight_layout()\n",
        "    plt.show()"
      ],
      "metadata": {
        "id": "bKbWsFczbjj6"
      },
      "execution_count": null,
      "outputs": []
    },
    {
      "cell_type": "code",
      "source": [
        "# First, get the predictions and actual labels\n",
        "predictions, y_true, avg_hamming_distance = get_hamming_distance_pred(valid_loader, model_stack, device)\n",
        "\n",
        "print(f\"Average Hamming Distance on validation set: {avg_hamming_distance:.4f}\")\n",
        "\n",
        "class_labels = ['c#', 'java', 'php', 'javascript', 'android', 'jquery', 'c++', 'python', 'iphone', 'asp.net']\n",
        "\n",
        "\n",
        "# Plot the confusion matrices\n",
        "plot_multilabel_confusion_matrix(y_true, predictions, class_labels)\n"
      ],
      "metadata": {
        "colab": {
          "base_uri": "https://localhost:8080/",
          "height": 510
        },
        "id": "4Q7T86rraAyv",
        "outputId": "c01a3a82-6d6e-40f0-98e6-9b13cfdd2884"
      },
      "execution_count": null,
      "outputs": [
        {
          "output_type": "stream",
          "name": "stdout",
          "text": [
            "Average Hamming Distance on validation set: 0.2236\n"
          ]
        },
        {
          "output_type": "display_data",
          "data": {
            "text/plain": [
              "<Figure size 2000x1000 with 20 Axes>"
            ],
            "image/png": "[encoded data removed]"
          },
          "metadata": {}
        }
      ]
    },
    {
      "cell_type": "markdown",
      "source": [
        "<"
      ],
      "metadata": {
        "id": "r450ZSn0dGcZ"
      }
    },
    {
      "cell_type": "markdown",
      "source": [
        "### <font color = 'hotpink'>**Confusion Matrix Analysis**\n",
        "\n",
        "- The outputs here clearly show similar results to what has already been mentioned above.\n",
        "- For the most part it seems that the model is just classifying many of the labels as negative (not having the label present).\n",
        "\n",
        "\n"
      ],
      "metadata": {
        "id": "yfN7_98VeHHy"
      }
    },
    {
      "cell_type": "markdown",
      "source": [
        "# <font color = 'hotpink'>**Model Testing**\n"
      ],
      "metadata": {
        "id": "a9jfdSjbgLo8"
      }
    },
    {
      "cell_type": "code",
      "source": [
        "trained_model_sparse_stack = CustomMLP(input_dim = INPUT_DIM,\n",
        "                        hidden_dim1 = HIDDEN_DIM1,\n",
        "                        hidden_dim2 = HIDDEN_DIM2,\n",
        "                        drop_prob1 = DROP_PROB1,\n",
        "                        drop_prob2 = DROP_PROB2,\n",
        "                        num_outputs = NUM_OUTPUTS)\n",
        "\n",
        "checkpoint = torch.load(path) # saving the model to a file and passing the weights to the checkpoint to make predictions.\n",
        "trained_model_sparse_stack.load_state_dict(checkpoint)"
      ],
      "metadata": {
        "colab": {
          "base_uri": "https://localhost:8080/"
        },
        "id": "i7uwR5Vob8IA",
        "outputId": "21e48720-3680-48d0-b672-623a942861de"
      },
      "execution_count": null,
      "outputs": [
        {
          "output_type": "stream",
          "name": "stderr",
          "text": [
            "<ipython-input-122-5d5d56e8baae>:8: FutureWarning: You are using `torch.load` with `weights_only=False` (the current default value), which uses the default pickle module implicitly. It is possible to construct malicious pickle data which will execute arbitrary code during unpickling (See https://github.com/pytorch/pytorch/blob/main/SECURITY.md#untrusted-models for more details). In a future release, the default value for `weights_only` will be flipped to `True`. This limits the functions that could be executed during unpickling. Arbitrary objects will no longer be allowed to be loaded via this mode unless they are explicitly allowlisted by the user via `torch.serialization.add_safe_globals`. We recommend you start setting `weights_only=True` for any use case where you don't have full control of the loaded file. Please open an issue on GitHub for any issues related to this experimental feature.\n",
            "  checkpoint = torch.load(path) # saving the model to a file and passing the weights to the checkpoint to make predictions.\n"
          ]
        },
        {
          "output_type": "execute_result",
          "data": {
            "text/plain": [
              "<All keys matched successfully>"
            ]
          },
          "metadata": {},
          "execution_count": 122
        }
      ]
    },
    {
      "cell_type": "code",
      "source": [
        "from sklearn.metrics import precision_score, recall_score, f1_score\n",
        "\n",
        "def compute_metrics(y_true, y_pred, class_labels):\n",
        "    \"\"\"\n",
        "    Computes precision, recall, and F1 score for each class in a multilabel classification task.\n",
        "\n",
        "    Args:\n",
        "    - y_true: Ground truth labels (multilabel format).\n",
        "    - y_pred: Predicted labels (multilabel format).\n",
        "    - class_labels: List of class names.\n",
        "\n",
        "    Returns:\n",
        "    - result_table: A list of lists containing precision, recall, and F1 score for each class.\n",
        "    \"\"\"\n",
        "    result_table = []\n",
        "\n",
        "    for i, class_label in enumerate(class_labels):\n",
        "        # Get true values and predicted values for the current class\n",
        "        true_class = y_true[:, i].cpu().numpy()\n",
        "        pred_class = y_pred[:, i].cpu().numpy()\n",
        "\n",
        "        # Compute precision, recall, and F1 score\n",
        "        precision = precision_score(true_class, pred_class, zero_division=1)\n",
        "        recall = recall_score(true_class, pred_class, zero_division=1)\n",
        "        f1 = f1_score(true_class, pred_class, zero_division=1)\n",
        "\n",
        "        # Append the results for the current class\n",
        "        result_table.append([class_label, precision, recall, f1])\n",
        "\n",
        "    return result_table"
      ],
      "metadata": {
        "id": "w8buRQJ4nILJ"
      },
      "execution_count": null,
      "outputs": []
    },
    {
      "cell_type": "code",
      "source": [
        "# Getting the predicitions\n",
        "predictions_test, labels_test, avg_test_hamming_distance = get_hamming_distance_pred(test_loader, trained_model_sparse_stack, device)\n",
        "\n",
        "# Printing the hamming distance\n",
        "print(f\"Average Hamming Distance on testing set: {avg_test_hamming_distance:.4f}\")\n",
        "\n",
        "# Example usage (after running your model and getting predictions)\n",
        "class_labels = ['c#', 'java', 'php', 'javascript', 'android', 'jquery', 'c++', 'python', 'iphone', 'asp.net']\n",
        "\n",
        "# Plot the confusion matrices\n",
        "plot_multilabel_confusion_matrix(labels_test, predictions_test, class_labels)\n",
        "# Assuming y_true and y_pred contain your true labels and predicted labels as tensors\n",
        "result_table = compute_metrics(labels_test, predictions_test, class_labels)\n",
        "\n",
        "# Print the table\n",
        "import pandas as pd\n",
        "df = pd.DataFrame(result_table, columns=[\"Class\", \"Precision\", \"Recall\", \"F1 Score\"])\n",
        "print(df)"
      ],
      "metadata": {
        "colab": {
          "base_uri": "https://localhost:8080/",
          "height": 707
        },
        "id": "1vFOVsO8g2XB",
        "outputId": "5c1f3c0e-8c32-4374-a41a-4f20decac752"
      },
      "execution_count": null,
      "outputs": [
        {
          "output_type": "stream",
          "name": "stdout",
          "text": [
            "Average Hamming Distance on testing set: 0.2228\n"
          ]
        },
        {
          "output_type": "display_data",
          "data": {
            "text/plain": [
              "<Figure size 2000x1000 with 20 Axes>"
            ],
            "image/png": "[encoded data removed]"
          },
          "metadata": {}
        },
        {
          "output_type": "stream",
          "name": "stdout",
          "text": [
            "        Class  Precision    Recall  F1 Score\n",
            "0          c#   0.000000  0.000000  0.000000\n",
            "1        java   0.166667  0.001221  0.002424\n",
            "2         php   0.075000  0.013321  0.022624\n",
            "3  javascript   0.739130  0.003111  0.006195\n",
            "4     android   0.110256  0.028859  0.045745\n",
            "5      jquery   0.682927  0.005537  0.010985\n",
            "6         c++   0.066667  0.024691  0.036036\n",
            "7      python   0.008048  0.030303  0.012719\n",
            "8      iphone   0.000000  0.000000  0.000000\n",
            "9     asp.net   0.181524  0.045326  0.072539\n"
          ]
        }
      ]
    },
    {
      "cell_type": "markdown",
      "source": [
        "\n",
        "###  <font color = 'hotpink'>**Hamming Distance:**\n",
        "- The **average Hamming distance** matches a similar result from the validation predictions indicating that roughly 22.3% of labels were incorrectly selected.\n",
        "\n",
        "### <font color = 'hotpink'>**Precision, Recall and F1**\n",
        "- These metrics are there just for reference among the different labels.\n"
      ],
      "metadata": {
        "id": "MN9uCvb6jBlZ"
      }
    },
    {
      "cell_type": "markdown",
      "source": [
        "# <font color = 'hotpink'>**Inference Pipeline**</font>\n",
        "\n"
      ],
      "metadata": {
        "id": "n7clywu_oKg8"
      }
    },
    {
      "cell_type": "code",
      "source": [
        "sample_X = X_test[0:5]"
      ],
      "metadata": {
        "id": "mbCLSMOth5iN"
      },
      "execution_count": null,
      "outputs": []
    },
    {
      "cell_type": "code",
      "source": [
        "# Preprocessing the input\n",
        "sample_X = X_test[0:5]\n",
        "device = 'cpu'\n",
        "\n",
        "# Move model to the appropriate device\n",
        "trained_model_sparse_stack.to(device)\n",
        "\n",
        "sample_X_tensor = torch.tensor(sample_X.toarray(),dtype = torch.float32).to(device)\n",
        "# Put model in evaluation mode\n",
        "trained_model_sparse_stack.eval()\n",
        "\n",
        "# Get outputs (logits) from the model\n",
        "with torch.no_grad():\n",
        "    outputs = trained_model_sparse_stack(sample_X_tensor)\n",
        "\n",
        "# For multilabel classification, apply a threshold to determine class labels\n",
        "predictions = (outputs > 0.5).float()  # Convert logits to binary predictions\n",
        "\n",
        "# Define the mapping for class labels\n",
        "class_labels = ['c#', 'java', 'php', 'javascript', 'android', 'jquery', 'c++', 'python', 'iphone', 'asp.net']\n",
        "\n",
        "# Get predicted labels for each sample\n",
        "predicted_label_names = []\n",
        "for sample_pred in predictions:\n",
        "    predicted_classes = [class_labels[i] for i in range(len(class_labels)) if sample_pred[i] == 1]\n",
        "    predicted_label_names.append(predicted_classes)\n",
        "\n",
        "# Print the predicted labels for each sample\n",
        "for i, label_names in enumerate(predicted_label_names):\n",
        "    print(f\"Sample {i+1}: {label_names}\")\n"
      ],
      "metadata": {
        "colab": {
          "base_uri": "https://localhost:8080/"
        },
        "id": "JfNMOhR2qYS-",
        "outputId": "5eb5b117-a25e-41f9-89f1-eb86dd2ec86b"
      },
      "execution_count": null,
      "outputs": [
        {
          "output_type": "stream",
          "name": "stdout",
          "text": [
            "Sample 1: []\n",
            "Sample 2: []\n",
            "Sample 3: []\n",
            "Sample 4: []\n",
            "Sample 5: ['javascript', 'asp.net']\n"
          ]
        }
      ]
    },
    {
      "cell_type": "markdown",
      "source": [
        "## <font color = 'hotpink'>**Final Thoughts**\n",
        "\n",
        "- Above we can see that similarly how the confusion matrix showed instances of no label being predicted across multiple label types, this inference shows us no predicted labels for four of the documents.\n",
        "- This is an extremely different outcome than that of the dense embeddings model where we obtained predictions for all of the documents in the sample.\n",
        "- This is clearly because dense embeddings capture contextual meaning and relationships between words, leading to broader and more accurate predictions across documents.\n",
        "- This is not a model we would want to use when classifying the semantic contents of bodies of text.\n",
        "- This concludes my exercise in building MLP models using both dense and pretrained sparse embeddings."
      ],
      "metadata": {
        "id": "Xy30gIOr-Ifg"
      }
    },
    {
      "cell_type": "code",
      "source": [],
      "metadata": {
        "id": "IAlooU0k9p8L"
      },
      "execution_count": null,
      "outputs": []
    }
  ]
}